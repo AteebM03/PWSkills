{
  "nbformat": 4,
  "nbformat_minor": 0,
  "metadata": {
    "colab": {
      "provenance": []
    },
    "kernelspec": {
      "name": "python3",
      "display_name": "Python 3"
    },
    "language_info": {
      "name": "python"
    }
  },
  "cells": [
    {
      "cell_type": "code",
      "execution_count": null,
      "metadata": {
        "colab": {
          "base_uri": "https://localhost:8080/",
          "height": 35
        },
        "id": "dLKsaj3AGg-q",
        "outputId": "23133c0e-ba0c-4e0c-ff73-595041f46333"
      },
      "outputs": [
        {
          "output_type": "execute_result",
          "data": {
            "text/plain": [
              "'ell'"
            ],
            "application/vnd.google.colaboratory.intrinsic+json": {
              "type": "string"
            }
          },
          "metadata": {},
          "execution_count": 1
        }
      ],
      "source": [
        "# 1. Discuss string slicing and provide examples.\n",
        "\n",
        "#Basic Slicing: Extract a portion of a string using string[start:end], where start is inclusive and end is exclusive.\n",
        "#Example: \"hello\"[1:4] results in \"ell\".\n",
        "\"hello\"[1:4]"
      ]
    },
    {
      "cell_type": "code",
      "source": [
        "#Omitting Start/End: If you omit start, slicing begins from the beginning, and if you omit end, slicing continues to the end.\n",
        "#Example: \"hello\"[:3] results in \"hel\", and \"hello\"[2:] results in \"llo\".\n",
        "\"hello\"[:3]"
      ],
      "metadata": {
        "colab": {
          "base_uri": "https://localhost:8080/",
          "height": 35
        },
        "id": "iNxf3-KwKmC9",
        "outputId": "44b20a6c-f249-4e43-819d-f8e441aec061"
      },
      "execution_count": null,
      "outputs": [
        {
          "output_type": "execute_result",
          "data": {
            "text/plain": [
              "'hel'"
            ],
            "application/vnd.google.colaboratory.intrinsic+json": {
              "type": "string"
            }
          },
          "metadata": {},
          "execution_count": 2
        }
      ]
    },
    {
      "cell_type": "code",
      "source": [
        "\"hello\"[2:]"
      ],
      "metadata": {
        "colab": {
          "base_uri": "https://localhost:8080/",
          "height": 35
        },
        "id": "xH8rCkGfK6DV",
        "outputId": "a69a4973-dfe8-4731-95cc-f1a520f715bd"
      },
      "execution_count": null,
      "outputs": [
        {
          "output_type": "execute_result",
          "data": {
            "text/plain": [
              "'llo'"
            ],
            "application/vnd.google.colaboratory.intrinsic+json": {
              "type": "string"
            }
          },
          "metadata": {},
          "execution_count": 3
        }
      ]
    },
    {
      "cell_type": "code",
      "source": [
        "#Negative Indices: Use negative indices to count from the end of the string.\n",
        "#Example: \"hello\"[-4:-1] results in \"ell\".\n",
        "\"hello\"[-4:-1]"
      ],
      "metadata": {
        "colab": {
          "base_uri": "https://localhost:8080/",
          "height": 35
        },
        "id": "gvRf2kxfK-JR",
        "outputId": "3fb21365-d8cf-4dd0-feeb-ec8e068c21a8"
      },
      "execution_count": null,
      "outputs": [
        {
          "output_type": "execute_result",
          "data": {
            "text/plain": [
              "'ell'"
            ],
            "application/vnd.google.colaboratory.intrinsic+json": {
              "type": "string"
            }
          },
          "metadata": {},
          "execution_count": 4
        }
      ]
    },
    {
      "cell_type": "code",
      "source": [
        "#Step Parameter: Use string[start:end:step] to specify a step value for slicing.\n",
        "#Example: \"hello\"[::2] results in \"hlo\".\n",
        "\"hello\"[::2]\n"
      ],
      "metadata": {
        "colab": {
          "base_uri": "https://localhost:8080/",
          "height": 35
        },
        "id": "1_3nFCHOLHJ2",
        "outputId": "4c206428-2933-4b4c-85e5-f774f025446e"
      },
      "execution_count": null,
      "outputs": [
        {
          "output_type": "execute_result",
          "data": {
            "text/plain": [
              "'hlo'"
            ],
            "application/vnd.google.colaboratory.intrinsic+json": {
              "type": "string"
            }
          },
          "metadata": {},
          "execution_count": 6
        }
      ]
    },
    {
      "cell_type": "code",
      "source": [
        "#Reversing Strings: A step of -1 can be used to reverse a string.\n",
        "#Example: \"hello\"[::-1] results in \"olleh\".\n",
        "\"hello\"[::-1]"
      ],
      "metadata": {
        "colab": {
          "base_uri": "https://localhost:8080/",
          "height": 35
        },
        "id": "h61FDE6CLQ3t",
        "outputId": "8aa766af-5d3c-445a-b832-eb05c00c4d8d"
      },
      "execution_count": null,
      "outputs": [
        {
          "output_type": "execute_result",
          "data": {
            "text/plain": [
              "'olleh'"
            ],
            "application/vnd.google.colaboratory.intrinsic+json": {
              "type": "string"
            }
          },
          "metadata": {},
          "execution_count": 7
        }
      ]
    },
    {
      "cell_type": "code",
      "source": [
        "# 2.Explain the key features of lists in Python.\n",
        "\n",
        "#Mutable: Lists can be modified after creation, allowing for element updates and deletions.\n",
        "#Example: my_list[3] = 10 changes the third element to 10.\n",
        "my_list = [0, 5, 10, 15, 20]\n",
        "my_list[3] = 10\n",
        "my_list"
      ],
      "metadata": {
        "colab": {
          "base_uri": "https://localhost:8080/"
        },
        "id": "S0eaKUgNLcxM",
        "outputId": "8ae86147-7756-4d8d-e231-cb8b322709fb"
      },
      "execution_count": null,
      "outputs": [
        {
          "output_type": "execute_result",
          "data": {
            "text/plain": [
              "[0, 5, 10, 10, 20]"
            ]
          },
          "metadata": {},
          "execution_count": 9
        }
      ]
    },
    {
      "cell_type": "code",
      "source": [
        "#Ordered: Elements in a list maintain their order based on their position.\n",
        "#Example: [1, 2, 3] has the same order as initially defined.\n",
        "list1 = [1, 2, 3]\n",
        "list1"
      ],
      "metadata": {
        "colab": {
          "base_uri": "https://localhost:8080/"
        },
        "id": "zeaI80_TMifT",
        "outputId": "d0b8abe6-8297-4b6e-b2f0-45b2624fd6f9"
      },
      "execution_count": null,
      "outputs": [
        {
          "output_type": "execute_result",
          "data": {
            "text/plain": [
              "[1, 2, 3]"
            ]
          },
          "metadata": {},
          "execution_count": 10
        }
      ]
    },
    {
      "cell_type": "code",
      "source": [
        "#Indexable: Elements can be accessed using their index position, with the first element at index 0.\n",
        "#Example: my_list[1] accesses the second element.\n",
        "my_list = [0, 5, 10, 15, 20]\n",
        "my_list[1]"
      ],
      "metadata": {
        "colab": {
          "base_uri": "https://localhost:8080/"
        },
        "id": "kb7fPhf_MxTn",
        "outputId": "75cd5ed6-942b-4678-8164-bb8ac3cdc29b"
      },
      "execution_count": null,
      "outputs": [
        {
          "output_type": "execute_result",
          "data": {
            "text/plain": [
              "5"
            ]
          },
          "metadata": {},
          "execution_count": 11
        }
      ]
    },
    {
      "cell_type": "code",
      "source": [
        "#Heterogeneous: Lists can contain elements of different data types.\n",
        "#Example: [1, \"hello\", 3.14] includes an integer, a string, and a float.\n",
        "list2 = [1, \"hello\", 3.14]\n",
        "print(type(list2),\n",
        "type(1),\n",
        "type(\"hello\"),\n",
        "type(3.14))\n"
      ],
      "metadata": {
        "colab": {
          "base_uri": "https://localhost:8080/"
        },
        "id": "IoUZ7qvUNLIQ",
        "outputId": "e335a126-dde2-43ed-ddce-5a6261ed9e12"
      },
      "execution_count": null,
      "outputs": [
        {
          "output_type": "stream",
          "name": "stdout",
          "text": [
            "<class 'list'> <class 'int'> <class 'str'> <class 'float'>\n"
          ]
        }
      ]
    },
    {
      "cell_type": "code",
      "source": [
        "#Dynamic Size: Lists can grow or shrink in size as elements are added or removed.\n",
        "#Example: my_list.append(25) adds an element to the end of the list.\n",
        "my_list = [0, 5, 10, 15, 20]\n",
        "my_list.append(25)\n",
        "my_list\n"
      ],
      "metadata": {
        "colab": {
          "base_uri": "https://localhost:8080/"
        },
        "id": "Zax1CpyeN4bX",
        "outputId": "f9f140c1-d342-4b21-f4af-a5a5b21a01b6"
      },
      "execution_count": null,
      "outputs": [
        {
          "output_type": "execute_result",
          "data": {
            "text/plain": [
              "[0, 5, 10, 15, 20, 25]"
            ]
          },
          "metadata": {},
          "execution_count": 15
        }
      ]
    },
    {
      "cell_type": "code",
      "source": [
        "# Iterable: Lists can be iterated over in loops and comprehensions.\n",
        "#Example: for item in my_list: print(item) prints each element.\n",
        "my_list = [0, 5, 10, 15, 20]\n",
        "for item in my_list:\n",
        "  print(item)\n"
      ],
      "metadata": {
        "colab": {
          "base_uri": "https://localhost:8080/"
        },
        "id": "1PF5GioAOeQy",
        "outputId": "0f080b36-7ca0-4c88-8d12-d681c18565db"
      },
      "execution_count": null,
      "outputs": [
        {
          "output_type": "stream",
          "name": "stdout",
          "text": [
            "0\n",
            "5\n",
            "10\n",
            "15\n",
            "20\n"
          ]
        }
      ]
    },
    {
      "cell_type": "code",
      "source": [
        "#Support for Nesting: Lists can contain other lists, enabling complex data structures.\n",
        "#Example: [[1, 2], [3, 4]] is a list of lists.\n",
        "list3 = [[1, 2], [3, 4]]\n",
        "print(type(list3), type(list3[0]))"
      ],
      "metadata": {
        "colab": {
          "base_uri": "https://localhost:8080/"
        },
        "id": "bOo9x5CmO0PB",
        "outputId": "b811978e-6136-4510-f9f0-42c4ce8e258d"
      },
      "execution_count": null,
      "outputs": [
        {
          "output_type": "stream",
          "name": "stdout",
          "text": [
            "<class 'list'> <class 'list'>\n"
          ]
        }
      ]
    },
    {
      "cell_type": "code",
      "source": [
        "# 3.Describe how to access, modify, and delete elements in a list with examples.\n",
        "\n",
        "#Accessing Elements: Use indexing to access elements by their position.\n",
        "#Example: my_list[0] retrieves the first element of the list.\n",
        "my_list = [0, 5, 10, 15, 20]\n",
        "my_list[0]\n"
      ],
      "metadata": {
        "colab": {
          "base_uri": "https://localhost:8080/"
        },
        "id": "09RMEyjUPYJ5",
        "outputId": "330af573-0094-477d-c0d6-b35497ba2e45"
      },
      "execution_count": null,
      "outputs": [
        {
          "output_type": "execute_result",
          "data": {
            "text/plain": [
              "0"
            ]
          },
          "metadata": {},
          "execution_count": 18
        }
      ]
    },
    {
      "cell_type": "code",
      "source": [
        "#Modifying Elements: Assign a new value to a specific index to change an element.\n",
        "#Example: my_list[1] = 7 updates the second element.\n",
        "my_list[1] = 7\n",
        "my_list\n"
      ],
      "metadata": {
        "colab": {
          "base_uri": "https://localhost:8080/"
        },
        "id": "NduewnWxS-ey",
        "outputId": "ffb262b7-c1f3-4153-a29e-0a65adbca69b"
      },
      "execution_count": null,
      "outputs": [
        {
          "output_type": "execute_result",
          "data": {
            "text/plain": [
              "[0, 7, 10, 15, 20]"
            ]
          },
          "metadata": {},
          "execution_count": 19
        }
      ]
    },
    {
      "cell_type": "code",
      "source": [
        "#Appending Elements: Use the append() method to add elements to the end of the list.\n",
        "#Example: my_list.append(25) adds 25 to the end of the list.\n",
        "my_list.append(25)\n",
        "my_list\n"
      ],
      "metadata": {
        "colab": {
          "base_uri": "https://localhost:8080/"
        },
        "id": "wnkR8Vz6TPBZ",
        "outputId": "cde09df1-9b0c-4f0f-f882-d683cc80eaac"
      },
      "execution_count": null,
      "outputs": [
        {
          "output_type": "execute_result",
          "data": {
            "text/plain": [
              "[0, 7, 10, 15, 20, 25]"
            ]
          },
          "metadata": {},
          "execution_count": 20
        }
      ]
    },
    {
      "cell_type": "code",
      "source": [
        "#Inserting Elements: Use the insert() method to add elements at a specific position.\n",
        "#Example: my_list.insert(2, 30) places 30 at index 2.\n",
        "my_list.insert(2, 30)\n",
        "my_list\n"
      ],
      "metadata": {
        "colab": {
          "base_uri": "https://localhost:8080/"
        },
        "id": "h7sEOQLMTcnp",
        "outputId": "b681b974-ee97-4b4f-df51-e7e6e2b38018"
      },
      "execution_count": null,
      "outputs": [
        {
          "output_type": "execute_result",
          "data": {
            "text/plain": [
              "[0, 7, 30, 10, 15, 20, 25]"
            ]
          },
          "metadata": {},
          "execution_count": 21
        }
      ]
    },
    {
      "cell_type": "code",
      "source": [
        "#Removing Elements by Value: Use the remove() method to delete the first occurrence of a value.\n",
        "#Example: my_list.remove(30) removes the first 30 found.\n",
        "my_list.remove(30)\n",
        "my_list\n"
      ],
      "metadata": {
        "colab": {
          "base_uri": "https://localhost:8080/"
        },
        "id": "ZWBBbs5bT03A",
        "outputId": "a90bb5bd-bf77-4de2-a754-ed9eb5ad0d04"
      },
      "execution_count": null,
      "outputs": [
        {
          "output_type": "execute_result",
          "data": {
            "text/plain": [
              "[0, 7, 10, 15, 20, 25]"
            ]
          },
          "metadata": {},
          "execution_count": 23
        }
      ]
    },
    {
      "cell_type": "code",
      "source": [
        "#Removing Elements by Index: pop() method to remove an element by index.\n",
        "#Example: my_list.pop(2) removes the element at index 2.\n",
        "my_list.pop(2)\n",
        "my_list\n"
      ],
      "metadata": {
        "colab": {
          "base_uri": "https://localhost:8080/"
        },
        "id": "sl7zatOUT8Zb",
        "outputId": "4c2125cb-b93f-42e5-f381-88acbcc454a3"
      },
      "execution_count": null,
      "outputs": [
        {
          "output_type": "execute_result",
          "data": {
            "text/plain": [
              "[0, 7, 15, 20, 25]"
            ]
          },
          "metadata": {},
          "execution_count": 24
        }
      ]
    },
    {
      "cell_type": "code",
      "source": [
        "#Clearing the List: Use the clear() method to remove all elements from the list.\n",
        "#Example: my_list.clear() empties the entire list.\n",
        "my_list.clear()\n",
        "my_list\n"
      ],
      "metadata": {
        "colab": {
          "base_uri": "https://localhost:8080/"
        },
        "id": "rtZg-q08Ud4x",
        "outputId": "8d415857-cf7c-47af-daed-99f4e924fc04"
      },
      "execution_count": null,
      "outputs": [
        {
          "output_type": "execute_result",
          "data": {
            "text/plain": [
              "[]"
            ]
          },
          "metadata": {},
          "execution_count": 25
        }
      ]
    },
    {
      "cell_type": "code",
      "source": [
        "# 4.Compare and contrast tuples and lists with examples.\n",
        "\n",
        "# Mutability: Lists are mutable (can be changed), while tuples are immutable (cannot be changed).\n",
        "#Example: list1[1] = 10 works, but tuple1[1] = 10 raises an error.\n",
        "list1 = [5, 7, 15, 20]\n",
        "list1[1] = 10\n",
        "list1\n"
      ],
      "metadata": {
        "id": "-C25VqEHUmMt",
        "colab": {
          "base_uri": "https://localhost:8080/"
        },
        "outputId": "be7486e9-7c96-4d4e-ac4c-c69fd1abdb58"
      },
      "execution_count": null,
      "outputs": [
        {
          "output_type": "execute_result",
          "data": {
            "text/plain": [
              "[5, 10, 15, 20]"
            ]
          },
          "metadata": {},
          "execution_count": 1
        }
      ]
    },
    {
      "cell_type": "code",
      "source": [
        "tuple1 = (5, 7, 15, 20)\n",
        "tuple1[1] = 10"
      ],
      "metadata": {
        "colab": {
          "base_uri": "https://localhost:8080/",
          "height": 162
        },
        "id": "a79kW2v8L9Zk",
        "outputId": "44be92dd-b160-43b9-a823-a35ae6f21dcc"
      },
      "execution_count": null,
      "outputs": [
        {
          "output_type": "error",
          "ename": "TypeError",
          "evalue": "'tuple' object does not support item assignment",
          "traceback": [
            "\u001b[0;31m---------------------------------------------------------------------------\u001b[0m",
            "\u001b[0;31mTypeError\u001b[0m                                 Traceback (most recent call last)",
            "\u001b[0;32m<ipython-input-2-d67a7d079bda>\u001b[0m in \u001b[0;36m<cell line: 2>\u001b[0;34m()\u001b[0m\n\u001b[1;32m      1\u001b[0m \u001b[0mtuple1\u001b[0m \u001b[0;34m=\u001b[0m \u001b[0;34m(\u001b[0m\u001b[0;36m5\u001b[0m\u001b[0;34m,\u001b[0m \u001b[0;36m7\u001b[0m\u001b[0;34m,\u001b[0m \u001b[0;36m15\u001b[0m\u001b[0;34m,\u001b[0m \u001b[0;36m20\u001b[0m\u001b[0;34m)\u001b[0m\u001b[0;34m\u001b[0m\u001b[0;34m\u001b[0m\u001b[0m\n\u001b[0;32m----> 2\u001b[0;31m \u001b[0mtuple1\u001b[0m\u001b[0;34m[\u001b[0m\u001b[0;36m1\u001b[0m\u001b[0;34m]\u001b[0m \u001b[0;34m=\u001b[0m \u001b[0;36m10\u001b[0m\u001b[0;34m\u001b[0m\u001b[0;34m\u001b[0m\u001b[0m\n\u001b[0m",
            "\u001b[0;31mTypeError\u001b[0m: 'tuple' object does not support item assignment"
          ]
        }
      ]
    },
    {
      "cell_type": "code",
      "source": [
        "#Syntax: Lists use square brackets [], whereas tuples use parentheses ().\n",
        "#Eample: [1, 2, 3] is a list; (1, 2, 3) is a tuple.\n",
        "\n",
        "#Methods: Lists have methods like append() and remove(), while tuples have fewer methods, mostly related to counting and finding elements.\n",
        "#Example: list1.append(25) works, but tuple1.append(25) does not.\n",
        "list1.append(25)\n",
        "list1"
      ],
      "metadata": {
        "colab": {
          "base_uri": "https://localhost:8080/"
        },
        "id": "5wJVadgxMUa1",
        "outputId": "fd6e23f5-b887-4945-b4f7-e6fd91b87228"
      },
      "execution_count": null,
      "outputs": [
        {
          "output_type": "execute_result",
          "data": {
            "text/plain": [
              "[5, 10, 15, 20, 25]"
            ]
          },
          "metadata": {},
          "execution_count": 3
        }
      ]
    },
    {
      "cell_type": "code",
      "source": [
        "tuple1.append(25)\n"
      ],
      "metadata": {
        "colab": {
          "base_uri": "https://localhost:8080/",
          "height": 144
        },
        "id": "FEG7_k7UMsbl",
        "outputId": "cd9f2aaf-633c-4978-d394-ca1e2981ef59"
      },
      "execution_count": null,
      "outputs": [
        {
          "output_type": "error",
          "ename": "AttributeError",
          "evalue": "'tuple' object has no attribute 'append'",
          "traceback": [
            "\u001b[0;31m---------------------------------------------------------------------------\u001b[0m",
            "\u001b[0;31mAttributeError\u001b[0m                            Traceback (most recent call last)",
            "\u001b[0;32m<ipython-input-4-72485ce89cca>\u001b[0m in \u001b[0;36m<cell line: 1>\u001b[0;34m()\u001b[0m\n\u001b[0;32m----> 1\u001b[0;31m \u001b[0mtuple1\u001b[0m\u001b[0;34m.\u001b[0m\u001b[0mappend\u001b[0m\u001b[0;34m(\u001b[0m\u001b[0;36m25\u001b[0m\u001b[0;34m)\u001b[0m\u001b[0;34m\u001b[0m\u001b[0;34m\u001b[0m\u001b[0m\n\u001b[0m",
            "\u001b[0;31mAttributeError\u001b[0m: 'tuple' object has no attribute 'append'"
          ]
        }
      ]
    },
    {
      "cell_type": "code",
      "source": [
        "#Performance: Tuples generally have better performance for iteration and access due to their immutability.\n",
        "#Example: Accessing elements in (1, 2, 3) is faster compared to [1, 2, 3].\n",
        "\n",
        "#Use Cases: Lists are suited for collections of items that may change, whereas tuples are often used for fixed collections of items.\n",
        "#Example: Use lists for dynamic collections like a shopping list and tuples for fixed data like coordinates.\n"
      ],
      "metadata": {
        "id": "E0P08QnAMxlv"
      },
      "execution_count": null,
      "outputs": []
    },
    {
      "cell_type": "code",
      "source": [
        "# 5.Describe the key features of sets and provide examples of their use.\n",
        "\n",
        "#Definition: A set is a collection of distinct objects, considered as an object in its own right.\n",
        "#Example: {1, 2, 3, 4} is a set of integers.\n",
        "s1 = {1, 2, 3, 4}\n",
        "type(s1)\n"
      ],
      "metadata": {
        "colab": {
          "base_uri": "https://localhost:8080/"
        },
        "id": "PGnam3WgNFcH",
        "outputId": "4a75f485-78eb-4137-efa4-f8334c6fb405"
      },
      "execution_count": null,
      "outputs": [
        {
          "output_type": "execute_result",
          "data": {
            "text/plain": [
              "set"
            ]
          },
          "metadata": {},
          "execution_count": 1
        }
      ]
    },
    {
      "cell_type": "code",
      "source": [
        "#Uniqueness: Each element in a set is unique; duplicates are not allowed.\n",
        "#Example: {\"a\", \"b\", \"b\"} simplifies to {\"a\", \"b\"}.\n",
        "s2 = {\"a\",\"b\",\"b\"}\n",
        "s2\n"
      ],
      "metadata": {
        "colab": {
          "base_uri": "https://localhost:8080/"
        },
        "id": "xW3fRORjg_Ss",
        "outputId": "d1abc84f-8d43-4fd8-bb63-32cc861c2c98"
      },
      "execution_count": null,
      "outputs": [
        {
          "output_type": "execute_result",
          "data": {
            "text/plain": [
              "{'a', 'b'}"
            ]
          },
          "metadata": {},
          "execution_count": 2
        }
      ]
    },
    {
      "cell_type": "code",
      "source": [
        "#No Order: The elements in a set are unordered.\n",
        "#Example: {\"apple\", \"banana\", \"cherry\"} is the same as {\"cherry\", \"banana\", \"apple\"}.\n",
        "\n",
        "#Notation: Sets are typically denoted with curly braces {}.\n",
        "#Example: The set of natural numbers less than 5 is {1, 2, 3, 4}.\n",
        "\n",
        "#Membership: An element is either a member of a set or not.\n",
        "#Example: For the set {a, b, c}, b is a member, but d is not.\n",
        "s3 = {\"a\", \"b\", \"c\"}\n",
        "\"b\" in s3\n"
      ],
      "metadata": {
        "colab": {
          "base_uri": "https://localhost:8080/"
        },
        "id": "REz9zFeWhSMq",
        "outputId": "75c4e453-2ccb-492e-868d-e3e8e9882227"
      },
      "execution_count": null,
      "outputs": [
        {
          "output_type": "execute_result",
          "data": {
            "text/plain": [
              "True"
            ]
          },
          "metadata": {},
          "execution_count": 5
        }
      ]
    },
    {
      "cell_type": "code",
      "source": [
        "\"d\" in s3"
      ],
      "metadata": {
        "colab": {
          "base_uri": "https://localhost:8080/"
        },
        "id": "PCn3IyQmh58O",
        "outputId": "dbe2fee8-4089-42e1-f426-0d952ae008a3"
      },
      "execution_count": null,
      "outputs": [
        {
          "output_type": "execute_result",
          "data": {
            "text/plain": [
              "False"
            ]
          },
          "metadata": {},
          "execution_count": 6
        }
      ]
    },
    {
      "cell_type": "code",
      "source": [
        "#Items: There cannot be unhashable type (mutable) data structures inside a set.\n",
        "#Example: {\"a\", \"b\", \"c\", [\"d\", \"e\"]} will give an error\n",
        "s4 = {\"a\", \"b\", \"c\", [\"d\", \"e\"]}\n"
      ],
      "metadata": {
        "colab": {
          "base_uri": "https://localhost:8080/",
          "height": 180
        },
        "id": "RwTJKKoEiBtg",
        "outputId": "cd44d5b4-f83c-465c-bdca-d79645493ab3"
      },
      "execution_count": null,
      "outputs": [
        {
          "output_type": "error",
          "ename": "TypeError",
          "evalue": "unhashable type: 'list'",
          "traceback": [
            "\u001b[0;31m---------------------------------------------------------------------------\u001b[0m",
            "\u001b[0;31mTypeError\u001b[0m                                 Traceback (most recent call last)",
            "\u001b[0;32m<ipython-input-7-6218bc805548>\u001b[0m in \u001b[0;36m<cell line: 3>\u001b[0;34m()\u001b[0m\n\u001b[1;32m      1\u001b[0m \u001b[0;31m#Items: There cannot be unhashable type (mutable) data structures inside a set.\u001b[0m\u001b[0;34m\u001b[0m\u001b[0;34m\u001b[0m\u001b[0m\n\u001b[1;32m      2\u001b[0m \u001b[0;31m#Example: {\"a\", \"b\", \"c\", [\"d\", \"e\"]} will give an error\u001b[0m\u001b[0;34m\u001b[0m\u001b[0;34m\u001b[0m\u001b[0m\n\u001b[0;32m----> 3\u001b[0;31m \u001b[0ms4\u001b[0m \u001b[0;34m=\u001b[0m \u001b[0;34m{\u001b[0m\u001b[0;34m\"a\"\u001b[0m\u001b[0;34m,\u001b[0m \u001b[0;34m\"b\"\u001b[0m\u001b[0;34m,\u001b[0m \u001b[0;34m\"c\"\u001b[0m\u001b[0;34m,\u001b[0m \u001b[0;34m[\u001b[0m\u001b[0;34m\"d\"\u001b[0m\u001b[0;34m,\u001b[0m \u001b[0;34m\"e\"\u001b[0m\u001b[0;34m]\u001b[0m\u001b[0;34m}\u001b[0m\u001b[0;34m\u001b[0m\u001b[0;34m\u001b[0m\u001b[0m\n\u001b[0m",
            "\u001b[0;31mTypeError\u001b[0m: unhashable type: 'list'"
          ]
        }
      ]
    },
    {
      "cell_type": "code",
      "source": [
        "#Add/ Remove items: Sets are mutable hence can be modified.\n",
        "#Example1: s5.add(5) will add 5 to {1, 2, 3, 4}\n",
        "s5 = {1, 2, 3, 4}\n",
        "s5.add(5)\n",
        "s5\n"
      ],
      "metadata": {
        "colab": {
          "base_uri": "https://localhost:8080/"
        },
        "id": "R0oyi9iJjaRl",
        "outputId": "d9b4a5d0-b140-4f5b-ed25-a8d02941ec5c"
      },
      "execution_count": null,
      "outputs": [
        {
          "output_type": "execute_result",
          "data": {
            "text/plain": [
              "{1, 2, 3, 4, 5}"
            ]
          },
          "metadata": {},
          "execution_count": 8
        }
      ]
    },
    {
      "cell_type": "code",
      "source": [
        "# Example2: s5.remove(5) will remove 5 from s5\n",
        "s5.remove(5)\n",
        "s5"
      ],
      "metadata": {
        "colab": {
          "base_uri": "https://localhost:8080/"
        },
        "id": "tMLCVhMSkM46",
        "outputId": "70ede83d-984a-497f-a746-5d988868f755"
      },
      "execution_count": null,
      "outputs": [
        {
          "output_type": "execute_result",
          "data": {
            "text/plain": [
              "{1, 2, 3, 4}"
            ]
          },
          "metadata": {},
          "execution_count": 9
        }
      ]
    },
    {
      "cell_type": "code",
      "source": [
        "#Union: The union of two sets combines all unique elements from both sets.\n",
        "#Example: {1, 2} ∪ {2, 3} results in {1, 2, 3}.\n",
        "a = {1, 2}\n",
        "b = {2,3}\n",
        "a | b\n"
      ],
      "metadata": {
        "colab": {
          "base_uri": "https://localhost:8080/"
        },
        "id": "Dm28zCZWkfhs",
        "outputId": "6486f92e-11a0-4ae2-e3c0-9a7ddc47bead"
      },
      "execution_count": null,
      "outputs": [
        {
          "output_type": "execute_result",
          "data": {
            "text/plain": [
              "{1, 2, 3}"
            ]
          },
          "metadata": {},
          "execution_count": 10
        }
      ]
    },
    {
      "cell_type": "code",
      "source": [
        "#Intersection: The intersection of two sets contains only the elements present in both sets.\n",
        "#Example: {1, 2, 3} ∩ {2, 3, 4}results in{2, 3}`.\n",
        "c = {1, 2, 3}\n",
        "d = {2,3}\n",
        "c & d\n"
      ],
      "metadata": {
        "colab": {
          "base_uri": "https://localhost:8080/"
        },
        "id": "LMNWACFdkxQk",
        "outputId": "eaba15d6-fb34-4e06-ce0a-75773eb9dc2a"
      },
      "execution_count": null,
      "outputs": [
        {
          "output_type": "execute_result",
          "data": {
            "text/plain": [
              "{2, 3}"
            ]
          },
          "metadata": {},
          "execution_count": 11
        }
      ]
    },
    {
      "cell_type": "code",
      "source": [
        "#Difference: The difference between two sets contains elements present in the first set but not in the second.\n",
        "#Example: {1, 2, 3} - {2, 3, 4} results in {1}.\n",
        "e = {1, 2, 3}\n",
        "f = {2, 3, 4}\n",
        "e-f"
      ],
      "metadata": {
        "colab": {
          "base_uri": "https://localhost:8080/"
        },
        "id": "7cqHDKIYlB_A",
        "outputId": "ffe38500-9afc-4494-a301-256d48785854"
      },
      "execution_count": null,
      "outputs": [
        {
          "output_type": "execute_result",
          "data": {
            "text/plain": [
              "{1}"
            ]
          },
          "metadata": {},
          "execution_count": 12
        }
      ]
    },
    {
      "cell_type": "code",
      "source": [
        "#Symmetric difference: Gives the values other than the common values between the 2 sets.\n",
        "# Example: {1, 2, 3} ^ {2, 3, 4} results in {1, 4}.\n",
        "g = {1, 2, 3}\n",
        "h = {2, 3, 4}\n",
        "g ^ h\n",
        "\n"
      ],
      "metadata": {
        "colab": {
          "base_uri": "https://localhost:8080/"
        },
        "id": "Bnf5PSe5lYcR",
        "outputId": "929c8899-e2e6-4d9c-838e-33542a3553f7"
      },
      "execution_count": null,
      "outputs": [
        {
          "output_type": "execute_result",
          "data": {
            "text/plain": [
              "{1, 4}"
            ]
          },
          "metadata": {},
          "execution_count": 13
        }
      ]
    },
    {
      "cell_type": "code",
      "source": [
        "# Frozen Sets: Frozen sets are immutable sets.\n",
        "# Example: frozenset([1, 2, 3, 4]) cannot be modified\n",
        "fs = frozenset([1, 2, 3, 4])\n",
        "fs.add(5)"
      ],
      "metadata": {
        "colab": {
          "base_uri": "https://localhost:8080/",
          "height": 180
        },
        "id": "hQuk0NsbmGhr",
        "outputId": "17b02aea-9902-4b4a-e6cc-5f47c85074fd"
      },
      "execution_count": null,
      "outputs": [
        {
          "output_type": "error",
          "ename": "AttributeError",
          "evalue": "'frozenset' object has no attribute 'add'",
          "traceback": [
            "\u001b[0;31m---------------------------------------------------------------------------\u001b[0m",
            "\u001b[0;31mAttributeError\u001b[0m                            Traceback (most recent call last)",
            "\u001b[0;32m<ipython-input-14-1502fd3abec4>\u001b[0m in \u001b[0;36m<cell line: 4>\u001b[0;34m()\u001b[0m\n\u001b[1;32m      2\u001b[0m \u001b[0;31m# Example: frozenset([1, 2, 3, 4]) cannot be modified\u001b[0m\u001b[0;34m\u001b[0m\u001b[0;34m\u001b[0m\u001b[0m\n\u001b[1;32m      3\u001b[0m \u001b[0mfs\u001b[0m \u001b[0;34m=\u001b[0m \u001b[0mfrozenset\u001b[0m\u001b[0;34m(\u001b[0m\u001b[0;34m[\u001b[0m\u001b[0;36m1\u001b[0m\u001b[0;34m,\u001b[0m \u001b[0;36m2\u001b[0m\u001b[0;34m,\u001b[0m \u001b[0;36m3\u001b[0m\u001b[0;34m,\u001b[0m \u001b[0;36m4\u001b[0m\u001b[0;34m]\u001b[0m\u001b[0;34m)\u001b[0m\u001b[0;34m\u001b[0m\u001b[0;34m\u001b[0m\u001b[0m\n\u001b[0;32m----> 4\u001b[0;31m \u001b[0mfs\u001b[0m\u001b[0;34m.\u001b[0m\u001b[0madd\u001b[0m\u001b[0;34m(\u001b[0m\u001b[0;36m5\u001b[0m\u001b[0;34m)\u001b[0m\u001b[0;34m\u001b[0m\u001b[0;34m\u001b[0m\u001b[0m\n\u001b[0m",
            "\u001b[0;31mAttributeError\u001b[0m: 'frozenset' object has no attribute 'add'"
          ]
        }
      ]
    },
    {
      "cell_type": "code",
      "source": [
        "#Tuples\n",
        "#Immutable Collections: Tuples are used when a fixed-size, immutable collection of items is needed.\n",
        "#Example: coords = (10, 20) is used to store a fixed coordinate pair.\n",
        "coords = (10, 20)\n",
        "coords[0] = 15\n"
      ],
      "metadata": {
        "id": "4OhAaA1iZShU",
        "colab": {
          "base_uri": "https://localhost:8080/",
          "height": 180
        },
        "outputId": "e408aa41-8ef9-405a-911c-300574f233fb"
      },
      "execution_count": 1,
      "outputs": [
        {
          "output_type": "error",
          "ename": "TypeError",
          "evalue": "'tuple' object does not support item assignment",
          "traceback": [
            "\u001b[0;31m---------------------------------------------------------------------------\u001b[0m",
            "\u001b[0;31mTypeError\u001b[0m                                 Traceback (most recent call last)",
            "\u001b[0;32m<ipython-input-1-6c35b68d9653>\u001b[0m in \u001b[0;36m<cell line: 5>\u001b[0;34m()\u001b[0m\n\u001b[1;32m      3\u001b[0m \u001b[0;31m#Example: coords = (10, 20) is used to store a fixed coordinate pair.\u001b[0m\u001b[0;34m\u001b[0m\u001b[0;34m\u001b[0m\u001b[0m\n\u001b[1;32m      4\u001b[0m \u001b[0mcoords\u001b[0m \u001b[0;34m=\u001b[0m \u001b[0;34m(\u001b[0m\u001b[0;36m10\u001b[0m\u001b[0;34m,\u001b[0m \u001b[0;36m20\u001b[0m\u001b[0;34m)\u001b[0m\u001b[0;34m\u001b[0m\u001b[0;34m\u001b[0m\u001b[0m\n\u001b[0;32m----> 5\u001b[0;31m \u001b[0mcoords\u001b[0m\u001b[0;34m[\u001b[0m\u001b[0;36m0\u001b[0m\u001b[0;34m]\u001b[0m \u001b[0;34m=\u001b[0m \u001b[0;36m15\u001b[0m\u001b[0;34m\u001b[0m\u001b[0;34m\u001b[0m\u001b[0m\n\u001b[0m",
            "\u001b[0;31mTypeError\u001b[0m: 'tuple' object does not support item assignment"
          ]
        }
      ]
    },
    {
      "cell_type": "code",
      "source": [
        "#Hashable Keys: Tuples can be used as keys in dictionaries or elements in sets because they are hashable.\n",
        "#Example: d = { (1, 2): 'value' } uses a tuple as a dictionary key.\n",
        "d = { (1, 2): 'value' }\n",
        "type(d)\n"
      ],
      "metadata": {
        "colab": {
          "base_uri": "https://localhost:8080/"
        },
        "id": "NBb3zVuOaLCq",
        "outputId": "f98e9820-4f81-4dd7-abea-13d7fdcd616c"
      },
      "execution_count": 2,
      "outputs": [
        {
          "output_type": "execute_result",
          "data": {
            "text/plain": [
              "dict"
            ]
          },
          "metadata": {},
          "execution_count": 2
        }
      ]
    },
    {
      "cell_type": "code",
      "source": [
        "#Data Integrity: Tuples ensure that the data cannot be modified, preserving its integrity.\n",
        "#Example: (name, age) = (\"Alice\", 30) keeps the data intact throughout the program.\n",
        "\n",
        "#Sets\n",
        "#Unique Element Storage: Sets are used to store collections of unique items, eliminating duplicates.\n",
        "#Example: set1 = {1, 2, 2, 3} results in {1, 2, 3}.\n",
        "set1 = {1, 2, 2, 3}\n",
        "set1\n"
      ],
      "metadata": {
        "colab": {
          "base_uri": "https://localhost:8080/"
        },
        "id": "PmM4ErJnadZY",
        "outputId": "658b1fe1-9502-472d-87a2-0e6da617af05"
      },
      "execution_count": 3,
      "outputs": [
        {
          "output_type": "execute_result",
          "data": {
            "text/plain": [
              "{1, 2, 3}"
            ]
          },
          "metadata": {},
          "execution_count": 3
        }
      ]
    },
    {
      "cell_type": "code",
      "source": [
        "#Fast Membership Testing: Sets provide efficient membership tests.\n",
        "#Example: if 3 in set1: checks membership quickly.\n",
        "3 in set1\n"
      ],
      "metadata": {
        "colab": {
          "base_uri": "https://localhost:8080/"
        },
        "id": "q3SPLuxQa_Vw",
        "outputId": "02140dab-00ea-4557-fdb5-700c4110a068"
      },
      "execution_count": 4,
      "outputs": [
        {
          "output_type": "execute_result",
          "data": {
            "text/plain": [
              "True"
            ]
          },
          "metadata": {},
          "execution_count": 4
        }
      ]
    },
    {
      "cell_type": "code",
      "source": [
        "#Set Operations: Sets support mathematical operations like union, intersection, and difference.\n",
        "#Example: {1, 2, 3} | {3, 4, 5} computes the union resulting in {1, 2, 3, 4, 5}.\n",
        "{1, 2, 3} | {3, 4, 5}\n"
      ],
      "metadata": {
        "colab": {
          "base_uri": "https://localhost:8080/"
        },
        "id": "ha8sFaS1bPxc",
        "outputId": "58f9d42b-41e5-47da-b135-8ce21a30f5c0"
      },
      "execution_count": 5,
      "outputs": [
        {
          "output_type": "execute_result",
          "data": {
            "text/plain": [
              "{1, 2, 3, 4, 5}"
            ]
          },
          "metadata": {},
          "execution_count": 5
        }
      ]
    },
    {
      "cell_type": "code",
      "source": [
        "#Removing Duplicates: Sets can be used to remove duplicates from a list.\n",
        "#Example:\n",
        "list1 = [1, 1, 2, 2, 3, 4, 4]\n",
        "set(list1)\n"
      ],
      "metadata": {
        "colab": {
          "base_uri": "https://localhost:8080/"
        },
        "id": "mxVKId2ObX7o",
        "outputId": "dfdb6550-bd3e-4869-cd43-970ebad4cb58"
      },
      "execution_count": 6,
      "outputs": [
        {
          "output_type": "execute_result",
          "data": {
            "text/plain": [
              "{1, 2, 3, 4}"
            ]
          },
          "metadata": {},
          "execution_count": 6
        }
      ]
    },
    {
      "cell_type": "code",
      "source": [
        "#Dynamic Set Operations: Sets are useful for dynamic operations where elements are frequently added or removed.\n",
        "#Example: my_set.add(6) adds an element to the set efficiently.\n",
        "my_set = {1, 2, 3, 4}\n",
        "my_set.add(6)\n",
        "my_set"
      ],
      "metadata": {
        "colab": {
          "base_uri": "https://localhost:8080/"
        },
        "id": "lBoThY2XbsJh",
        "outputId": "04bd3be9-83f1-425b-f8b6-460d65275575"
      },
      "execution_count": 7,
      "outputs": [
        {
          "output_type": "execute_result",
          "data": {
            "text/plain": [
              "{1, 2, 3, 4, 6}"
            ]
          },
          "metadata": {},
          "execution_count": 7
        }
      ]
    },
    {
      "cell_type": "code",
      "source": [
        "# 7.Describe how to add, modify, and delete items in a dictionary with examples.\n",
        "\n",
        "#Add Items: To add a new key-value pair, simply assign a value to a new key.\n",
        "#Example: my_dict['new_key'] = 'new_value' adds 'new_key': 'new_value' to the dictionary.\n",
        "dict1 = {\"Name\": \"Ateeb\", \"Course\": \"DA\"}\n",
        "dict1[\"address\"] = \"Pune\"\n",
        "dict1\n"
      ],
      "metadata": {
        "colab": {
          "base_uri": "https://localhost:8080/"
        },
        "id": "7pw-E-Y_b5Xe",
        "outputId": "a39edd2d-54cf-44c7-f6bc-15968b899b76"
      },
      "execution_count": 8,
      "outputs": [
        {
          "output_type": "execute_result",
          "data": {
            "text/plain": [
              "{'Name': 'Ateeb', 'Course': 'DA', 'address': 'Pune'}"
            ]
          },
          "metadata": {},
          "execution_count": 8
        }
      ]
    },
    {
      "cell_type": "code",
      "source": [
        "#Modify Items: To change the value of an existing key, reassign a new value to the key.\n",
        "#Example: my_dict['existing_key'] = 'updated_value' updates the value for 'existing_key'.\n",
        "dict1[\"address\"] = \"Maharashtra\"\n",
        "dict1"
      ],
      "metadata": {
        "colab": {
          "base_uri": "https://localhost:8080/"
        },
        "id": "KZo09uLxdCJP",
        "outputId": "7140d9d2-e353-4866-fc13-bf855e988ff2"
      },
      "execution_count": 11,
      "outputs": [
        {
          "output_type": "execute_result",
          "data": {
            "text/plain": [
              "{'Name': 'Ateeb', 'Course': 'DA', 'address': 'Maharashtra'}"
            ]
          },
          "metadata": {},
          "execution_count": 11
        }
      ]
    },
    {
      "cell_type": "code",
      "source": [
        "#Delete Items: To remove a key-value pair, use the del statement or the pop() method.\n",
        "#Example: del my_dict['key_to_remove'] deletes the key-value pair, or my_dict.pop('key_to_remove') removes and returns the value.\n",
        "del dict1[\"Course\"]\n",
        "dict1\n"
      ],
      "metadata": {
        "colab": {
          "base_uri": "https://localhost:8080/"
        },
        "id": "HMyQg8mDdOf7",
        "outputId": "ab160014-dd06-4e34-fdd2-a8e90a22a68e"
      },
      "execution_count": 13,
      "outputs": [
        {
          "output_type": "execute_result",
          "data": {
            "text/plain": [
              "{'Name': 'Ateeb', 'address': 'Maharashtra'}"
            ]
          },
          "metadata": {},
          "execution_count": 13
        }
      ]
    },
    {
      "cell_type": "code",
      "source": [
        "dict1 = {'Name': 'Ateeb', 'Course': 'DA', 'address': 'Maharashtra'}\n",
        "dict1.pop(\"Name\")"
      ],
      "metadata": {
        "colab": {
          "base_uri": "https://localhost:8080/",
          "height": 35
        },
        "id": "EMqLmS4Ndka-",
        "outputId": "2f7e2325-b0c4-491a-d317-a8a6cb977059"
      },
      "execution_count": 14,
      "outputs": [
        {
          "output_type": "execute_result",
          "data": {
            "text/plain": [
              "'Ateeb'"
            ],
            "application/vnd.google.colaboratory.intrinsic+json": {
              "type": "string"
            }
          },
          "metadata": {},
          "execution_count": 14
        }
      ]
    },
    {
      "cell_type": "code",
      "source": [
        "dict1"
      ],
      "metadata": {
        "colab": {
          "base_uri": "https://localhost:8080/"
        },
        "id": "_nTPxDWaeDSI",
        "outputId": "85fe57e9-436c-4cf9-c4f3-a462feca01e4"
      },
      "execution_count": 15,
      "outputs": [
        {
          "output_type": "execute_result",
          "data": {
            "text/plain": [
              "{'Course': 'DA', 'address': 'Maharashtra'}"
            ]
          },
          "metadata": {},
          "execution_count": 15
        }
      ]
    },
    {
      "cell_type": "code",
      "source": [
        "##Update Items: Use the update() method to add or modify multiple key-value pairs at once.\n",
        "#Example: my_dict.update({'key1': 'value1', 'key2': 'value2'}) adds or updates these key-value pairs.\n",
        "dict1.update({\"email\": \"abc@gmail.com\", \"number\": 1234})\n",
        "dict1\n"
      ],
      "metadata": {
        "colab": {
          "base_uri": "https://localhost:8080/"
        },
        "id": "AU18lSbTeFXI",
        "outputId": "31e326da-c7ba-4971-c4b6-f5326f91c75f"
      },
      "execution_count": 16,
      "outputs": [
        {
          "output_type": "execute_result",
          "data": {
            "text/plain": [
              "{'Course': 'DA',\n",
              " 'address': 'Maharashtra',\n",
              " 'email': 'abc@gmail.com',\n",
              " 'number': 1234}"
            ]
          },
          "metadata": {},
          "execution_count": 16
        }
      ]
    },
    {
      "cell_type": "code",
      "source": [
        "#Clear All Items: To remove all items from the dictionary, use the clear() method.\n",
        "#Example: my_dict.clear() empties the dictionary, leaving it with no items.\n",
        "dict1.clear()\n",
        "dict1"
      ],
      "metadata": {
        "colab": {
          "base_uri": "https://localhost:8080/"
        },
        "id": "J0DA9WiLegz7",
        "outputId": "8e2eee3c-1573-40cb-d1c5-815950a0370c"
      },
      "execution_count": 17,
      "outputs": [
        {
          "output_type": "execute_result",
          "data": {
            "text/plain": [
              "{}"
            ]
          },
          "metadata": {},
          "execution_count": 17
        }
      ]
    },
    {
      "cell_type": "code",
      "source": [
        "# 8. Discuss the importance of dictionary keys being immutable and provide examples.\n",
        "\n",
        "#Hashability Requirement: Dictionary keys must be immutable because they need to be hashable.\n",
        "#Example: Strings, integers, and tuples (immutable elements) can be used as keys, such as {'key': 'value'}.\n",
        "my_dict = {(1, 2): \"ABC\", \"abcd\": 123}\n",
        "my_dict\n"
      ],
      "metadata": {
        "colab": {
          "base_uri": "https://localhost:8080/"
        },
        "id": "L8k1wTQ6eoso",
        "outputId": "640a9b08-f005-4434-8df6-e4910b7014d6"
      },
      "execution_count": 18,
      "outputs": [
        {
          "output_type": "execute_result",
          "data": {
            "text/plain": [
              "{(1, 2): 'ABC', 'abcd': 123}"
            ]
          },
          "metadata": {},
          "execution_count": 18
        }
      ]
    },
    {
      "cell_type": "code",
      "source": [
        "#Consistency: Immutable keys ensure that the hash value remains constant, maintaining dictionary integrity and fast access.\n",
        "#Example: A key like (1, 2) remains consistent for retrieval, unlike a list which can change.\n",
        "\n",
        "#Avoiding Key Mutation: Using mutable types as keys could lead to unpredictable behavior or errors if the key’s value changes.\n",
        "#Example: Lists cannot be used as keys because their contents can change.\n",
        "\n",
        "#Predictable Behavior: Immutable keys ensure that each key maps to a consistent value, allowing for reliable data retrieval.\n",
        "#Example: If my_dict['key'] = 'value', my_dict['key'] will always return 'value' unless the key itself is modified.\n",
        "my_dict[\"veg\"] = \"paneer\"\n",
        "my_dict\n"
      ],
      "metadata": {
        "colab": {
          "base_uri": "https://localhost:8080/"
        },
        "id": "fgzC0TLQf75-",
        "outputId": "3580fadf-108a-4c44-c7c4-2e3f2f605ef5"
      },
      "execution_count": 19,
      "outputs": [
        {
          "output_type": "execute_result",
          "data": {
            "text/plain": [
              "{(1, 2): 'ABC', 'abcd': 123, 'veg': 'paneer'}"
            ]
          },
          "metadata": {},
          "execution_count": 19
        }
      ]
    },
    {
      "cell_type": "code",
      "source": [
        "my_dict[\"veg\"]"
      ],
      "metadata": {
        "colab": {
          "base_uri": "https://localhost:8080/",
          "height": 35
        },
        "id": "tkVORdAfgvu1",
        "outputId": "9d6fe83f-f560-4833-fc11-6a7a1cb4146e"
      },
      "execution_count": 20,
      "outputs": [
        {
          "output_type": "execute_result",
          "data": {
            "text/plain": [
              "'paneer'"
            ],
            "application/vnd.google.colaboratory.intrinsic+json": {
              "type": "string"
            }
          },
          "metadata": {},
          "execution_count": 20
        }
      ]
    },
    {
      "cell_type": "code",
      "source": [
        "#Efficient Performance: Immutability ensures that dictionary operations (insertion, lookup) are performed with optimal efficiency due to constant hash values.\n",
        "#Example: Accessing my_dict['key'] operates efficiently because 'key' has a fixed hash value."
      ],
      "metadata": {
        "id": "c1e7AaR1g0Wn"
      },
      "execution_count": null,
      "outputs": []
    }
  ]
}
{
  "nbformat": 4,
  "nbformat_minor": 0,
  "metadata": {
    "colab": {
      "provenance": []
    },
    "kernelspec": {
      "name": "python3",
      "display_name": "Python 3"
    },
    "language_info": {
      "name": "python"
    }
  },
  "cells": [
    {
      "cell_type": "code",
      "execution_count": 1,
      "metadata": {
        "id": "QBhpfQrjaOg-"
      },
      "outputs": [],
      "source": [
        "# 1. Explain the different types of data (qualitative and quantitative) and provide examples of each. Discuss\n",
        "# nominal, ordinal, interval, and ratio scales.\n",
        "\n",
        "# Data can be qualitative or quantitative. Qualitative data describes qualities or categories and is non-numerical—for example, colors (red, blue),\n",
        "# or types of cuisine (Italian, Chinese). Quantitative data involves numbers and measurable quantities, like height (170 cm) or age (25 years).\n",
        "\n",
        "# Data measurement scales include:\n",
        "\n",
        "# Nominal: Categories with no order (e.g., gender, eye color).\n",
        "\n",
        "# Ordinal: Ordered categories without consistent differences (e.g., satisfaction levels: poor, fair, good).\n",
        "\n",
        "# Interval: Numeric scales with equal intervals but no true zero (e.g., temperature in Celsius).\n",
        "\n",
        "# Ratio: Like interval, but with a true zero, allowing for meaningful ratios (e.g., weight, height)."
      ]
    },
    {
      "cell_type": "code",
      "source": [
        "# 2. What are the measures of central tendency, and when should you use each? Discuss the mean, median,\n",
        "# and mode with examples and situations where each is appropriate.\n",
        "\n",
        "# The measures of central tendency are mean, median, and mode, used to identify the center or typical value in a dataset:\n",
        "\n",
        "# Mean (average): Add all values and divide by the number of values.\n",
        "# Example: Mean of 10, 20, 30 = (10+20+30)/3 = 20\n",
        "# Use: When data is symmetrical without outliers (e.g., average test scores).\n",
        "\n",
        "# Median: The middle value when data is ordered.\n",
        "# Example: Median of 10, 20, 30 = 20\n",
        "# Use: When data has outliers or skewed distribution (e.g., median income, where extreme values can distort the mean).\n",
        "\n",
        "# Mode: The most frequent value.\n",
        "# Example: Mode of 5, 5, 7, 8 = 5\n",
        "# Use: With categorical data or to identify common values (e.g., most common shoe size sold)."
      ],
      "metadata": {
        "id": "_ieTsWR1afVg"
      },
      "execution_count": 2,
      "outputs": []
    },
    {
      "cell_type": "code",
      "source": [
        "# 3. Explain the concept of dispersion. How do variance and standard deviation measure the spread of data?\n",
        "\n",
        "# Dispersion refers to the extent to which data values spread out around the central tendency (like the mean).\n",
        "# It shows how much variability exists in a dataset.\n",
        "\n",
        "# Variance measures the average squared distance of each data point from the mean.\n",
        "# A high variance means data points are widely spread; low variance indicates they’re clustered near the mean.\n",
        "\n",
        "# Standard Deviation is the square root of variance, giving a spread measure in the same units as the data.\n",
        "# It’s easier to interpret than variance.\n",
        "\n",
        "# Example:\n",
        "# If two classes have the same average test score (mean = 75), but Class A has scores tightly grouped (70–80) and Class B has scores ranging from 50–100,\n",
        "# Class B will have a higher variance and standard deviation, showing greater dispersion."
      ],
      "metadata": {
        "id": "C-uMPxiNazNd"
      },
      "execution_count": 3,
      "outputs": []
    },
    {
      "cell_type": "code",
      "source": [
        "# 4. What is a box plot, and what can it tell you about the distribution of data?\n",
        "\n",
        "# A box plot (or box-and-whisker plot) is a graphical summary of data distribution that shows the median, quartiles, and potential outliers.\n",
        "\n",
        "# It displays:\n",
        "# Minimum value (excluding outliers)\n",
        "# First quartile (Q1) – 25% of data below this point\n",
        "# Median (Q2) – middle value\n",
        "# Third quartile (Q3) – 75% of data below this point\n",
        "# Maximum value (excluding outliers)\n",
        "# Outliers, if any, as individual points\n",
        "\n",
        "# What it tells you:\n",
        "# Center (via median)\n",
        "# Spread (via interquartile range, or IQR = Q3 - Q1)\n",
        "# Skewness (if the median isn’t centered in the box)\n",
        "# Outliers (values far from the rest of the data)"
      ],
      "metadata": {
        "id": "S7BgOk8hbCh4"
      },
      "execution_count": 4,
      "outputs": []
    },
    {
      "cell_type": "code",
      "source": [
        "# 5. Discuss the role of random sampling in making inferences about populations.\n",
        "\n",
        "# Random sampling is a method where every individual in a population has an equal chance of being selected.\n",
        "# It plays a critical role in making valid inferences about a population based on a sample.\n",
        "\n",
        "# Because the sample is chosen without bias, it is more likely to represent the population accurately,\n",
        "# allowing researchers to generalize findings (like estimating averages or proportions) with known levels of confidence and error.\n",
        "\n",
        "# For example, to estimate voter preferences, a random sample of voters can be surveyed instead of asking the entire\n",
        "# population—if the sample is random, the results can reflect the whole population reliably."
      ],
      "metadata": {
        "id": "CyGWa-u2bPxT"
      },
      "execution_count": 5,
      "outputs": []
    },
    {
      "cell_type": "code",
      "source": [
        "# 6. Explain the concept of skewness and its types. How does skewness affect the interpretation of data?\n",
        "\n",
        "# Skewness measures the asymmetry of a data distribution around its mean.\n",
        "\n",
        "# Types of Skewness:\n",
        "# Symmetrical (no skew): Data is evenly distributed; mean ≈ median ≈ mode.\n",
        "\n",
        "# Positive skew (right-skewed): Tail extends to the right; mean > median.\n",
        "# Example: Income data, where a few high incomes pull the mean up.\n",
        "\n",
        "# Negative skew (left-skewed): Tail extends to the left; mean < median.\n",
        "# Example: Test scores where most students did well, but a few scored very low.\n",
        "\n",
        "# Effect on Interpretation:\n",
        "# Skewness affects how we summarize and interpret data:\n",
        "# In skewed distributions, the mean can be misleading as it is affected by extreme values.\n",
        "# Median is often a better measure of central tendency in skewed data."
      ],
      "metadata": {
        "id": "kylo2LOVbaUn"
      },
      "execution_count": 6,
      "outputs": []
    },
    {
      "cell_type": "code",
      "source": [
        "# 7. What is the interquartile range (IQR), and how is it used to detect outliers?\n",
        "\n",
        "# The interquartile range (IQR) is the difference between the third quartile (Q3) and the first quartile (Q1) of a dataset:\n",
        "# IQR=Q3−Q1\n",
        "# It measures the spread of the middle 50% of the data, helping to understand variability while ignoring extreme values.\n",
        "\n",
        "# Using IQR to Detect Outliers:\n",
        "# Outliers are values that fall significantly outside the typical range. A common rule:\n",
        "\n",
        "# Lower bound = Q1 − 1.5 × IQR\n",
        "# Upper bound = Q3 + 1.5 × IQR\n",
        "\n",
        "# Any data points outside these bounds are considered outliers.\n",
        "\n",
        "# Example: If Q1 = 20 and Q3 = 40, then\n",
        "# IQR = 20, and\n",
        "# Outlier range = below 20 − 30 = −10 or above 40 + 30 = 70"
      ],
      "metadata": {
        "id": "3de8q4mjbng_"
      },
      "execution_count": 7,
      "outputs": []
    },
    {
      "cell_type": "code",
      "source": [
        "# 8. Discuss the conditions under which the binomial distribution is used.\n",
        "\n",
        "# The binomial distribution is used when an experiment meets the following four conditions:\n",
        "# Fixed number of trials (n): The experiment is repeated a set number of times.\n",
        "# Only two possible outcomes per trial: Usually labeled as \"success\" and \"failure\".\n",
        "# Constant probability of success (p): The probability of success is the same in every trial.\n",
        "# Independent trials: The outcome of one trial doesn't affect another.\n",
        "\n",
        "# Example:\n",
        "# Flipping a coin 10 times to count how many times it lands heads:\n",
        "# Fixed trials: 10 flips\n",
        "# Two outcomes: heads (success) or tails (failure)\n",
        "# Constant probability: 0.5 per flip\n",
        "# Trials are independent\n",
        "\n",
        "# The binomial distribution is ideal for modeling situations like defect rates in manufacturing, pass/fail tests, or survey responses (yes/no)."
      ],
      "metadata": {
        "id": "op0n6d2Mb4rz"
      },
      "execution_count": 8,
      "outputs": []
    },
    {
      "cell_type": "code",
      "source": [
        "# 9. Explain the properties of the normal distribution and the empirical rule (68-95-99.7 rule).\n",
        "\n",
        "# The normal distribution is a symmetric, bell-shaped curve where most data clusters around the mean. It’s defined by two parameters: mean (μ) and standard deviation (σ).\n",
        "\n",
        "# Properties of the Normal Distribution:\n",
        "# Symmetrical around the mean (μ)\n",
        "# Mean = median = mode\n",
        "# Tails extend infinitely in both directions\n",
        "# Follows a predictable pattern defined by the empirical rule\n",
        "\n",
        "# Empirical Rule (68-95-99.7 Rule):\n",
        "# In a normal distribution:\n",
        "# 68% of data lies within ±1σ of the mean\n",
        "# 95% within ±2σ\n",
        "# 99.7% within ±3σ\n",
        "\n",
        "# Example: If the mean test score is 70 with a standard deviation of 10:\n",
        "# 68% of scores fall between 60 and 80\n",
        "# 95% fall between 50 and 90\n",
        "# 99.7% fall between 40 and 100"
      ],
      "metadata": {
        "id": "gcXEaABccGHj"
      },
      "execution_count": 9,
      "outputs": []
    },
    {
      "cell_type": "code",
      "source": [
        "# 10. Provide a real-life example of a Poisson process and calculate the probability for a specific event.\n",
        "\n",
        "# A Poisson process models the number of times an event occurs in a fixed interval of time or space when:\n",
        "# Events occur independently\n",
        "# Events occur at a constant average rate (λ)\n",
        "# Two events can’t occur at the exact same instant\n",
        "\n",
        "# Real-Life Example:\n",
        "# A call center receives 5 calls per hour on average. What is the probability that exactly 3 calls arrive in one hour?\n",
        "\n",
        "import math\n",
        "\n",
        "# Given values\n",
        "lambda_rate = 5  # average rate of calls per hour\n",
        "k = 3  # desired number of events (calls)\n",
        "\n",
        "# Poisson probability formula\n",
        "poisson_prob = (math.exp(-lambda_rate) * lambda_rate**k) / math.factorial(k)\n",
        "\n",
        "# Output the result\n",
        "print(poisson_prob)"
      ],
      "metadata": {
        "colab": {
          "base_uri": "https://localhost:8080/"
        },
        "id": "k5mRK1B2cXRs",
        "outputId": "306a396e-57e0-4ac2-a4b0-f98751e9f9db"
      },
      "execution_count": 10,
      "outputs": [
        {
          "output_type": "stream",
          "name": "stdout",
          "text": [
            "0.14037389581428056\n"
          ]
        }
      ]
    },
    {
      "cell_type": "code",
      "source": [
        "# 11. Explain what a random variable is and differentiate between discrete and continuous random variables.\n",
        "\n",
        "# A random variable is a numerical outcome of a random process or experiment.\n",
        "# It maps events to numbers and can take different values based on the outcomes of a random event.\n",
        "\n",
        "# Types of Random Variables:\n",
        "# Discrete Random Variable:\n",
        "# Takes countable values, often integers, and represents things you can count.\n",
        "# Example: The number of heads in 10 coin flips, or the number of cars passing a toll booth in an hour.\n",
        "\n",
        "# Continuous Random Variable:\n",
        "# Can take any value within a certain range and is usually measured rather than counted.\n",
        "# Example: The height of a person, or the time it takes to run a race. It can take values like 5.5, 5.55, 5.555, and so on."
      ],
      "metadata": {
        "id": "q2hDVhu4c9gH"
      },
      "execution_count": 11,
      "outputs": []
    },
    {
      "cell_type": "code",
      "source": [
        "# 12. Provide an example dataset, calculate both covariance and correlation, and interpret the results.\n",
        "\n",
        "import numpy as np\n",
        "\n",
        "# Dataset\n",
        "X = np.array([1, 2, 3, 4, 5])\n",
        "Y = np.array([50, 55, 60, 65, 70])\n",
        "\n",
        "# Mean of X and Y\n",
        "mean_X = np.mean(X)\n",
        "mean_Y = np.mean(Y)\n",
        "\n",
        "# Covariance\n",
        "cov_XY = np.sum((X - mean_X) * (Y - mean_Y)) / len(X)\n",
        "\n",
        "# Standard deviations of X and Y\n",
        "std_X = np.std(X)\n",
        "std_Y = np.std(Y)\n",
        "\n",
        "# Correlation\n",
        "correlation = cov_XY / (std_X * std_Y)\n",
        "\n",
        "# Output results\n",
        "cov_XY, correlation"
      ],
      "metadata": {
        "colab": {
          "base_uri": "https://localhost:8080/"
        },
        "id": "QDnLjsXidIP_",
        "outputId": "e7ef0d11-bd62-420d-e9c1-d620e7c637ff"
      },
      "execution_count": 13,
      "outputs": [
        {
          "output_type": "execute_result",
          "data": {
            "text/plain": [
              "(np.float64(10.0), np.float64(0.9999999999999998))"
            ]
          },
          "metadata": {},
          "execution_count": 13
        }
      ]
    },
    {
      "cell_type": "code",
      "source": [],
      "metadata": {
        "id": "xsVMFN6CdY2r"
      },
      "execution_count": null,
      "outputs": []
    }
  ]
}
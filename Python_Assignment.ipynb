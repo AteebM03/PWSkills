{
  "nbformat": 4,
  "nbformat_minor": 0,
  "metadata": {
    "colab": {
      "provenance": []
    },
    "kernelspec": {
      "name": "python3",
      "display_name": "Python 3"
    },
    "language_info": {
      "name": "python"
    }
  },
  "cells": [
    {
      "cell_type": "code",
      "execution_count": 1,
      "metadata": {
        "id": "gsGTFQMvhvQV"
      },
      "outputs": [],
      "source": [
        "# 1. Explain the key featu$es of Python that make it a popular choice for programming?\n",
        "\n",
        "# - Readability: Python's syntax is clear and easy to read, which enhances code maintainability.\n",
        "# - Simplicity: It has a straightforward, concise syntax that makes it easy to learn for beginners.\n",
        "# - Versatility: Python supports multiple programming paradigms, including procedural, object-oriented, and functional programming.\n",
        "# - Large Standard Library: It comes with a rich standard library that provides many modules and functions for various tasks.\n",
        "# - Cross-Platform Compatibility: Python code can run on different operating systems without modification.\n",
        "# - Strong Community Support:** A large and active community provides extensive documentation, tutorials, and third-party libraries.\n",
        "# - Dynamic Typing:** It allows for flexibility in coding by not requiring explicit type declarations.\n",
        "# - Interpreted Language: Python code is executed line by line, which aids in debugging and testing.\n",
        "# - Integration Capabilities: It integrates well with other languages and technologies, making it suitable for a wide range of applications."
      ]
    },
    {
      "cell_type": "code",
      "source": [
        "# 2. Describe the role of predefined keywords in Python and provide examples of how they are used in a program.\n",
        "\n",
        "#Reserved Words: Predefined keywords in Python are reserved for specific syntactical purposes and cannot be used as identifiers for variables or functions.\n",
        "#Control Flow: Keywords like if, elif, and else are used to control the flow of execution in conditional statements.\n",
        "#Loops: Keywords such as for and while facilitate iteration over sequences and repeated execution of code blocks.\n",
        "#Function Definition: The def keyword is used to define functions, encapsulating reusable blocks of code.\n",
        "#Exception Handling: Keywords like try, except, finally, and raise manage error handling and exception control.\n",
        "#Data Structures: class is used to define new user-defined types or classes, and import is used to include external modules and libraries.\n",
        "#Code Execution: The return keyword specifies the value to be returned from a function, and yield is used in generators to return a value and pause the function’s execution.\n",
        "#Boolean Values: True and False are used to represent boolean values in logical operations and control flow decisions.\n",
        "\n",
        "#For example: To print even numbers in the range 10 using keywords (for,range,in,if,print)\n",
        "for a in range(0,10):\n",
        "  if a%2 == 0:\n",
        "    print(a)\n",
        "\n",
        "\n"
      ],
      "metadata": {
        "colab": {
          "base_uri": "https://localhost:8080/"
        },
        "id": "A8M5nzJHNPbW",
        "outputId": "2d45dd7b-f5ce-4b35-e904-0553fb3883bd"
      },
      "execution_count": 10,
      "outputs": [
        {
          "output_type": "stream",
          "name": "stdout",
          "text": [
            "0\n",
            "2\n",
            "4\n",
            "6\n",
            "8\n"
          ]
        }
      ]
    },
    {
      "cell_type": "code",
      "source": [
        "# 3. Compare and contrast mutable and immutable objects in Python with examples.\n",
        "\n",
        "#Definition: Mutable objects can be changed after creation, while immutable objects cannot be altered once they are created.\n",
        "#Lists vs Tuples: Lists are mutable and can be modified with operations like append() or remove(), while tuples are immutable and cannot be modified after creation.\n",
        "#Strings: Strings are immutable, so operations that modify a string (e.g., concatenation) create a new string rather than altering the original one.\n",
        "#Dictionaries: Dictionaries are mutable; you can add, remove, or change key-value pairs within a dictionary.\n",
        "#Sets: Sets are mutable, allowing for the addition and removal of elements, unlike frozensets, which are immutable versions of sets.\n",
        "#Performance: Immutable objects often have better performance in terms of hash calculations and are inherently thread-safe, whereas mutable objects may involve more overhead due to the need for synchronization in concurrent environments.\n",
        "\n",
        "#For example:\n",
        "# Strings are immutable\n",
        "a = \"Python\"\n",
        "a[2] = h #it gives an error"
      ],
      "metadata": {
        "colab": {
          "base_uri": "https://localhost:8080/",
          "height": 180
        },
        "id": "DFF-lu8nPFhb",
        "outputId": "e7550391-281b-4dc1-80c7-5cf5460b6f6c"
      },
      "execution_count": 11,
      "outputs": [
        {
          "output_type": "error",
          "ename": "NameError",
          "evalue": "name 'h' is not defined",
          "traceback": [
            "\u001b[0;31m---------------------------------------------------------------------------\u001b[0m",
            "\u001b[0;31mNameError\u001b[0m                                 Traceback (most recent call last)",
            "\u001b[0;32m<ipython-input-11-5dbd657499bf>\u001b[0m in \u001b[0;36m<cell line: 13>\u001b[0;34m()\u001b[0m\n\u001b[1;32m     11\u001b[0m \u001b[0;31m# Strings are immutable\u001b[0m\u001b[0;34m\u001b[0m\u001b[0;34m\u001b[0m\u001b[0m\n\u001b[1;32m     12\u001b[0m \u001b[0ma\u001b[0m \u001b[0;34m=\u001b[0m \u001b[0;34m\"Python\"\u001b[0m\u001b[0;34m\u001b[0m\u001b[0;34m\u001b[0m\u001b[0m\n\u001b[0;32m---> 13\u001b[0;31m \u001b[0ma\u001b[0m\u001b[0;34m[\u001b[0m\u001b[0;36m2\u001b[0m\u001b[0;34m]\u001b[0m \u001b[0;34m=\u001b[0m \u001b[0mh\u001b[0m\u001b[0;34m\u001b[0m\u001b[0;34m\u001b[0m\u001b[0m\n\u001b[0m",
            "\u001b[0;31mNameError\u001b[0m: name 'h' is not defined"
          ]
        }
      ]
    },
    {
      "cell_type": "code",
      "source": [
        "# Lists are mutable and can be changed\n",
        "lis = [\"Python\", \"Java\", \"C++\", \"HTML\"]\n",
        "lis[1] = \"JavaScript\" #it does not give an error\n",
        "lis"
      ],
      "metadata": {
        "colab": {
          "base_uri": "https://localhost:8080/"
        },
        "id": "_GROYUSER4UC",
        "outputId": "ababe486-b733-4fc9-da71-7133c0bd4ce0"
      },
      "execution_count": 12,
      "outputs": [
        {
          "output_type": "execute_result",
          "data": {
            "text/plain": [
              "['Python', 'JavaScript', 'C++', 'HTML']"
            ]
          },
          "metadata": {},
          "execution_count": 12
        }
      ]
    },
    {
      "cell_type": "code",
      "source": [
        "# 4. Discuss the different types of operators in Python and provide examples of how they are used.\n",
        "\n",
        "#Arithmetic Operators: Perform basic mathematical operations; e.g., + (addition), - (subtraction), * (multiplication), and / (division).\n",
        "#Example: 5 + 3 results in 8.\n",
        "\n",
        "5+3"
      ],
      "metadata": {
        "colab": {
          "base_uri": "https://localhost:8080/"
        },
        "id": "VVFXuh2WSbNT",
        "outputId": "0ecf6f31-a4a6-42fe-e70b-01ec6ebe6d99"
      },
      "execution_count": 18,
      "outputs": [
        {
          "output_type": "execute_result",
          "data": {
            "text/plain": [
              "8"
            ]
          },
          "metadata": {},
          "execution_count": 18
        }
      ]
    },
    {
      "cell_type": "code",
      "source": [
        "#Comparison Operators: Compare values and return boolean results ( == (equal to), != (not equal to), > (greater than), and < (less than).)\n",
        "# Example: 2 == 2 results in true\n",
        "2 == 2"
      ],
      "metadata": {
        "colab": {
          "base_uri": "https://localhost:8080/"
        },
        "id": "rDqfKTwPTe1e",
        "outputId": "9c52eb9e-74e8-4b76-d294-26bc31ccc518"
      },
      "execution_count": 19,
      "outputs": [
        {
          "output_type": "execute_result",
          "data": {
            "text/plain": [
              "True"
            ]
          },
          "metadata": {},
          "execution_count": 19
        }
      ]
    },
    {
      "cell_type": "code",
      "source": [
        "#Example: 7 < 4 results in False\n",
        "7 < 4"
      ],
      "metadata": {
        "colab": {
          "base_uri": "https://localhost:8080/"
        },
        "id": "Cu3_d8dGUXKE",
        "outputId": "982be624-22d4-43d7-c8d9-9e417fe68cd4"
      },
      "execution_count": 20,
      "outputs": [
        {
          "output_type": "execute_result",
          "data": {
            "text/plain": [
              "False"
            ]
          },
          "metadata": {},
          "execution_count": 20
        }
      ]
    },
    {
      "cell_type": "code",
      "source": [
        "#Logical Operators: Combine boolean values to perform logical operations (and, or).\n",
        "\n",
        "#Example: True and False results in False.\n",
        "True and False"
      ],
      "metadata": {
        "colab": {
          "base_uri": "https://localhost:8080/"
        },
        "id": "M6nFsJ1iUjus",
        "outputId": "d770691c-6217-4242-89b5-2ceb24ced774"
      },
      "execution_count": 21,
      "outputs": [
        {
          "output_type": "execute_result",
          "data": {
            "text/plain": [
              "False"
            ]
          },
          "metadata": {},
          "execution_count": 21
        }
      ]
    },
    {
      "cell_type": "code",
      "source": [
        "#Assignment Operators: Assign values to variable (= (assign), += (add and assign), and -= (subtract and assign).)\n",
        "\n",
        "#Example: x = 10 assigns 10 to x, and x += 5 updates x to 15.\n",
        "x = 10\n",
        "x"
      ],
      "metadata": {
        "colab": {
          "base_uri": "https://localhost:8080/"
        },
        "id": "R5cW_ZQxU-Zr",
        "outputId": "e8e0f637-20af-49ad-955c-f9fd017edc33"
      },
      "execution_count": 22,
      "outputs": [
        {
          "output_type": "execute_result",
          "data": {
            "text/plain": [
              "10"
            ]
          },
          "metadata": {},
          "execution_count": 22
        }
      ]
    },
    {
      "cell_type": "code",
      "source": [
        "x += 5\n",
        "x"
      ],
      "metadata": {
        "colab": {
          "base_uri": "https://localhost:8080/"
        },
        "id": "pJmDBT3wVdyN",
        "outputId": "0c3530b5-e8e5-4eaa-e578-b65c284cde34"
      },
      "execution_count": 23,
      "outputs": [
        {
          "output_type": "execute_result",
          "data": {
            "text/plain": [
              "15"
            ]
          },
          "metadata": {},
          "execution_count": 23
        }
      ]
    },
    {
      "cell_type": "code",
      "source": [
        "#Bitwise Operators: Perform operations on binary representations of integers ( & (and), | (or), ^ (xor), and ~ (not)).\n",
        "\n",
        "#Example: 5 & 3 results in 1 (binary 0101 & 0011).\n",
        "5 & 3"
      ],
      "metadata": {
        "colab": {
          "base_uri": "https://localhost:8080/"
        },
        "id": "oUfGZJ_TVhYJ",
        "outputId": "95b40c52-1e7d-42f6-8d04-97456952c33b"
      },
      "execution_count": 24,
      "outputs": [
        {
          "output_type": "execute_result",
          "data": {
            "text/plain": [
              "1"
            ]
          },
          "metadata": {},
          "execution_count": 24
        }
      ]
    },
    {
      "cell_type": "code",
      "source": [
        "#Membership Operators: Check for membership in sequences (in and not in).\n",
        "\n",
        "#Example: 'a' in 'apple' results in True.\n",
        "\"a\" in \"apple\""
      ],
      "metadata": {
        "colab": {
          "base_uri": "https://localhost:8080/"
        },
        "id": "OZU5iDXsVxLG",
        "outputId": "ba18a960-f01b-486d-fa4e-433607fb4bb3"
      },
      "execution_count": 27,
      "outputs": [
        {
          "output_type": "execute_result",
          "data": {
            "text/plain": [
              "True"
            ]
          },
          "metadata": {},
          "execution_count": 27
        }
      ]
    },
    {
      "cell_type": "code",
      "source": [
        "#Identity Operators: Check for object identity (is and is not).\n",
        "\n",
        "#Example: a is b checks if a and b refer to the same object in memory.\n",
        "\"a\" is \"b\""
      ],
      "metadata": {
        "colab": {
          "base_uri": "https://localhost:8080/"
        },
        "id": "RFnJWdn4WAFO",
        "outputId": "b2940508-ee4b-4dcb-d03c-320cf9dd3687"
      },
      "execution_count": 29,
      "outputs": [
        {
          "output_type": "stream",
          "name": "stderr",
          "text": [
            "<>:4: SyntaxWarning: \"is\" with a literal. Did you mean \"==\"?\n",
            "<>:4: SyntaxWarning: \"is\" with a literal. Did you mean \"==\"?\n",
            "<ipython-input-29-e46aa840335d>:4: SyntaxWarning: \"is\" with a literal. Did you mean \"==\"?\n",
            "  \"a\" is \"b\"\n"
          ]
        },
        {
          "output_type": "execute_result",
          "data": {
            "text/plain": [
              "False"
            ]
          },
          "metadata": {},
          "execution_count": 29
        }
      ]
    },
    {
      "cell_type": "code",
      "source": [
        "# 5.Explain the concept of type casting in Python with examples.\n",
        "\n",
        "# Type casting definition: Converting a value from one data type to another.\n",
        "\n",
        "#int(): Converts a value to an integer.\n",
        "#Example: int(3.14) results in 3.\n",
        "int(3.14)"
      ],
      "metadata": {
        "colab": {
          "base_uri": "https://localhost:8080/"
        },
        "id": "JE1r0ZOOWVae",
        "outputId": "7fdff8f8-23a7-4262-d538-edad6b4ee1e3"
      },
      "execution_count": 30,
      "outputs": [
        {
          "output_type": "execute_result",
          "data": {
            "text/plain": [
              "3"
            ]
          },
          "metadata": {},
          "execution_count": 30
        }
      ]
    },
    {
      "cell_type": "code",
      "source": [
        "type(3)"
      ],
      "metadata": {
        "colab": {
          "base_uri": "https://localhost:8080/"
        },
        "id": "6NpA2mtgj9XK",
        "outputId": "862971d3-0ae5-4dbb-999a-b45468828168"
      },
      "execution_count": 31,
      "outputs": [
        {
          "output_type": "execute_result",
          "data": {
            "text/plain": [
              "int"
            ]
          },
          "metadata": {},
          "execution_count": 31
        }
      ]
    },
    {
      "cell_type": "code",
      "source": [
        "#float(): Converts a value to a floating-point number.\n",
        "#Example: float('3.14') results in 3.14.\n",
        "float(\"3.14\")"
      ],
      "metadata": {
        "colab": {
          "base_uri": "https://localhost:8080/"
        },
        "id": "BkjKHpdkkAdt",
        "outputId": "cb8b4347-9be6-4a00-e239-8356fbe42e6d"
      },
      "execution_count": 32,
      "outputs": [
        {
          "output_type": "execute_result",
          "data": {
            "text/plain": [
              "3.14"
            ]
          },
          "metadata": {},
          "execution_count": 32
        }
      ]
    },
    {
      "cell_type": "code",
      "source": [
        "type(3.14)"
      ],
      "metadata": {
        "colab": {
          "base_uri": "https://localhost:8080/"
        },
        "id": "n9whgYQlkMk5",
        "outputId": "0456ab54-c0f1-432d-b1f9-076b670f95f3"
      },
      "execution_count": 33,
      "outputs": [
        {
          "output_type": "execute_result",
          "data": {
            "text/plain": [
              "float"
            ]
          },
          "metadata": {},
          "execution_count": 33
        }
      ]
    },
    {
      "cell_type": "code",
      "source": [
        "#str(): Converts a value to a string.\n",
        "#Example: str(123) results in '123'.\n",
        "str(123)"
      ],
      "metadata": {
        "colab": {
          "base_uri": "https://localhost:8080/",
          "height": 35
        },
        "id": "xI1IpyfZkOsf",
        "outputId": "34f1b126-0aad-4b99-f14a-37ba6fde55dd"
      },
      "execution_count": 34,
      "outputs": [
        {
          "output_type": "execute_result",
          "data": {
            "text/plain": [
              "'123'"
            ],
            "application/vnd.google.colaboratory.intrinsic+json": {
              "type": "string"
            }
          },
          "metadata": {},
          "execution_count": 34
        }
      ]
    },
    {
      "cell_type": "code",
      "source": [
        "type(123)"
      ],
      "metadata": {
        "colab": {
          "base_uri": "https://localhost:8080/"
        },
        "id": "DYRvRLDEkXcQ",
        "outputId": "468bfda7-3eb8-453d-db7f-0fc6f19419a5"
      },
      "execution_count": 35,
      "outputs": [
        {
          "output_type": "execute_result",
          "data": {
            "text/plain": [
              "int"
            ]
          },
          "metadata": {},
          "execution_count": 35
        }
      ]
    },
    {
      "cell_type": "code",
      "source": [
        "#bool(): Converts a value to a boolean.\n",
        "#Example: bool(0) results in False.\n",
        "bool(0)"
      ],
      "metadata": {
        "colab": {
          "base_uri": "https://localhost:8080/"
        },
        "id": "p5z1HIVskZ3D",
        "outputId": "f8695546-adea-49ff-b4a0-60c8a2cad1c2"
      },
      "execution_count": 37,
      "outputs": [
        {
          "output_type": "execute_result",
          "data": {
            "text/plain": [
              "False"
            ]
          },
          "metadata": {},
          "execution_count": 37
        }
      ]
    },
    {
      "cell_type": "code",
      "source": [
        "type(False)"
      ],
      "metadata": {
        "colab": {
          "base_uri": "https://localhost:8080/"
        },
        "id": "BlPpVpAbkjtH",
        "outputId": "2e26a307-9617-4650-d0f6-d2fd4f124080"
      },
      "execution_count": 38,
      "outputs": [
        {
          "output_type": "execute_result",
          "data": {
            "text/plain": [
              "bool"
            ]
          },
          "metadata": {},
          "execution_count": 38
        }
      ]
    },
    {
      "cell_type": "code",
      "source": [
        "#list(): Converts an iterable to a list.\n",
        "#Example: list('hello') results in ['h', 'e', 'l', 'l', 'o'].\n",
        "list(\"hello\")"
      ],
      "metadata": {
        "colab": {
          "base_uri": "https://localhost:8080/"
        },
        "id": "aV6u5r2kkqkd",
        "outputId": "04c931e4-459b-4bbf-eee4-b26fcf065cc3"
      },
      "execution_count": 39,
      "outputs": [
        {
          "output_type": "execute_result",
          "data": {
            "text/plain": [
              "['h', 'e', 'l', 'l', 'o']"
            ]
          },
          "metadata": {},
          "execution_count": 39
        }
      ]
    },
    {
      "cell_type": "code",
      "source": [
        "type(['h', 'e', 'l', 'l', 'o'])"
      ],
      "metadata": {
        "colab": {
          "base_uri": "https://localhost:8080/"
        },
        "id": "StxyNmShkyho",
        "outputId": "e217ff82-c71c-4dd3-a462-35f8aeea6437"
      },
      "execution_count": 40,
      "outputs": [
        {
          "output_type": "execute_result",
          "data": {
            "text/plain": [
              "list"
            ]
          },
          "metadata": {},
          "execution_count": 40
        }
      ]
    },
    {
      "cell_type": "code",
      "source": [
        "# 6.How do conditional statements work in Python? Illustrate with examples.\n",
        "\n",
        "#Conditional statements in Python allow you to execute certain blocks of code based on whether a condition is true or false. Here’s a brief overview with examples:\n",
        "\n",
        "#if Statement: Executes a block of code if its condition is true.\n",
        "#Example\n",
        "x = 15\n",
        "if x > 10:\n",
        "  print(\"x is greater than 10\")\n"
      ],
      "metadata": {
        "colab": {
          "base_uri": "https://localhost:8080/"
        },
        "id": "NtHI5Snjk2-T",
        "outputId": "c0263cea-315d-44e3-8f91-efea03ec453c"
      },
      "execution_count": 42,
      "outputs": [
        {
          "output_type": "stream",
          "name": "stdout",
          "text": [
            "x is greater than 10\n"
          ]
        }
      ]
    },
    {
      "cell_type": "code",
      "source": [
        "# if else Statement: Executes the else block of code if the if condition is false.\n",
        "#Example\n",
        "x = 5\n",
        "if x > 10:\n",
        "  print(\"x is greater than 10\")\n",
        "else:\n",
        "  print(\"x is less than 10\")"
      ],
      "metadata": {
        "colab": {
          "base_uri": "https://localhost:8080/"
        },
        "id": "83Aqfqwfm4eG",
        "outputId": "54d08ef4-0178-49e0-9451-16143fe41893"
      },
      "execution_count": 45,
      "outputs": [
        {
          "output_type": "stream",
          "name": "stdout",
          "text": [
            "x is less than 10\n"
          ]
        }
      ]
    },
    {
      "cell_type": "code",
      "source": [
        "#elif Statement: Checks multiple conditions in sequence if the previous conditions were false.\n",
        "#Example\n",
        "x = 20\n",
        "if x > 20:\n",
        "  print(\"x is greater than 20\")\n",
        "elif x == 20:\n",
        "  print(\"x is equal to 20\")\n",
        "else:\n",
        "  print(\"x is less than 20\")"
      ],
      "metadata": {
        "colab": {
          "base_uri": "https://localhost:8080/"
        },
        "id": "uykmlRE9nc9U",
        "outputId": "0ddfa04d-2c3a-4760-88af-aa8bd0766eb3"
      },
      "execution_count": 46,
      "outputs": [
        {
          "output_type": "stream",
          "name": "stdout",
          "text": [
            "x is equal to 20\n"
          ]
        }
      ]
    },
    {
      "cell_type": "code",
      "source": [
        "#Nested if else: Conditions can be nested within other conditionals.\n",
        "#Example\n",
        "x = 12\n",
        "y = 9\n",
        "if x > 10:\n",
        "  if y > 10:\n",
        "    print(\"Both x and y are greater than 10\")\n",
        "  else:\n",
        "    print(\"x is greater than 10 but y is less than 10\")\n",
        "else:\n",
        "  print(\"x is less than 10\")"
      ],
      "metadata": {
        "colab": {
          "base_uri": "https://localhost:8080/"
        },
        "id": "b1TK1FZ8ob4d",
        "outputId": "baa516f0-aeb5-4652-cae6-512398ed1245"
      },
      "execution_count": 51,
      "outputs": [
        {
          "output_type": "stream",
          "name": "stdout",
          "text": [
            "x is greater than 10 but y is less than 10\n"
          ]
        }
      ]
    },
    {
      "cell_type": "code",
      "source": [
        "# 7.Describe the different types of loops in Python and their use cases with examples.\n",
        "\n",
        "# Loop statement allows to execute a block of code repetedly.\n",
        "# while Loop: Repeatedly executes a block of code as long as a condition is true.\n",
        "# Example:\n",
        "count = 0\n",
        "while count < 5:\n",
        "  print(count)\n",
        "  count = count + 1\n"
      ],
      "metadata": {
        "colab": {
          "base_uri": "https://localhost:8080/"
        },
        "id": "Xm-F6iw_rAgv",
        "outputId": "c2146e87-92a5-4591-9f16-00f6a2c862c0"
      },
      "execution_count": 53,
      "outputs": [
        {
          "output_type": "stream",
          "name": "stdout",
          "text": [
            "0\n",
            "1\n",
            "2\n",
            "3\n",
            "4\n"
          ]
        }
      ]
    },
    {
      "cell_type": "code",
      "source": [
        "# for Loop: Iterates over a sequence (like a list, tuple, string, or range) and executes a block of code for each element.\n",
        "# Example\n",
        "for i in range(5):\n",
        "  print(i)"
      ],
      "metadata": {
        "colab": {
          "base_uri": "https://localhost:8080/"
        },
        "id": "Va6R3JiHuXgh",
        "outputId": "c52d84e9-3e30-499c-8834-583094a5c4fe"
      },
      "execution_count": 54,
      "outputs": [
        {
          "output_type": "stream",
          "name": "stdout",
          "text": [
            "0\n",
            "1\n",
            "2\n",
            "3\n",
            "4\n"
          ]
        }
      ]
    },
    {
      "cell_type": "code",
      "source": [
        "# break Statement: Exits the loop prematurely when a condition is met.\n",
        "# Example 1\n",
        "count = 0\n",
        "while count < 10:\n",
        "  print(count)\n",
        "  count = count + 1\n",
        "  if count == 5:\n",
        "    break"
      ],
      "metadata": {
        "colab": {
          "base_uri": "https://localhost:8080/"
        },
        "id": "V8dO3BCDu1L-",
        "outputId": "259c8493-55ef-4f8f-e07c-7a3be50e76a5"
      },
      "execution_count": 55,
      "outputs": [
        {
          "output_type": "stream",
          "name": "stdout",
          "text": [
            "0\n",
            "1\n",
            "2\n",
            "3\n",
            "4\n"
          ]
        }
      ]
    },
    {
      "cell_type": "code",
      "source": [
        "# Example 2\n",
        "for i in range(10):\n",
        "  print(i)\n",
        "  if i == 5:\n",
        "    break"
      ],
      "metadata": {
        "colab": {
          "base_uri": "https://localhost:8080/"
        },
        "id": "kvoQE1ZwwHI8",
        "outputId": "514168af-8ba8-4a9d-a0f3-cc8caf201f93"
      },
      "execution_count": 56,
      "outputs": [
        {
          "output_type": "stream",
          "name": "stdout",
          "text": [
            "0\n",
            "1\n",
            "2\n",
            "3\n",
            "4\n",
            "5\n"
          ]
        }
      ]
    },
    {
      "cell_type": "code",
      "source": [
        "# continue Statement: Skips the current iteration and proceeds with the next iteration of the loop.\n",
        "# Example 1\n",
        "count = 0\n",
        "while count<10:\n",
        "  count = count+1\n",
        "  if count == 5:\n",
        "    continue\n",
        "  print(count)"
      ],
      "metadata": {
        "colab": {
          "base_uri": "https://localhost:8080/"
        },
        "id": "jkBZ3eEiyinN",
        "outputId": "4d38aca5-3cd4-4154-e7f8-402ea485b3ab"
      },
      "execution_count": 65,
      "outputs": [
        {
          "output_type": "stream",
          "name": "stdout",
          "text": [
            "1\n",
            "2\n",
            "3\n",
            "4\n",
            "6\n",
            "7\n",
            "8\n",
            "9\n",
            "10\n"
          ]
        }
      ]
    },
    {
      "cell_type": "code",
      "source": [
        "# Example 2\n",
        "for i in range(10):\n",
        "  if i == 5:\n",
        "    continue\n",
        "  print(i)"
      ],
      "metadata": {
        "colab": {
          "base_uri": "https://localhost:8080/"
        },
        "id": "isuOvVKczbqD",
        "outputId": "e86fd015-3e97-40bc-e45d-37b308d6d6b7"
      },
      "execution_count": 66,
      "outputs": [
        {
          "output_type": "stream",
          "name": "stdout",
          "text": [
            "0\n",
            "1\n",
            "2\n",
            "3\n",
            "4\n",
            "6\n",
            "7\n",
            "8\n",
            "9\n"
          ]
        }
      ]
    },
    {
      "cell_type": "code",
      "source": [],
      "metadata": {
        "id": "gKcbWX_yzo6e"
      },
      "execution_count": null,
      "outputs": []
    }
  ]
}
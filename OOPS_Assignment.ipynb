{
  "nbformat": 4,
  "nbformat_minor": 0,
  "metadata": {
    "colab": {
      "provenance": []
    },
    "kernelspec": {
      "name": "python3",
      "display_name": "Python 3"
    },
    "language_info": {
      "name": "python"
    }
  },
  "cells": [
    {
      "cell_type": "code",
      "execution_count": 1,
      "metadata": {
        "id": "TBegeKg8yuvI"
      },
      "outputs": [],
      "source": [
        "#1. What are the five key concepts of Object-Oriented Programming (OOP)?\n",
        "\n",
        "# 1. Encapsulation: Bundling data and methods that operate on that data within a single unit (class) to restrict access to some components.\n",
        "\n",
        "# 2. Abstraction: Hiding complex implementation details and exposing only the necessary features of an object.\n",
        "\n",
        "# 3. Inheritance: Creating new classes based on existing ones, allowing for code reuse and the establishment of a hierarchical relationship.\n",
        "\n",
        "# 4. Polymorphism: Allowing objects of different classes to be treated as objects of a common superclass, typically through method overriding or overloading.\n",
        "\n",
        "# 5. Composition: Building complex types by combining simpler objects, allowing for more flexible designs without relying on inheritance."
      ]
    },
    {
      "cell_type": "code",
      "source": [
        "# 2. Write a Python class for a `Car` with attributes for `make`, `model`, and `year`. Include a method to display\n",
        "# the car's information.\n",
        "\n",
        "class Car:\n",
        "  def __init__(self, year, make, model):\n",
        "    self.year = year\n",
        "    self.make = make\n",
        "    self.model = model\n",
        "\n",
        "  def get_car_details(self):\n",
        "    print(\"The car is \", self.year , self.make , self.model)"
      ],
      "metadata": {
        "id": "cE-tjzI6zarF"
      },
      "execution_count": 14,
      "outputs": []
    },
    {
      "cell_type": "code",
      "source": [
        "c = Car(\"2024\", \"BMW\", \"Z5\")"
      ],
      "metadata": {
        "id": "tl3P3IH_0NMf"
      },
      "execution_count": 15,
      "outputs": []
    },
    {
      "cell_type": "code",
      "source": [
        "c.get_car_details()"
      ],
      "metadata": {
        "colab": {
          "base_uri": "https://localhost:8080/"
        },
        "id": "kTXu-kMa0S0y",
        "outputId": "924929c4-1829-4bd3-9b90-2109f6ccc9ee"
      },
      "execution_count": 16,
      "outputs": [
        {
          "output_type": "stream",
          "name": "stdout",
          "text": [
            "The car is  2024 BMW Z5\n"
          ]
        }
      ]
    },
    {
      "cell_type": "code",
      "source": [
        "# 3. Explain the difference between instance methods and class methods. Provide an example of each.\n",
        "\n",
        "# Instance Methods\n",
        "# Definition: Instance methods operate on an instance of the class and can access and modify the instance’s attributes.\n",
        "#They take self as the first parameter, which refers to the instance invoking the method.\n",
        "# Usage: These methods are used when you need to work with instance-specific data.\n",
        "# Example:\n",
        "class Car:\n",
        "  def __init__(self, year, make, model):\n",
        "    self.year = year\n",
        "    self.make = make\n",
        "    self.model = model\n",
        "\n",
        "  def get_car_details(self):\n",
        "    print(\"The car is \", self.year , self.make , self.model)"
      ],
      "metadata": {
        "id": "si17AWxC0eyc"
      },
      "execution_count": 17,
      "outputs": []
    },
    {
      "cell_type": "code",
      "source": [
        " c = Car(\"2024\", \"BMW\", \"Z5\")"
      ],
      "metadata": {
        "id": "RrwYQmQv19nj"
      },
      "execution_count": 19,
      "outputs": []
    },
    {
      "cell_type": "code",
      "source": [
        "c.get_car_details()"
      ],
      "metadata": {
        "colab": {
          "base_uri": "https://localhost:8080/"
        },
        "id": "kGzSljvd1-hF",
        "outputId": "d2586e3f-fc48-48e3-d0cb-2f28b535be63"
      },
      "execution_count": 20,
      "outputs": [
        {
          "output_type": "stream",
          "name": "stdout",
          "text": [
            "The car is  2024 BMW Z5\n"
          ]
        }
      ]
    },
    {
      "cell_type": "code",
      "source": [
        "# Definition: Class methods operate on the class itself rather than on instances of the class.\n",
        "#They take cls as the first parameter, which refers to the class. Class methods are defined using the @classmethod decorator.\n",
        "# Usage: These methods are useful for factory methods or when you want to modify class-level attributes.\n",
        "# Example:\n",
        "class Car:\n",
        "  number_of_wheels = 4\n",
        "  def __init__(self, year, make, model):\n",
        "    self.year = year\n",
        "    self.make = make\n",
        "    self.model = model\n",
        "\n",
        "  def get_car_details(self):\n",
        "    print(\"The car is \", self.year , self.make , self.model)\n",
        "\n",
        "  @classmethod\n",
        "  def get_wheels_info(cls):\n",
        "    print(\"The number of wheels in the car is\", cls.number_of_wheels)"
      ],
      "metadata": {
        "id": "9grZVw382CBw"
      },
      "execution_count": 21,
      "outputs": []
    },
    {
      "cell_type": "code",
      "source": [
        "Car.get_wheels_info()"
      ],
      "metadata": {
        "colab": {
          "base_uri": "https://localhost:8080/"
        },
        "id": "j3ukWh6w2p9V",
        "outputId": "546cf5f8-6502-4fe9-803b-5c55213b308d"
      },
      "execution_count": 27,
      "outputs": [
        {
          "output_type": "stream",
          "name": "stdout",
          "text": [
            "The number of wheels in the car is 4\n"
          ]
        }
      ]
    },
    {
      "cell_type": "code",
      "source": [
        "# 4. How does Python implement method overloading? Give an example.\n",
        "\n",
        "# Python does not support traditional method overloading like some other programming languages (e.g., Java or C++)\n",
        "# where multiple methods can have the same name but different parameter lists. Instead, Python allows you to define a method with the same name\n",
        "# but it will only retain the last defined method, effectively overriding the previous ones.\n",
        "\n",
        "# However, you can achieve similar functionality through default parameters or variable-length arguments.\n",
        "# Here's how you can implement a form of method overloading using these approaches:\n",
        "\n",
        "#Default Parameters: You can define a method with optional parameters to provide default values.\n",
        "#Example:\n",
        "class Addition:\n",
        "  def add(self, a, b=0):\n",
        "    return a + b"
      ],
      "metadata": {
        "id": "w7f_XyMp2vRB"
      },
      "execution_count": 1,
      "outputs": []
    },
    {
      "cell_type": "code",
      "source": [
        "a = Addition()\n",
        "a.add(7)"
      ],
      "metadata": {
        "colab": {
          "base_uri": "https://localhost:8080/"
        },
        "id": "h5VkDFHeNZXC",
        "outputId": "7611573e-27e2-4650-c507-1ad770d68362"
      },
      "execution_count": 2,
      "outputs": [
        {
          "output_type": "execute_result",
          "data": {
            "text/plain": [
              "7"
            ]
          },
          "metadata": {},
          "execution_count": 2
        }
      ]
    },
    {
      "cell_type": "code",
      "source": [
        "a.add(7, 8)"
      ],
      "metadata": {
        "colab": {
          "base_uri": "https://localhost:8080/"
        },
        "id": "qa8ES8YgNg6D",
        "outputId": "471b24b7-5c60-4fcf-ad23-2082c6af8586"
      },
      "execution_count": 3,
      "outputs": [
        {
          "output_type": "execute_result",
          "data": {
            "text/plain": [
              "15"
            ]
          },
          "metadata": {},
          "execution_count": 3
        }
      ]
    },
    {
      "cell_type": "code",
      "source": [
        "# Variable-Length Arguments: You can use *args to accept a variable number of arguments, allowing the method to handle different input scenarios.\n",
        "# Example:\n",
        "class Addition:\n",
        "  def add(self, *args):\n",
        "    return sum(args)"
      ],
      "metadata": {
        "id": "7hXX-_V7NkZo"
      },
      "execution_count": 4,
      "outputs": []
    },
    {
      "cell_type": "code",
      "source": [
        "a = Addition()\n",
        "a.add(2, 5)"
      ],
      "metadata": {
        "colab": {
          "base_uri": "https://localhost:8080/"
        },
        "id": "_xHJGMKnN9AT",
        "outputId": "086225d0-3f5e-4601-d216-f64ac951c592"
      },
      "execution_count": 5,
      "outputs": [
        {
          "output_type": "execute_result",
          "data": {
            "text/plain": [
              "7"
            ]
          },
          "metadata": {},
          "execution_count": 5
        }
      ]
    },
    {
      "cell_type": "code",
      "source": [
        "a.add(4, 6, 7, 9)"
      ],
      "metadata": {
        "colab": {
          "base_uri": "https://localhost:8080/"
        },
        "id": "VXAwsRCxOCfr",
        "outputId": "08063417-5bb4-49eb-f04d-9de5bb5216f7"
      },
      "execution_count": 6,
      "outputs": [
        {
          "output_type": "execute_result",
          "data": {
            "text/plain": [
              "26"
            ]
          },
          "metadata": {},
          "execution_count": 6
        }
      ]
    },
    {
      "cell_type": "code",
      "source": [
        "# 5. What are the three types of access modifiers in Python? How are they denoted?\n",
        "\n",
        "# There are three types of access modifiers:\n",
        "\n",
        "# 1. Public\n",
        "# Denotation: Members are declared without any leading underscores.\n",
        "# Accessibility: Public members are accessible from outside the class.\n",
        "\n",
        "# 2. Protected\n",
        "# Denotation: Members are prefixed with a single underscore (_).\n",
        "# Accessibility: Protected members are intended to be accessible only within the class and its subclasses.\n",
        "# However, they are not strictly enforced and can still be accessed from outside the class.\n",
        "\n",
        "# 3. Private\n",
        "# Denotation: Members are prefixed with two underscores (__).\n",
        "# Accessibility: Private members are intended to be accessible only within the class.\n",
        "# They undergo name mangling, which makes it harder (but not impossible) to access them from outside the class."
      ],
      "metadata": {
        "id": "ogZ_GzbEOFXm"
      },
      "execution_count": 7,
      "outputs": []
    },
    {
      "cell_type": "code",
      "source": [
        "# 6. Describe the five types of inheritance in Python. Provide a simple example of multiple inheritance.\n",
        "\n",
        "# In Python, inheritance allows one class (the child or derived class) to inherit attributes and methods from another class (the parent or base class). Here are the five types of inheritance:\n",
        "\n",
        "# 1. Single Inheritance\n",
        "# A derived class inherits from one base class.\n",
        "\n",
        "# 2. Multiple Inheritance\n",
        "# A derived class can inherit from multiple base classes.\n",
        "\n",
        "# 3. Multilevel Inheritance\n",
        "# A derived class inherits from another derived class, forming a hierarchy.\n",
        "\n",
        "# 4. Hierarchical Inheritance\n",
        "# Multiple derived classes inherit from a single base class.\n",
        "\n",
        "# 5. Hybrid Inheritance\n",
        "# A combination of two or more types of inheritance. This can create complex hierarchies.\n",
        "\n",
        "# Example for multiple inheritance:\n",
        "class Father:\n",
        "  def Father(self):\n",
        "    print(\"Inside Father Class\")\n",
        "\n",
        "class Mother:\n",
        "  def Mother(self):\n",
        "    print(\"Inside Mother Class\")\n",
        "\n",
        "class Child(Father, Mother):\n",
        "  def Child(self):\n",
        "    print(\"Inside Child Class\")"
      ],
      "metadata": {
        "id": "SSss0y_tOvqu"
      },
      "execution_count": 13,
      "outputs": []
    },
    {
      "cell_type": "code",
      "source": [
        "c1 = Child()\n",
        "c1.Child()"
      ],
      "metadata": {
        "colab": {
          "base_uri": "https://localhost:8080/"
        },
        "id": "02ObYA5DQyvw",
        "outputId": "be8d1023-6324-4943-de9b-ce30cbc695a4"
      },
      "execution_count": 14,
      "outputs": [
        {
          "output_type": "stream",
          "name": "stdout",
          "text": [
            "Inside Child Class\n"
          ]
        }
      ]
    },
    {
      "cell_type": "code",
      "source": [
        "c1.Father()"
      ],
      "metadata": {
        "colab": {
          "base_uri": "https://localhost:8080/"
        },
        "id": "sRvu6tBDRRnr",
        "outputId": "5a7d8b83-f3c2-4c1a-f47d-07f3e70d0385"
      },
      "execution_count": 15,
      "outputs": [
        {
          "output_type": "stream",
          "name": "stdout",
          "text": [
            "Inside Father Class\n"
          ]
        }
      ]
    },
    {
      "cell_type": "code",
      "source": [
        "c1.Mother()"
      ],
      "metadata": {
        "colab": {
          "base_uri": "https://localhost:8080/"
        },
        "id": "p7RkXowbRT7-",
        "outputId": "a1a57f16-27a9-4e1e-d9f1-64a9e4706652"
      },
      "execution_count": 16,
      "outputs": [
        {
          "output_type": "stream",
          "name": "stdout",
          "text": [
            "Inside Mother Class\n"
          ]
        }
      ]
    },
    {
      "cell_type": "code",
      "source": [
        "# 7. What is the Method Resolution Order (MRO) in Python? How can you retrieve it programmatically?\n",
        "\n",
        "# The Method Resolution Order (MRO) in Python defines the order in which base classes are looked up when searching for a method.\n",
        "# This is particularly important in scenarios involving multiple inheritance, where the same method might exist in multiple base classes.\n",
        "\n",
        "# Key Points about MRO\n",
        "# The MRO is determined using the C3 linearization algorithm, which ensures a consistent order for class method resolution.\n",
        "# It helps Python determine the order in which base classes should be traversed to find a method or attribute.\n",
        "\n",
        "# Retrieving MRO Programmatically\n",
        "# You can retrieve the MRO of a class using the mro() method or the __mro__ attribute.\n",
        "\n",
        "#Example:\n",
        "class A:\n",
        "    pass\n",
        "\n",
        "class B(A):\n",
        "    pass\n",
        "\n",
        "class C(A):\n",
        "    pass\n",
        "\n",
        "class D(B, C):\n",
        "    pass\n",
        "\n",
        "# Retrieve MRO\n",
        "print(D.mro())\n"
      ],
      "metadata": {
        "colab": {
          "base_uri": "https://localhost:8080/"
        },
        "id": "fqBt3AvnRWx-",
        "outputId": "e262ec83-7aa5-4a70-e834-4517174612be"
      },
      "execution_count": 17,
      "outputs": [
        {
          "output_type": "stream",
          "name": "stdout",
          "text": [
            "[<class '__main__.D'>, <class '__main__.B'>, <class '__main__.C'>, <class '__main__.A'>, <class 'object'>]\n"
          ]
        }
      ]
    },
    {
      "cell_type": "code",
      "source": [
        "print(D.__mro__)"
      ],
      "metadata": {
        "colab": {
          "base_uri": "https://localhost:8080/"
        },
        "id": "CtqQ6SDYSBJp",
        "outputId": "fbfc1703-486a-4d0e-bc19-5bee8e4b0f9a"
      },
      "execution_count": 18,
      "outputs": [
        {
          "output_type": "stream",
          "name": "stdout",
          "text": [
            "(<class '__main__.D'>, <class '__main__.B'>, <class '__main__.C'>, <class '__main__.A'>, <class 'object'>)\n"
          ]
        }
      ]
    },
    {
      "cell_type": "code",
      "source": [
        "# 8. Create an abstract base class `Shape` with an abstract method `area()`. Then create two subclasses\n",
        "# `Circle` and `Rectangle` that implement the `area()` method.\n",
        "\n",
        "from abc import ABC, abstractmethod\n",
        "import math\n",
        "\n",
        "class Shape(ABC):\n",
        "    @abstractmethod\n",
        "    def area(self):\n",
        "        pass\n",
        "\n",
        "class Circle(Shape):\n",
        "    def __init__(self, radius):\n",
        "        self.radius = radius\n",
        "\n",
        "    def area(self):\n",
        "        return math.pi * (self.radius ** 2)\n",
        "\n",
        "class Rectangle(Shape):\n",
        "    def __init__(self, width, height):\n",
        "        self.width = width\n",
        "        self.height = height\n",
        "\n",
        "    def area(self):\n",
        "        return self.width * self.height\n"
      ],
      "metadata": {
        "id": "GFgVTFJ9SElU"
      },
      "execution_count": 1,
      "outputs": []
    },
    {
      "cell_type": "code",
      "source": [
        "circ = Circle(12)\n",
        "circ.area()"
      ],
      "metadata": {
        "colab": {
          "base_uri": "https://localhost:8080/"
        },
        "id": "PBDMahrC006E",
        "outputId": "1f01d6d2-0d1a-4e0f-af85-540ac64670d8"
      },
      "execution_count": 2,
      "outputs": [
        {
          "output_type": "execute_result",
          "data": {
            "text/plain": [
              "452.3893421169302"
            ]
          },
          "metadata": {},
          "execution_count": 2
        }
      ]
    },
    {
      "cell_type": "code",
      "source": [
        "rect = Rectangle(5, 7)\n",
        "rect.area()"
      ],
      "metadata": {
        "colab": {
          "base_uri": "https://localhost:8080/"
        },
        "id": "MwJ7ET5x09bR",
        "outputId": "96c2f79c-9bb2-4b64-b448-9850c7a12a02"
      },
      "execution_count": 3,
      "outputs": [
        {
          "output_type": "execute_result",
          "data": {
            "text/plain": [
              "35"
            ]
          },
          "metadata": {},
          "execution_count": 3
        }
      ]
    },
    {
      "cell_type": "code",
      "source": [
        "# 9. Demonstrate polymorphism by creating a function that can work with different shape objects to calculate\n",
        "# and print their areas.\n",
        "\n",
        "# Polymorphism allows functions to use objects of different classes interchangeably, provided they share a common interface.\n",
        "# In this case, we can create a function th\n",
        "\n",
        "from abc import ABC, abstractmethod\n",
        "import math\n",
        "\n",
        "# Abstract base class\n",
        "class Shape(ABC):\n",
        "    @abstractmethod\n",
        "    def area(self):\n",
        "        pass\n",
        "\n",
        "# Subclass for Circle\n",
        "class Circle(Shape):\n",
        "    def __init__(self, radius):\n",
        "        self.radius = radius\n",
        "\n",
        "    def area(self):\n",
        "        return math.pi * (self.radius ** 2)\n",
        "\n",
        "# Subclass for Rectangle\n",
        "class Rectangle(Shape):\n",
        "    def __init__(self, width, height):\n",
        "        self.width = width\n",
        "        self.height = height\n",
        "\n",
        "    def area(self):\n",
        "        return self.width * self.height\n",
        "\n",
        "# Function to calculate area\n",
        "def print_area(shape):\n",
        "    print(f\"Area: {shape.area():.2f}\")\n",
        "\n",
        "circ = Circle(5)\n",
        "a = print_area(circ)"
      ],
      "metadata": {
        "colab": {
          "base_uri": "https://localhost:8080/"
        },
        "id": "kqpD68vK1HQX",
        "outputId": "d794ca40-034b-4251-c31f-3122e944a0df"
      },
      "execution_count": 5,
      "outputs": [
        {
          "output_type": "stream",
          "name": "stdout",
          "text": [
            "Area: 78.54\n"
          ]
        }
      ]
    },
    {
      "cell_type": "code",
      "source": [
        "rect = Rectangle(8, 9)\n",
        "b = print_area(rect)"
      ],
      "metadata": {
        "colab": {
          "base_uri": "https://localhost:8080/"
        },
        "id": "pdNTq1dY2Ml7",
        "outputId": "77a6c672-f9a6-4a76-8dfc-27860d5431e7"
      },
      "execution_count": 6,
      "outputs": [
        {
          "output_type": "stream",
          "name": "stdout",
          "text": [
            "Area: 72.00\n"
          ]
        }
      ]
    },
    {
      "cell_type": "code",
      "source": [
        "# 10. Implement encapsulation in a `BankAccount` class with private attributes for `balance` and\n",
        "# `account_number`. Include methods for deposit, withdrawal, and balance inquiry.\n",
        "\n",
        "class BankAccount:\n",
        "    def __init__(self, account_number, initial_balance=0):\n",
        "        self.__account_number = account_number  # Private attribute\n",
        "        self.__balance = initial_balance          # Private attribute\n",
        "\n",
        "    def deposit(self, amount):\n",
        "        if amount > 0:\n",
        "            self.__balance += amount\n",
        "            print(f\"Deposited: ${amount:.2f}\")\n",
        "        else:\n",
        "            print(\"Deposit amount must be positive.\")\n",
        "\n",
        "    def withdraw(self, amount):\n",
        "        if 0 < amount <= self.__balance:\n",
        "            self.__balance -= amount\n",
        "            print(f\"Withdrew: ${amount:.2f}\")\n",
        "        else:\n",
        "            print(\"Insufficient funds or invalid withdrawal amount.\")\n",
        "\n",
        "    def get_balance(self):\n",
        "        return self.__balance\n",
        "\n",
        "    def get_account_number(self):\n",
        "        return self.__account_number\n"
      ],
      "metadata": {
        "id": "eGxXV7hC2gZs"
      },
      "execution_count": 7,
      "outputs": []
    },
    {
      "cell_type": "code",
      "source": [
        "cust = BankAccount(1234, 1000)\n",
        "cust.deposit(1000)"
      ],
      "metadata": {
        "colab": {
          "base_uri": "https://localhost:8080/"
        },
        "id": "MSueEkew3Aqk",
        "outputId": "8e55d953-d01d-4cfe-e00c-83d442e80d8f"
      },
      "execution_count": 8,
      "outputs": [
        {
          "output_type": "stream",
          "name": "stdout",
          "text": [
            "Deposited: $1000.00\n"
          ]
        }
      ]
    },
    {
      "cell_type": "code",
      "source": [
        "cust.get_balance()"
      ],
      "metadata": {
        "colab": {
          "base_uri": "https://localhost:8080/"
        },
        "id": "n8ncCHzi3OKT",
        "outputId": "b6a33a0c-afb4-4392-f6f0-6d7270348663"
      },
      "execution_count": 9,
      "outputs": [
        {
          "output_type": "execute_result",
          "data": {
            "text/plain": [
              "2000"
            ]
          },
          "metadata": {},
          "execution_count": 9
        }
      ]
    },
    {
      "cell_type": "code",
      "source": [
        "cust.withdraw(3000)"
      ],
      "metadata": {
        "colab": {
          "base_uri": "https://localhost:8080/"
        },
        "id": "9VsN41EM3R3o",
        "outputId": "7df45ea7-39ab-40bd-e1b2-cc8027ddc5e3"
      },
      "execution_count": 10,
      "outputs": [
        {
          "output_type": "stream",
          "name": "stdout",
          "text": [
            "Insufficient funds or invalid withdrawal amount.\n"
          ]
        }
      ]
    },
    {
      "cell_type": "code",
      "source": [
        "cust.withdraw(500)"
      ],
      "metadata": {
        "colab": {
          "base_uri": "https://localhost:8080/"
        },
        "id": "N_yLhI9Q3VZk",
        "outputId": "dbb06aab-d01f-43f9-9183-798e77f5a985"
      },
      "execution_count": 11,
      "outputs": [
        {
          "output_type": "stream",
          "name": "stdout",
          "text": [
            "Withdrew: $500.00\n"
          ]
        }
      ]
    },
    {
      "cell_type": "code",
      "source": [
        "cust.get_account_number()"
      ],
      "metadata": {
        "colab": {
          "base_uri": "https://localhost:8080/"
        },
        "id": "A7KRaJKW3YQQ",
        "outputId": "71534c56-d571-42eb-d68e-08813159cced"
      },
      "execution_count": 12,
      "outputs": [
        {
          "output_type": "execute_result",
          "data": {
            "text/plain": [
              "1234"
            ]
          },
          "metadata": {},
          "execution_count": 12
        }
      ]
    },
    {
      "cell_type": "code",
      "source": [
        "# 11. Write a class that overrides the `__str__` and `__add__` magic methods. What will these methods allow\n",
        "# you to do?\n",
        "\n",
        "class Vector:\n",
        "    def __init__(self, x, y):\n",
        "        self.x = x\n",
        "        self.y = y\n",
        "\n",
        "    def __str__(self):\n",
        "        return f\"Vector({self.x}, {self.y})\"\n",
        "\n",
        "    def __add__(self, other):\n",
        "        if isinstance(other, Vector):\n",
        "            return Vector(self.x + other.x, self.y + other.y)\n",
        "        return NotImplemented  # Return NotImplemented for unsupported types\n",
        "\n",
        "v1 = Vector(3, 4)\n",
        "v2 = Vector(5, 6)\n",
        "\n",
        "print(v1)\n",
        "print(v2)"
      ],
      "metadata": {
        "colab": {
          "base_uri": "https://localhost:8080/"
        },
        "id": "c3kl5jNa3a6S",
        "outputId": "00a252f2-f7e6-49f3-f8e1-81313e3fd421"
      },
      "execution_count": 14,
      "outputs": [
        {
          "output_type": "stream",
          "name": "stdout",
          "text": [
            "Vector(3, 4)\n",
            "Vector(5, 6)\n"
          ]
        }
      ]
    },
    {
      "cell_type": "code",
      "source": [
        "v3 = v1 + v2\n",
        "print(v3)"
      ],
      "metadata": {
        "colab": {
          "base_uri": "https://localhost:8080/"
        },
        "id": "GMXc9Gyw4I4v",
        "outputId": "ff55d0bc-a82e-45b7-9877-a20a4d2657d3"
      },
      "execution_count": 15,
      "outputs": [
        {
          "output_type": "stream",
          "name": "stdout",
          "text": [
            "Vector(8, 10)\n"
          ]
        }
      ]
    },
    {
      "cell_type": "code",
      "source": [
        "# 12. Create a decorator that measures and prints the execution time of a function.\n",
        "\n",
        "import time\n",
        "\n",
        "def time_measurement(func):\n",
        "    def wrapper(*args, **kwargs):\n",
        "        start_time = time.time()\n",
        "        result = func(*args, **kwargs)\n",
        "        end_time = time.time()\n",
        "        execution_time = end_time - start_time\n",
        "        print(f\"Execution time of '{func.__name__}': {execution_time:.6f} seconds\")\n",
        "        return result\n",
        "    return wrapper"
      ],
      "metadata": {
        "id": "vZsL67374ekb"
      },
      "execution_count": 11,
      "outputs": []
    },
    {
      "cell_type": "code",
      "source": [
        "@time_measurement\n",
        "def square(n):\n",
        "   return n**2"
      ],
      "metadata": {
        "id": "0-8KWMETqk8s"
      },
      "execution_count": 16,
      "outputs": []
    },
    {
      "cell_type": "code",
      "source": [
        "square(4)"
      ],
      "metadata": {
        "colab": {
          "base_uri": "https://localhost:8080/"
        },
        "id": "z7Ublc9crv4B",
        "outputId": "9f7a481f-3d88-446e-d256-c016813e936d"
      },
      "execution_count": 17,
      "outputs": [
        {
          "output_type": "stream",
          "name": "stdout",
          "text": [
            "Execution time of 'square': 0.000003 seconds\n"
          ]
        },
        {
          "output_type": "execute_result",
          "data": {
            "text/plain": [
              "16"
            ]
          },
          "metadata": {},
          "execution_count": 17
        }
      ]
    },
    {
      "cell_type": "code",
      "source": [
        "# 13. Explain the concept of the Diamond Problem in multiple inheritance. How does Python resolve it?\n",
        "\n",
        "# Diamond Problem in Multiple Inheritance\n",
        "# Definition: The Diamond Problem occurs when a class inherits from two classes that both inherit from a common base class, leading to ambiguity in method resolution.\n",
        "\n",
        "# Structure: It can be visualized as a diamond-shaped hierarchy where a base class has two subclasses, and a fourth class inherits from both subclasses.\n",
        "\n",
        "# Ambiguity: When a method is called on the derived class, it can be unclear which superclass's method should be executed if both subclasses have overridden it.\n",
        "\n",
        "# Method Resolution Order (MRO): Python uses the C3 Linearization algorithm to determine the order of method resolution, ensuring a consistent path.\n",
        "\n",
        "# Single Inclusion: Each class is included only once in the MRO, which prevents ambiguity and provides a clear resolution order.\n",
        "\n",
        "# Inspecting MRO: You can view the MRO of a class using the mro() method or the __mro__ attribute.\n",
        "\n",
        "# Example: In a class hierarchy with classes A, B, C, and D (where D inherits from B and C), calling a method on D will resolve based on the defined MRO, typically prioritizing the first class in the inheritance list."
      ],
      "metadata": {
        "id": "2rnKKZLMryDt"
      },
      "execution_count": 18,
      "outputs": []
    },
    {
      "cell_type": "code",
      "source": [
        "# 14. Write a class method that keeps track of the number of instances created from a class.\n",
        "\n",
        "class InstanceCounter:\n",
        "    instance_count = 0\n",
        "\n",
        "    def __init__(self):\n",
        "        InstanceCounter.instance_count += 1\n",
        "\n",
        "    @classmethod\n",
        "    def get_instance_count(cls):\n",
        "        return cls.instance_count\n",
        "\n",
        "\n",
        "obj1 = InstanceCounter()\n",
        "obj2 = InstanceCounter()\n",
        "obj3 = InstanceCounter()"
      ],
      "metadata": {
        "id": "RTg_B8YAsocB"
      },
      "execution_count": 20,
      "outputs": []
    },
    {
      "cell_type": "code",
      "source": [
        "InstanceCounter.get_instance_count()"
      ],
      "metadata": {
        "colab": {
          "base_uri": "https://localhost:8080/"
        },
        "id": "SuevAZ2UJBnJ",
        "outputId": "6d77079f-01e8-4e91-bf68-2a0c2783a3fe"
      },
      "execution_count": 21,
      "outputs": [
        {
          "output_type": "execute_result",
          "data": {
            "text/plain": [
              "3"
            ]
          },
          "metadata": {},
          "execution_count": 21
        }
      ]
    },
    {
      "cell_type": "code",
      "source": [
        "#15. Implement a static method in a class that checks if a given year is a leap year.\n",
        "\n",
        "# A year is considered a leap year if:\n",
        "\n",
        "# It is divisible by 4.\n",
        "# If it is divisible by 100, it must also be divisible by 400.\n",
        "\n",
        "class YearChecker:\n",
        "    @staticmethod\n",
        "    def is_leap_year(year):\n",
        "        \"\"\"Check if a given year is a leap year.\"\"\"\n",
        "        if (year % 4 == 0 and year % 100 != 0) or (year % 400 == 0):\n",
        "            return True\n",
        "        return False\n",
        "\n",
        "\n",
        "YearChecker.is_leap_year(2024)"
      ],
      "metadata": {
        "colab": {
          "base_uri": "https://localhost:8080/"
        },
        "id": "vCSZ7dIfJFKu",
        "outputId": "dcb63072-86cd-4805-d9c1-a8de43edea11"
      },
      "execution_count": 23,
      "outputs": [
        {
          "output_type": "execute_result",
          "data": {
            "text/plain": [
              "True"
            ]
          },
          "metadata": {},
          "execution_count": 23
        }
      ]
    },
    {
      "cell_type": "code",
      "source": [
        "YearChecker.is_leap_year(2023)"
      ],
      "metadata": {
        "colab": {
          "base_uri": "https://localhost:8080/"
        },
        "id": "P7UilyXDJu1a",
        "outputId": "c355848d-b011-4243-d0b6-86bf5ef68f15"
      },
      "execution_count": 24,
      "outputs": [
        {
          "output_type": "execute_result",
          "data": {
            "text/plain": [
              "False"
            ]
          },
          "metadata": {},
          "execution_count": 24
        }
      ]
    },
    {
      "cell_type": "code",
      "source": [],
      "metadata": {
        "id": "QTa6CY9UJ-cc"
      },
      "execution_count": null,
      "outputs": []
    }
  ]
}
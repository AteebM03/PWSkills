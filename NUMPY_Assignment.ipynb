{
  "nbformat": 4,
  "nbformat_minor": 0,
  "metadata": {
    "colab": {
      "provenance": []
    },
    "kernelspec": {
      "name": "python3",
      "display_name": "Python 3"
    },
    "language_info": {
      "name": "python"
    }
  },
  "cells": [
    {
      "cell_type": "code",
      "execution_count": 1,
      "metadata": {
        "id": "T5HAE1v1NvyU"
      },
      "outputs": [],
      "source": [
        "# 1. Explain the purpose and advantages of NumPy in scientific computing and data analysis. How does it\n",
        "# enhance Python's capabilities for numerical operations?\n",
        "\n",
        "# Purpose of NumPy:\n",
        "# Efficient Array Handling**: Provides a powerful `ndarray` for large, multi-dimensional arrays.\n",
        "# Mathematical Functions**: Offers a wide range of built-in mathematical operations for arrays.\n",
        "# Broadcasting**: Enables operations on arrays of different shapes without explicit loops.\n",
        "# Integration**: Serves as a foundation for other libraries like SciPy and Pandas.\n",
        "\n",
        "# Advantages of NumPy:\n",
        "# Performance**: Fast execution due to C implementation and vectorized operations.\n",
        "# Convenience**: Intuitive syntax leads to cleaner and more readable code.\n",
        "# Functionality**: Comprehensive mathematical and statistical functions for diverse applications.\n",
        "# Memory Efficiency**: Lower memory usage compared to Python lists and efficient data manipulation.\n",
        "# Community Support**: Strong ecosystem with extensive documentation and community resources.\n",
        "\n",
        "# Enhancements to Python:\n",
        "# Vectorization**: Applies functions to entire arrays, reducing loop usage.\n",
        "# Linear Algebra**: Robust tools for matrix operations and solving equations.\n",
        "# Interoperability**: Seamless conversion between NumPy arrays and other data formats."
      ]
    },
    {
      "cell_type": "code",
      "source": [
        "# 2. Compare and contrast np.mean() and np.average() functions in NumPy. When would you use one over the\n",
        "# other?\n",
        "\n",
        "# Both np.mean() and np.average() are functions in NumPy used to compute the central tendency of data, but they have distinct features and use cases. Here’s a comparison:\n",
        "\n",
        "# np.mean()\n",
        "# Purpose: Calculates the arithmetic mean (average) of array elements.\n",
        "# Syntax: np.mean(array, axis=None, keepdims=False)\n",
        "# Default Behavior: Computes the mean of all elements if no axis is specified.\n",
        "# Weights: Does not support weights; all elements contribute equally to the mean.\n",
        "# Use Case: Ideal for simple average calculations where all data points are treated equally.\n",
        "\n",
        "# np.average()\n",
        "# Purpose: Computes the weighted average of array elements.\n",
        "# Syntax: np.average(array, weights=None, axis=None, returned=False)\n",
        "# Weights: Supports an optional weights parameter, allowing specific contributions for each element.\n",
        "# Output: Can return both the weighted average and the sum of weights if returned=True.\n",
        "# Use Case: Useful when you need to account for varying significance of data points, such as in statistical analysis or when working with probabilities.\n",
        "\n",
        "# When to Use Each:\n",
        "# Use np.mean() when you need a straightforward average of values with no additional considerations.\n",
        "# Use np.average() when you require a weighted average or need to specify the importance of certain values in the dataset.\n",
        "# Example Scenarios:\n",
        "# np.mean(): Calculating the average test score of a class where all scores are equally important.\n",
        "# np.average(): Finding the average price of products where some products have higher sales volumes, requiring their prices to weigh more in the final average.\n"
      ],
      "metadata": {
        "id": "gzvacnIPOGsS"
      },
      "execution_count": 2,
      "outputs": []
    },
    {
      "cell_type": "code",
      "source": [
        "# 3. Describe the methods for reversing a NumPy array along different axes. Provide examples for 1D and 2D arrays.\n",
        "\n",
        "# Reversing a NumPy array can be done easily using slicing techniques. Here’s how you can reverse 1D and 2D arrays along different axes.\n",
        "\n",
        "# 1D Array Reversal\n",
        "# To reverse a 1D array, you can use slicing with a step of -1.\n",
        "\n",
        "#Example:\n",
        "import numpy as np\n",
        "\n",
        "arr1d = np.array([1, 2, 3, 4])\n",
        "revarry1 = arr1d[ : : -1]\n",
        "revarry1"
      ],
      "metadata": {
        "colab": {
          "base_uri": "https://localhost:8080/"
        },
        "id": "dxdIsSErOaSk",
        "outputId": "1cd53a99-4711-4d10-9768-74cebbdf8e42"
      },
      "execution_count": 5,
      "outputs": [
        {
          "output_type": "execute_result",
          "data": {
            "text/plain": [
              "array([4, 3, 2, 1])"
            ]
          },
          "metadata": {},
          "execution_count": 5
        }
      ]
    },
    {
      "cell_type": "code",
      "source": [
        "# 2D Array Reversal\n",
        "# For a 2D array, you can reverse along specific axes using slicing as well.\n",
        "\n",
        "# To reverse the entire array (both rows and columns), use [::-1, ::-1].\n",
        "# To reverse along a specific axis:\n",
        "# Axis 0: Reverse the rows (vertically).\n",
        "# Axis 1: Reverse the columns (horizontally)."
      ],
      "metadata": {
        "id": "AwwysQFgP1UW"
      },
      "execution_count": null,
      "outputs": []
    },
    {
      "cell_type": "code",
      "source": [
        "arry2d = np.array([[1, 2, 3], [4, 5, 6]])\n",
        "revarry2d = arry2d[ : : -1, : : -1]\n",
        "revarry2d"
      ],
      "metadata": {
        "colab": {
          "base_uri": "https://localhost:8080/"
        },
        "id": "InBG6-02PE9J",
        "outputId": "855c90aa-5797-4d46-f4b4-d042ff655dec"
      },
      "execution_count": 6,
      "outputs": [
        {
          "output_type": "execute_result",
          "data": {
            "text/plain": [
              "array([[6, 5, 4],\n",
              "       [3, 2, 1]])"
            ]
          },
          "metadata": {},
          "execution_count": 6
        }
      ]
    },
    {
      "cell_type": "code",
      "source": [
        "# 4. How can you determine the data type of elements in a NumPy array? Discuss the importance of data types\n",
        "# in memory management and performance.\n",
        "\n",
        "# In NumPy, you can determine the data type of elements in an array using the .dtype attribute of the NumPy array. Here’s how you can do it\n",
        "# along with a discussion on the importance of data types in memory management and performance.\n",
        "\n",
        "# Importance of Data Types\n",
        "# Memory Management:\n",
        "\n",
        "# Different data types consume different amounts of memory.\n",
        "\n",
        "# For example, an int64 type uses 8 bytes, while an int32 uses only 4 bytes. Choosing the appropriate data type can significantly reduce memory usage, especially when dealing with large datasets.\n",
        "# If you have a large array of integers that can fit into a smaller type (like int8 or int16), using those types instead of larger types can help optimize memory usage.\n",
        "# Performance:\n",
        "\n",
        "# Operations on arrays are faster when the data types are suited for the operations being performed. For example, using floating-point numbers for\n",
        "# calculations involving decimals will yield faster results than converting integers to floats during calculations.\n",
        "# Using the appropriate data type can also help improve cache efficiency and reduce computational overhead, leading to better overall performance.\n",
        "\n",
        "# Data Integrity:\n",
        "\n",
        "# Choosing the correct data type ensures that the data maintains its integrity. For example, using an integer type for a value that\n",
        "# should never be a decimal helps prevent unexpected behavior or errors during calculations.\n",
        "\n",
        "# Compatibility with Libraries:\n",
        "\n",
        "# Many scientific computing libraries and functions expect specific data types. Using the correct data type ensures compatibility and\n",
        "# helps avoid type-related errors.\n"
      ],
      "metadata": {
        "id": "VviapgLxPpe5"
      },
      "execution_count": 7,
      "outputs": []
    },
    {
      "cell_type": "code",
      "source": [
        "# 5. Define ndarrays in NumPy and explain their key features. How do they differ from standard Python lists?\n",
        "\n",
        "# Definition of ndarrays in NumPy\n",
        "# In NumPy, ndarrays (n-dimensional arrays) are the core data structure that allows for efficient storage and manipulation of multi-dimensional data. They are designed to provide a fast and flexible way to work with large datasets, supporting a variety of numerical operations.\n",
        "\n",
        "# Key Features of ndarrays\n",
        "# Homogeneous Data: All elements in an ndarray must be of the same data type (e.g., all integers, all floats). This uniformity allows for optimized memory usage and performance.\n",
        "\n",
        "# Multi-dimensional: Ndarrays can be one-dimensional (1D), two-dimensional (2D), or even multi-dimensional (N-D). This flexibility allows for complex data representations like matrices and tensors.\n",
        "\n",
        "# Contiguous Memory Allocation: Ndarrays store data in contiguous blocks of memory, which enhances performance during numerical operations and minimizes overhead.\n",
        "\n",
        "# Broadcasting: This feature allows for arithmetic operations between arrays of different shapes without explicit replication of data. It makes it easier to perform operations on multi-dimensional data.\n",
        "\n",
        "# Vectorized Operations: Ndarrays support vectorized operations, which means operations can be applied to entire arrays at once, resulting in concise and efficient code that avoids explicit loops.\n",
        "\n",
        "# Advanced Indexing and Slicing: Ndarrays support advanced indexing capabilities, allowing for sophisticated data manipulation through boolean indexing, slicing, and integer array indexing.\n",
        "\n",
        "# Rich Library Support: Ndarrays serve as the foundational data structure for many scientific computing libraries, making them integral to data analysis and machine learning workflows.\n",
        "\n",
        "# Differences from Standard Python Lists\n",
        "# Data Type:\n",
        "\n",
        "# ndarrays: Must contain elements of the same data type.\n",
        "# Python Lists: Can contain elements of different types (e.g., integers, floats, strings).\n",
        "# Performance:\n",
        "\n",
        "# ndarrays: Faster for numerical operations due to contiguous memory layout and optimized C implementations.\n",
        "# Python Lists: Slower for numerical computations because operations typically involve iterating through elements.\n",
        "# Memory Efficiency:\n",
        "\n",
        "# ndarrays: More memory-efficient since they store data in a uniform type without the overhead of type information for each element.\n",
        "# Python Lists: Use more memory due to storing references to each element and allowing for mixed types.\n",
        "# Functionality:\n",
        "\n",
        "# ndarrays: Support a wide range of mathematical functions and operations directly, enabling easier complex calculations.\n",
        "# Python Lists: Do not have built-in support for mathematical operations; additional libraries or loops are required for numerical operations.\n",
        "# Multi-dimensional Capability:\n",
        "\n",
        "# ndarrays: Naturally support multi-dimensional structures, making them ideal for matrix and tensor operations.\n",
        "# Python Lists: Can be nested to create multi-dimensional structures, but this is less efficient and more cumbersome.\n"
      ],
      "metadata": {
        "id": "0bSvZOVAQZl7"
      },
      "execution_count": 8,
      "outputs": []
    },
    {
      "cell_type": "code",
      "source": [
        "# 6. Analyze the performance benefits of NumPy arrays over Python lists for large-scale numerical operations.\n",
        "\n",
        "# NumPy arrays provide several performance benefits over Python lists, particularly for large-scale numerical operations. Here are the key advantages:\n",
        "\n",
        "# 1. Faster Computation\n",
        "# Vectorization: NumPy arrays support vectorized operations, allowing calculations to be applied to entire arrays at once. This eliminates the need for explicit loops, significantly speeding up computations.\n",
        "# Optimized C Implementation: NumPy is built on optimized C and Fortran libraries, which allow for faster execution of array operations compared to the interpreted nature of Python.\n",
        "\n",
        "# 2. Memory Efficiency\n",
        "# Contiguous Memory Allocation: NumPy arrays store data in contiguous blocks of memory, which reduces overhead and improves cache performance. This is particularly beneficial for large datasets, as accessing data from contiguous memory is faster.\n",
        "# Reduced Memory Footprint: Ndarrays require less memory than Python lists because they store data in a homogeneous type without the additional overhead of storing type information for each element.\n",
        "\n",
        "# 3. Efficient Operations\n",
        "# Broadcasting: NumPy allows for broadcasting, which means that operations can be performed on arrays of different shapes without creating copies of the data. This reduces memory usage and computation time.\n",
        "# Built-in Mathematical Functions: NumPy provides a rich set of built-in functions optimized for array operations. These functions are implemented in low-level languages, ensuring faster execution than equivalent Python list operations.\n",
        "\n",
        "# 4. Better Performance for Large Data Sets\n",
        "# Scalability: As data size increases, the performance gap between NumPy arrays and Python lists widens. NumPy can handle large-scale numerical operations more efficiently due to its optimized architecture.\n",
        "# Parallel Processing: NumPy operations can take advantage of low-level optimizations, such as SIMD (Single Instruction, Multiple Data) and parallel processing, further enhancing performance for large datasets.\n",
        "\n",
        "# 5. Advanced Indexing and Slicing\n",
        "# Efficient Access: NumPy’s advanced indexing and slicing capabilities allow for quick and efficient access to data subsets. This reduces the time complexity of operations compared to manually iterating over Python lists.\n",
        "# Manipulation of Multi-dimensional Data: NumPy excels at manipulating multi-dimensional data, making it ideal for applications like image processing, where operations on large matrices are common."
      ],
      "metadata": {
        "id": "_XYsco42QzA2"
      },
      "execution_count": 9,
      "outputs": []
    },
    {
      "cell_type": "code",
      "source": [
        "# 7. Compare vstack() and hstack() functions in NumPy. Provide examples demonstrating their usage and output.\n",
        "\n",
        "# In NumPy, vstack() and hstack() are functions used to stack arrays vertically and horizontally, respectively. Here’s a detailed comparison of the two functions along with examples demonstrating their usage.\n",
        "\n",
        "# numpy.vstack()\n",
        "# Purpose: Stacks arrays in sequence vertically (row-wise).\n",
        "# Input: Requires arrays to have the same shape along all but the first axis (number of columns must match).\n",
        "\n",
        "# Example:\n",
        "\n",
        "arr1 = np.array([[1, 2, 3], [4, 5, 6]])\n",
        "arr2 = np.array([[7, 8, 9], [10, 11, 12]])\n",
        "\n",
        "stack_ver = np.vstack((arr1, arr2))\n",
        "stack_ver"
      ],
      "metadata": {
        "colab": {
          "base_uri": "https://localhost:8080/"
        },
        "id": "xJ5qqR3uRE98",
        "outputId": "980ca97f-1015-4595-c6cf-7dd71d364602"
      },
      "execution_count": 10,
      "outputs": [
        {
          "output_type": "execute_result",
          "data": {
            "text/plain": [
              "array([[ 1,  2,  3],\n",
              "       [ 4,  5,  6],\n",
              "       [ 7,  8,  9],\n",
              "       [10, 11, 12]])"
            ]
          },
          "metadata": {},
          "execution_count": 10
        }
      ]
    },
    {
      "cell_type": "code",
      "source": [
        "# numpy.hstack()\n",
        "# Purpose: Stacks arrays in sequence horizontally (column-wise).\n",
        "# Input: Requires arrays to have the same shape along all but the second axis (number of rows must match).\n",
        "# Output: Returns a new array with the stacked columns.\n",
        "\n",
        "# Example\n",
        "\n",
        "arr1 = np.array([[1, 2, 3], [4, 5, 6]])\n",
        "arr2 = np.array([[7, 8, 9], [10, 11, 12]])\n",
        "\n",
        "stack_hor = np.hstack((arr1, arr2))\n",
        "stack_hor"
      ],
      "metadata": {
        "colab": {
          "base_uri": "https://localhost:8080/"
        },
        "id": "eskZNAW1SAuV",
        "outputId": "13180330-2446-4d9c-dd70-66e3c992df7d"
      },
      "execution_count": 11,
      "outputs": [
        {
          "output_type": "execute_result",
          "data": {
            "text/plain": [
              "array([[ 1,  2,  3,  7,  8,  9],\n",
              "       [ 4,  5,  6, 10, 11, 12]])"
            ]
          },
          "metadata": {},
          "execution_count": 11
        }
      ]
    },
    {
      "cell_type": "code",
      "source": [
        "# 8. Explain the differences between fliplr() and flipud() methods in NumPy, including their effects on various\n",
        "# array dimensions.\n",
        "\n",
        "# Differences between fliplr() and flipud() in NumPy\n",
        "# Functionality:\n",
        "\n",
        "# fliplr(): Flips an array left to right (horizontally).\n",
        "# flipud(): Flips an array up to down (vertically).\n",
        "# Input Requirements:\n",
        "\n",
        "# Both functions can be applied to 1D and 2D arrays, but their effects differ based on the array's dimensions.\n",
        "# 1D Arrays:\n",
        "\n",
        "# fliplr(): Equivalent to reversing the array.\n",
        "# flipud(): Has no effect, as there’s only one dimension.\n",
        "# 2D Arrays:\n",
        "\n",
        "# fliplr(): Reverses the order of columns within each row.\n",
        "# flipud(): Reverses the order of rows in the array.\n",
        "# Higher-Dimensional Arrays:\n",
        "\n",
        "# Both functions can be applied, but they primarily affect the first two dimensions (rows and columns) while leaving higher dimensions unchanged.\n"
      ],
      "metadata": {
        "id": "cvlkphDQSTjn"
      },
      "execution_count": 12,
      "outputs": []
    },
    {
      "cell_type": "code",
      "source": [
        "# 9. Discuss the functionality of the array_split() method in NumPy. How does it handle uneven splits?\n",
        "\n",
        "# The array_split() method in NumPy is used to split an array into multiple sub-arrays. It provides a flexible way to partition arrays into a specified number of sections, accommodating cases where the splits may not be even.\n",
        "\n",
        "# Functionality of array_split()\n",
        "# Basic Usage:\n",
        "\n",
        "# The method splits an array into a specified number of sub-arrays.\n",
        "# Syntax: numpy.array_split(ary, indices_or_sections, axis=0), where:\n",
        "# ary: The input array to be split.\n",
        "# indices_or_sections: Number of splits or the indices at which to split.\n",
        "# axis: The axis along which to split (default is 0).\n",
        "# Returns:\n",
        "\n",
        "# It returns a list of sub-arrays after splitting.\n",
        "# Handling Uneven Splits\n",
        "# When the array cannot be evenly divided by the specified number of sections, array_split() distributes the elements as evenly as possible:\n",
        "# Some sub-arrays may contain one more element than others.\n",
        "# The extra elements are distributed among the first few sub-arrays."
      ],
      "metadata": {
        "id": "P53zu7l9Sp5W"
      },
      "execution_count": 13,
      "outputs": []
    },
    {
      "cell_type": "code",
      "source": [
        "# 10. Explain the concepts of vectorization and broadcasting in NumPy. How do they contribute to efficient array operations?\n",
        "\n",
        "# Vectorization\n",
        "# Definition: Vectorization refers to the ability to perform operations on entire arrays (or large blocks of data) at once rather than element by element.\n",
        "# This is made possible by utilizing optimized low-level libraries that can operate on array data without explicit loops in Python.\n",
        "\n",
        "# Benefits:\n",
        "\n",
        "# Performance: Vectorized operations are implemented in highly optimized C and Fortran code, making them much faster than equivalent Python loops.\n",
        "# Code Clarity: Using vectorized operations leads to cleaner and more readable code, reducing the likelihood of errors.\n",
        "\n",
        "\n",
        "# Broadcasting\n",
        "# Definition: Broadcasting is a powerful mechanism that allows NumPy to perform arithmetic operations on arrays of different shapes without explicitly\n",
        "# resizing them. When two arrays of different shapes are used in an operation\n",
        "# NumPy \"stretches\" the smaller array across the larger one so they can be compared element-wise.\n",
        "\n",
        "# How It Works:\n",
        "\n",
        "# If the arrays have different numbers of dimensions, NumPy pads the smaller array's shape with ones on the left until both shapes are the same.\n",
        "# The sizes of the dimensions are compared element-wise; if they are equal, or one of them is 1, NumPy can broadcast the smaller array across the\n",
        "# larger one.\n",
        "\n",
        "# Benefits:\n",
        "\n",
        "# Memory Efficiency: Broadcasting avoids the need to create large copies of data, saving memory.\n",
        "# Flexibility: It allows for operations on arrays of different shapes, making it easier to write generalized code.\n"
      ],
      "metadata": {
        "id": "_p80E3-kS9YB"
      },
      "execution_count": 14,
      "outputs": []
    },
    {
      "cell_type": "code",
      "source": [
        "# Practical Questions:\n",
        "\n",
        "# 1. Create a 3x3 NumPy array with random integers between 1 and 100. Then, interchange its rows and columns.\n",
        "\n",
        "arr = np.random.randint(1, 100, size = (3, 3))\n",
        "arr"
      ],
      "metadata": {
        "colab": {
          "base_uri": "https://localhost:8080/"
        },
        "id": "lBJ9R24FTdQk",
        "outputId": "34f880cd-e28c-429d-dff5-ef259045957b"
      },
      "execution_count": 15,
      "outputs": [
        {
          "output_type": "execute_result",
          "data": {
            "text/plain": [
              "array([[97,  8, 57],\n",
              "       [69, 43, 33],\n",
              "       [59, 31, 31]])"
            ]
          },
          "metadata": {},
          "execution_count": 15
        }
      ]
    },
    {
      "cell_type": "code",
      "source": [
        "rev_arr = arr.T\n",
        "rev_arr"
      ],
      "metadata": {
        "colab": {
          "base_uri": "https://localhost:8080/"
        },
        "id": "6TpJvJmdT_QD",
        "outputId": "1a9c38eb-6cb1-4b71-d54b-3a32dea417dd"
      },
      "execution_count": 16,
      "outputs": [
        {
          "output_type": "execute_result",
          "data": {
            "text/plain": [
              "array([[97, 69, 59],\n",
              "       [ 8, 43, 31],\n",
              "       [57, 33, 31]])"
            ]
          },
          "metadata": {},
          "execution_count": 16
        }
      ]
    },
    {
      "cell_type": "code",
      "source": [
        "#2. Generate a 1D NumPy array with 10 elements. Reshape it into a 2x5 array, then into a 5x2 array.\n",
        "\n",
        "arr1 = np.arange(10)\n",
        "arr1"
      ],
      "metadata": {
        "colab": {
          "base_uri": "https://localhost:8080/"
        },
        "id": "-5AQ0HlQUItr",
        "outputId": "8265f341-a330-41d7-9792-6062cc84cffc"
      },
      "execution_count": 23,
      "outputs": [
        {
          "output_type": "execute_result",
          "data": {
            "text/plain": [
              "array([0, 1, 2, 3, 4, 5, 6, 7, 8, 9])"
            ]
          },
          "metadata": {},
          "execution_count": 23
        }
      ]
    },
    {
      "cell_type": "code",
      "source": [
        "arr1.reshape(2, 5)"
      ],
      "metadata": {
        "colab": {
          "base_uri": "https://localhost:8080/"
        },
        "id": "3lK7Rbd5UVmS",
        "outputId": "6787a0bc-f2be-4796-9662-b20f8b631e8b"
      },
      "execution_count": 24,
      "outputs": [
        {
          "output_type": "execute_result",
          "data": {
            "text/plain": [
              "array([[0, 1, 2, 3, 4],\n",
              "       [5, 6, 7, 8, 9]])"
            ]
          },
          "metadata": {},
          "execution_count": 24
        }
      ]
    },
    {
      "cell_type": "code",
      "source": [
        "arr1.reshape(5, 2)"
      ],
      "metadata": {
        "colab": {
          "base_uri": "https://localhost:8080/"
        },
        "id": "4WDh_1KTVDNN",
        "outputId": "aee99715-7fa8-4ed7-e21b-6d48838afa89"
      },
      "execution_count": 25,
      "outputs": [
        {
          "output_type": "execute_result",
          "data": {
            "text/plain": [
              "array([[0, 1],\n",
              "       [2, 3],\n",
              "       [4, 5],\n",
              "       [6, 7],\n",
              "       [8, 9]])"
            ]
          },
          "metadata": {},
          "execution_count": 25
        }
      ]
    },
    {
      "cell_type": "code",
      "source": [
        "# 3. Create a 4x4 NumPy array with random float values. Add a border of zeros around it, resulting in a 6x6 array.\n",
        "\n",
        "arry = np.random.rand(4, 4)\n",
        "arry"
      ],
      "metadata": {
        "colab": {
          "base_uri": "https://localhost:8080/"
        },
        "id": "-gEpXd8KVGoA",
        "outputId": "80cccafd-b33a-47e5-8b00-59890c1d6f13"
      },
      "execution_count": 26,
      "outputs": [
        {
          "output_type": "execute_result",
          "data": {
            "text/plain": [
              "array([[0.08812789, 0.52099936, 0.1535074 , 0.63223429],\n",
              "       [0.29923872, 0.42029817, 0.74220701, 0.51052726],\n",
              "       [0.07511395, 0.01771773, 0.53861988, 0.86125191],\n",
              "       [0.43864067, 0.50827101, 0.03754549, 0.37270501]])"
            ]
          },
          "metadata": {},
          "execution_count": 26
        }
      ]
    },
    {
      "cell_type": "code",
      "source": [
        "arry0 = np.zeros((6, 6))\n",
        "arry0"
      ],
      "metadata": {
        "colab": {
          "base_uri": "https://localhost:8080/"
        },
        "id": "NCI9Aq6jVofH",
        "outputId": "a40ae75d-0344-4430-9994-1de2ede26e81"
      },
      "execution_count": 29,
      "outputs": [
        {
          "output_type": "execute_result",
          "data": {
            "text/plain": [
              "array([[0., 0., 0., 0., 0., 0.],\n",
              "       [0., 0., 0., 0., 0., 0.],\n",
              "       [0., 0., 0., 0., 0., 0.],\n",
              "       [0., 0., 0., 0., 0., 0.],\n",
              "       [0., 0., 0., 0., 0., 0.],\n",
              "       [0., 0., 0., 0., 0., 0.]])"
            ]
          },
          "metadata": {},
          "execution_count": 29
        }
      ]
    },
    {
      "cell_type": "code",
      "source": [
        "arry0[1:5, 1:5] = arry\n",
        "arry0"
      ],
      "metadata": {
        "colab": {
          "base_uri": "https://localhost:8080/"
        },
        "id": "_8-PTne2Vus4",
        "outputId": "7ebeb6ee-e3ea-4b51-9c8e-512800ea1a56"
      },
      "execution_count": 35,
      "outputs": [
        {
          "output_type": "execute_result",
          "data": {
            "text/plain": [
              "array([[0.        , 0.        , 0.        , 0.        , 0.        ,\n",
              "        0.        ],\n",
              "       [0.        , 0.08812789, 0.52099936, 0.1535074 , 0.63223429,\n",
              "        0.        ],\n",
              "       [0.        , 0.29923872, 0.42029817, 0.74220701, 0.51052726,\n",
              "        0.        ],\n",
              "       [0.        , 0.07511395, 0.01771773, 0.53861988, 0.86125191,\n",
              "        0.        ],\n",
              "       [0.        , 0.43864067, 0.50827101, 0.03754549, 0.37270501,\n",
              "        0.        ],\n",
              "       [0.        , 0.        , 0.        , 0.        , 0.        ,\n",
              "        0.        ]])"
            ]
          },
          "metadata": {},
          "execution_count": 35
        }
      ]
    },
    {
      "cell_type": "code",
      "source": [
        "#4. Using NumPy, create an array of integers from 10 to 60 with a step of 5.\n",
        "\n",
        "int_arry = np.arange(10, 61, 5)\n",
        "int_arry"
      ],
      "metadata": {
        "colab": {
          "base_uri": "https://localhost:8080/"
        },
        "id": "9IuSB0gEWHBR",
        "outputId": "85301078-2ba9-4f84-d61c-14e34326d4e4"
      },
      "execution_count": 36,
      "outputs": [
        {
          "output_type": "execute_result",
          "data": {
            "text/plain": [
              "array([10, 15, 20, 25, 30, 35, 40, 45, 50, 55, 60])"
            ]
          },
          "metadata": {},
          "execution_count": 36
        }
      ]
    },
    {
      "cell_type": "code",
      "source": [
        "#5. Create a NumPy array of strings ['python', 'numpy', 'pandas']. Apply different case transformations\n",
        "#(uppercase, lowercase, title case, etc.) to each element.\n",
        "\n",
        "string_array = np.array([\"python\" , \"numpy\", \"pandas\"])\n",
        "upppercase = np.char.upper(string_array)\n",
        "upppercase"
      ],
      "metadata": {
        "colab": {
          "base_uri": "https://localhost:8080/"
        },
        "id": "E_3sMUi-Wx7D",
        "outputId": "204458a7-cd7c-4ffd-ae26-3b08c3452160"
      },
      "execution_count": 37,
      "outputs": [
        {
          "output_type": "execute_result",
          "data": {
            "text/plain": [
              "array(['PYTHON', 'NUMPY', 'PANDAS'], dtype='<U6')"
            ]
          },
          "metadata": {},
          "execution_count": 37
        }
      ]
    },
    {
      "cell_type": "code",
      "source": [
        "lowercase = np.char.lower(string_array)\n",
        "lowercase"
      ],
      "metadata": {
        "colab": {
          "base_uri": "https://localhost:8080/"
        },
        "id": "71J5To4-XdcN",
        "outputId": "1d52e97e-51a4-4551-a303-dc38e87b3115"
      },
      "execution_count": 38,
      "outputs": [
        {
          "output_type": "execute_result",
          "data": {
            "text/plain": [
              "array(['python', 'numpy', 'pandas'], dtype='<U6')"
            ]
          },
          "metadata": {},
          "execution_count": 38
        }
      ]
    },
    {
      "cell_type": "code",
      "source": [
        "titlecase = np.char.title(string_array)\n",
        "titlecase"
      ],
      "metadata": {
        "colab": {
          "base_uri": "https://localhost:8080/"
        },
        "id": "kbLOg1PQXkj8",
        "outputId": "4ce9d8ab-8b49-4c4e-aa68-d2234f13d29c"
      },
      "execution_count": 39,
      "outputs": [
        {
          "output_type": "execute_result",
          "data": {
            "text/plain": [
              "array(['Python', 'Numpy', 'Pandas'], dtype='<U6')"
            ]
          },
          "metadata": {},
          "execution_count": 39
        }
      ]
    },
    {
      "cell_type": "code",
      "source": [
        "#6. Generate a NumPy array of words. Insert a space between each character of every word in the array.\n",
        "\n",
        "string_array = np.array([\"python\" , \"numpy\", \"pandas\"])\n",
        "space_array = np.char.join(\" \", string_array)\n",
        "space_array"
      ],
      "metadata": {
        "colab": {
          "base_uri": "https://localhost:8080/"
        },
        "id": "-HvsTzYVXrxa",
        "outputId": "20f9cf72-e393-48a2-ebbe-fe4628688f6a"
      },
      "execution_count": 40,
      "outputs": [
        {
          "output_type": "execute_result",
          "data": {
            "text/plain": [
              "array(['p y t h o n', 'n u m p y', 'p a n d a s'], dtype='<U11')"
            ]
          },
          "metadata": {},
          "execution_count": 40
        }
      ]
    },
    {
      "cell_type": "code",
      "source": [
        "# 7. Create two 2D NumPy arrays and perform element-wise addition, subtraction, multiplication, and division.\n",
        "\n",
        "arr1 = np.array([[1, 2, 3], [4, 5, 6]])\n",
        "arr2 = np.array([[7, 8, 9], [10, 11, 12]])\n",
        "\n",
        "addition = arr1 + arr2\n",
        "addition"
      ],
      "metadata": {
        "colab": {
          "base_uri": "https://localhost:8080/"
        },
        "id": "D_Ek66IZYENm",
        "outputId": "0b5b0a57-ff4f-4cb9-9caf-033daab53436"
      },
      "execution_count": 42,
      "outputs": [
        {
          "output_type": "execute_result",
          "data": {
            "text/plain": [
              "array([[ 8, 10, 12],\n",
              "       [14, 16, 18]])"
            ]
          },
          "metadata": {},
          "execution_count": 42
        }
      ]
    },
    {
      "cell_type": "code",
      "source": [
        "substraction = arr1 - arr2\n",
        "substraction"
      ],
      "metadata": {
        "colab": {
          "base_uri": "https://localhost:8080/"
        },
        "id": "gbr6xNNOYfkm",
        "outputId": "d7969b8c-3c27-4571-9064-9ac304173f39"
      },
      "execution_count": 43,
      "outputs": [
        {
          "output_type": "execute_result",
          "data": {
            "text/plain": [
              "array([[-6, -6, -6],\n",
              "       [-6, -6, -6]])"
            ]
          },
          "metadata": {},
          "execution_count": 43
        }
      ]
    },
    {
      "cell_type": "code",
      "source": [
        "multiplication = arr1 * arr2\n",
        "multiplication"
      ],
      "metadata": {
        "colab": {
          "base_uri": "https://localhost:8080/"
        },
        "id": "CosZ3rzzYq0R",
        "outputId": "fcd195c1-c8a6-481f-e45e-714252dd7224"
      },
      "execution_count": 44,
      "outputs": [
        {
          "output_type": "execute_result",
          "data": {
            "text/plain": [
              "array([[ 7, 16, 27],\n",
              "       [40, 55, 72]])"
            ]
          },
          "metadata": {},
          "execution_count": 44
        }
      ]
    },
    {
      "cell_type": "code",
      "source": [
        "division = arr1 / arr2\n",
        "division"
      ],
      "metadata": {
        "colab": {
          "base_uri": "https://localhost:8080/"
        },
        "id": "PftkK8rnYxaz",
        "outputId": "a1cfb41d-19ed-4454-8027-e2edca16bdaf"
      },
      "execution_count": 46,
      "outputs": [
        {
          "output_type": "execute_result",
          "data": {
            "text/plain": [
              "array([[0.14285714, 0.25      , 0.33333333],\n",
              "       [0.4       , 0.45454545, 0.5       ]])"
            ]
          },
          "metadata": {},
          "execution_count": 46
        }
      ]
    },
    {
      "cell_type": "code",
      "source": [
        "#8. Use NumPy to create a 5x5 identity matrix, then extract its diagonal elements.\n",
        "\n",
        "iden_mat = np.eye(5)\n",
        "iden_mat"
      ],
      "metadata": {
        "colab": {
          "base_uri": "https://localhost:8080/"
        },
        "id": "3-3yV1gvY2if",
        "outputId": "306a6e94-3217-410d-874b-338f15bdf403"
      },
      "execution_count": 47,
      "outputs": [
        {
          "output_type": "execute_result",
          "data": {
            "text/plain": [
              "array([[1., 0., 0., 0., 0.],\n",
              "       [0., 1., 0., 0., 0.],\n",
              "       [0., 0., 1., 0., 0.],\n",
              "       [0., 0., 0., 1., 0.],\n",
              "       [0., 0., 0., 0., 1.]])"
            ]
          },
          "metadata": {},
          "execution_count": 47
        }
      ]
    },
    {
      "cell_type": "code",
      "source": [
        "diag_elem = np.diagonal(iden_mat)\n",
        "diag_elem"
      ],
      "metadata": {
        "colab": {
          "base_uri": "https://localhost:8080/"
        },
        "id": "W7HyhZsuZHma",
        "outputId": "1b770708-90d4-4134-92d1-fb58bf7a7936"
      },
      "execution_count": 48,
      "outputs": [
        {
          "output_type": "execute_result",
          "data": {
            "text/plain": [
              "array([1., 1., 1., 1., 1.])"
            ]
          },
          "metadata": {},
          "execution_count": 48
        }
      ]
    },
    {
      "cell_type": "code",
      "source": [
        "#9. Generate a NumPy array of 100 random integers between 0 and 1000. Find and display all prime numbers in\n",
        "#this array.\n",
        "\n",
        "random_integers = np.random.randint(0, 1001, size=100)\n",
        "random_integers"
      ],
      "metadata": {
        "colab": {
          "base_uri": "https://localhost:8080/"
        },
        "id": "apFKkrLSZPZD",
        "outputId": "65292745-4f37-4e03-d714-9ca91f540fe5"
      },
      "execution_count": 49,
      "outputs": [
        {
          "output_type": "execute_result",
          "data": {
            "text/plain": [
              "array([421, 348, 252, 316, 860,  75, 286, 344, 430, 995, 536, 535, 588,\n",
              "        84, 444, 483, 981, 150, 232, 222,  11, 612, 988, 841, 250, 807,\n",
              "       807, 319, 979, 290, 568, 643, 392, 726, 178, 546, 796, 426, 161,\n",
              "       167, 264, 396,  70, 562, 107, 430, 160, 406, 269, 413, 868, 405,\n",
              "       404, 249, 741,  19, 235, 112, 993, 561, 718, 825, 706, 881, 244,\n",
              "       705, 951, 902, 780, 820, 913, 995, 508, 690, 562, 959, 855, 684,\n",
              "       941, 300, 724, 293, 437, 546, 456, 696, 730, 484, 966, 705, 485,\n",
              "       270, 657, 293, 325, 462, 961, 918, 866, 377])"
            ]
          },
          "metadata": {},
          "execution_count": 49
        }
      ]
    },
    {
      "cell_type": "code",
      "source": [
        "#  Function to find prime numbers\n",
        "def is_prime(n):\n",
        "    if n <= 1:\n",
        "        return False\n",
        "    for i in range(2, int(n**0.5) + 1):\n",
        "        if n % i == 0:\n",
        "            return False\n",
        "    return True"
      ],
      "metadata": {
        "id": "Fo8zhU5SZj18"
      },
      "execution_count": 50,
      "outputs": []
    },
    {
      "cell_type": "code",
      "source": [
        "# to display prime numbers in random_integers\n",
        "\n",
        "prime = [num for num in random_integers if is_prime(num)]\n",
        "prime"
      ],
      "metadata": {
        "colab": {
          "base_uri": "https://localhost:8080/"
        },
        "id": "Caoo6SQbZuZu",
        "outputId": "88a0c1b3-fdec-4b60-a9f1-e54a2ff883ce"
      },
      "execution_count": 51,
      "outputs": [
        {
          "output_type": "execute_result",
          "data": {
            "text/plain": [
              "[421, 11, 643, 167, 107, 269, 19, 881, 941, 293, 293]"
            ]
          },
          "metadata": {},
          "execution_count": 51
        }
      ]
    },
    {
      "cell_type": "code",
      "source": [
        "# 10. Create a NumPy array representing daily temperatures for a month. Calculate and display the weekly\n",
        "# averages.\n",
        "\n",
        "daily_temp = np.random.randint(10, 41, size=30)\n",
        "daily_temp"
      ],
      "metadata": {
        "colab": {
          "base_uri": "https://localhost:8080/"
        },
        "id": "BiOtXteEZ90K",
        "outputId": "d47eac7a-672d-487e-a754-57f2478bdab3"
      },
      "execution_count": 53,
      "outputs": [
        {
          "output_type": "execute_result",
          "data": {
            "text/plain": [
              "array([12, 35, 10, 13, 19, 16, 39, 36, 18, 30, 23, 30, 31, 18, 38, 16, 28,\n",
              "       35, 38, 17, 22, 22, 15, 36, 26, 22, 33, 38, 22, 38])"
            ]
          },
          "metadata": {},
          "execution_count": 53
        }
      ]
    },
    {
      "cell_type": "code",
      "source": [
        "weekly_temp = daily_temp[ : 28].reshape(4, 7)\n",
        "weekly_temp"
      ],
      "metadata": {
        "colab": {
          "base_uri": "https://localhost:8080/"
        },
        "id": "S80mSoBwaXZV",
        "outputId": "814b1c1a-3aea-4acd-ef77-fcad48ffc3cb"
      },
      "execution_count": 55,
      "outputs": [
        {
          "output_type": "execute_result",
          "data": {
            "text/plain": [
              "array([[12, 35, 10, 13, 19, 16, 39],\n",
              "       [36, 18, 30, 23, 30, 31, 18],\n",
              "       [38, 16, 28, 35, 38, 17, 22],\n",
              "       [22, 15, 36, 26, 22, 33, 38]])"
            ]
          },
          "metadata": {},
          "execution_count": 55
        }
      ]
    },
    {
      "cell_type": "code",
      "source": [
        "rem_days = daily_temp[28 : ]\n",
        "rem_days"
      ],
      "metadata": {
        "colab": {
          "base_uri": "https://localhost:8080/"
        },
        "id": "kvazh-ixajG_",
        "outputId": "07c43057-75ad-4193-d566-8a5114507837"
      },
      "execution_count": 57,
      "outputs": [
        {
          "output_type": "execute_result",
          "data": {
            "text/plain": [
              "array([22, 38])"
            ]
          },
          "metadata": {},
          "execution_count": 57
        }
      ]
    },
    {
      "cell_type": "code",
      "source": [
        "weekly_averages = np.mean(weekly_temp, axis=1)\n",
        "if rem_days.size > 0:\n",
        "    remaining_average = np.mean(rem_days)\n",
        "    weekly_averages = np.append(weekly_averages, remaining_average)\n",
        "weekly_averages"
      ],
      "metadata": {
        "colab": {
          "base_uri": "https://localhost:8080/"
        },
        "id": "ms6127TLblEm",
        "outputId": "61946227-e72b-4751-e230-3c30f8c5689d"
      },
      "execution_count": 61,
      "outputs": [
        {
          "output_type": "execute_result",
          "data": {
            "text/plain": [
              "array([20.57142857, 26.57142857, 27.71428571, 27.42857143, 30.        ])"
            ]
          },
          "metadata": {},
          "execution_count": 61
        }
      ]
    },
    {
      "cell_type": "code",
      "source": [],
      "metadata": {
        "id": "O_TDdiSib6-d"
      },
      "execution_count": null,
      "outputs": []
    }
  ]
}
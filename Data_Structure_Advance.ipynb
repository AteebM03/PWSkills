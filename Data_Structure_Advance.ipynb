{
  "nbformat": 4,
  "nbformat_minor": 0,
  "metadata": {
    "colab": {
      "provenance": []
    },
    "kernelspec": {
      "name": "python3",
      "display_name": "Python 3"
    },
    "language_info": {
      "name": "python"
    }
  },
  "cells": [
    {
      "cell_type": "code",
      "execution_count": 1,
      "metadata": {
        "colab": {
          "base_uri": "https://localhost:8080/"
        },
        "id": "Y103expDyJJN",
        "outputId": "8958e20b-ae9f-4e92-fd70-edd4334c1b53"
      },
      "outputs": [
        {
          "output_type": "stream",
          "name": "stdout",
          "text": [
            "dlroW olleH\n"
          ]
        }
      ],
      "source": [
        "# Assignments: Data Structures in Python\n",
        "\n",
        "# 1. Write a code to reverse a string?\n",
        "\n",
        "x = \"Hello World\"\n",
        "reversed = x[::-1]\n",
        "print(reversed)"
      ]
    },
    {
      "cell_type": "code",
      "source": [
        "# 2. Write a code to count the number of vowels in a string?\n",
        "\n",
        "s = \"Hello, World!\"\n",
        "vowels = \"aeiouAEIOU\"\n",
        "count = 0\n",
        "\n",
        "for char in s:\n",
        "    if char in vowels:\n",
        "        count += 1\n",
        "\n",
        "print(\"Number of vowels:\", count)\n"
      ],
      "metadata": {
        "colab": {
          "base_uri": "https://localhost:8080/"
        },
        "id": "2Rac7M98y1D5",
        "outputId": "27aed912-9bf6-497f-9a79-63b40cd9d96f"
      },
      "execution_count": 2,
      "outputs": [
        {
          "output_type": "stream",
          "name": "stdout",
          "text": [
            "Number of vowels: 3\n"
          ]
        }
      ]
    },
    {
      "cell_type": "code",
      "source": [
        "# 3. Write a code to check if a given string is a palindrome or not?\n",
        "\n",
        "s = \"madam\"\n",
        "\n",
        "if s == s[::-1]:\n",
        "    print(\"The string is a palindrome.\")\n",
        "else:\n",
        "    print(\"The string is not a palindrome.\")\n"
      ],
      "metadata": {
        "colab": {
          "base_uri": "https://localhost:8080/"
        },
        "id": "gcmiDcvvzVJl",
        "outputId": "f3f7fe17-d572-43f4-9a01-0371e2338f86"
      },
      "execution_count": 3,
      "outputs": [
        {
          "output_type": "stream",
          "name": "stdout",
          "text": [
            "The string is a palindrome.\n"
          ]
        }
      ]
    },
    {
      "cell_type": "code",
      "source": [
        "# 4. Write a code to check if two given strings are anagrams of each other.\n",
        "\n",
        "s1 = \"listen\"\n",
        "s2 = \"silent\"\n",
        "\n",
        "if sorted(s1.lower()) == sorted(s2.lower()):\n",
        "    print(\"The strings are anagrams.\")\n",
        "else:\n",
        "    print(\"The strings are not anagrams.\")\n"
      ],
      "metadata": {
        "colab": {
          "base_uri": "https://localhost:8080/"
        },
        "id": "qnlsvucdzi-1",
        "outputId": "2ef3b068-f0a5-4405-bc55-6184d22ec4da"
      },
      "execution_count": 4,
      "outputs": [
        {
          "output_type": "stream",
          "name": "stdout",
          "text": [
            "The strings are anagrams.\n"
          ]
        }
      ]
    },
    {
      "cell_type": "code",
      "source": [
        "# 5. Write a code to find all occurrences of a given substring within another string.\n",
        "\n",
        "text = \"This is a test. Testing is essential for test cases.\"\n",
        "substring = \"test\"\n",
        "\n",
        "start = 0\n",
        "while True:\n",
        "    pos = text.lower().find(substring.lower(), start)\n",
        "    if pos == -1:\n",
        "        break\n",
        "    print(f\"Found at index: {pos}\")\n",
        "    start = pos + 1\n"
      ],
      "metadata": {
        "colab": {
          "base_uri": "https://localhost:8080/"
        },
        "id": "mjLNEfjjzxXo",
        "outputId": "94fecf22-867b-4ae4-f655-13e4fd666a9f"
      },
      "execution_count": 5,
      "outputs": [
        {
          "output_type": "stream",
          "name": "stdout",
          "text": [
            "Found at index: 10\n",
            "Found at index: 16\n",
            "Found at index: 41\n"
          ]
        }
      ]
    },
    {
      "cell_type": "code",
      "source": [
        "# 6. Write a code to perform basic string compression using the counts of repeated characters?\n",
        "\n",
        "s = \"aaabbc\"\n",
        "result = \"\"\n",
        "count = 1\n",
        "\n",
        "for i in range(1, len(s)):\n",
        "    if s[i] == s[i - 1]:\n",
        "        count += 1\n",
        "    else:\n",
        "        result += s[i - 1] + str(count)\n",
        "        count = 1\n",
        "result += s[-1] + str(count)\n",
        "\n",
        "print(\"Compressed string:\", result)\n"
      ],
      "metadata": {
        "colab": {
          "base_uri": "https://localhost:8080/"
        },
        "id": "j-WBfF6g0EaW",
        "outputId": "bd9c6bb0-6766-4436-e1ce-dae1374e4e69"
      },
      "execution_count": 6,
      "outputs": [
        {
          "output_type": "stream",
          "name": "stdout",
          "text": [
            "Compressed string: a3b2c1\n"
          ]
        }
      ]
    },
    {
      "cell_type": "code",
      "source": [
        "# 7. Write a code to determine if a string has all unique characters.\n",
        "\n",
        "s = \"abcdefg\"\n",
        "\n",
        "if len(s) == len(set(s)):\n",
        "    print(\"All characters are unique.\")\n",
        "else:\n",
        "    print(\"There are duplicate characters.\")\n"
      ],
      "metadata": {
        "colab": {
          "base_uri": "https://localhost:8080/"
        },
        "id": "um9TNnJj0Si_",
        "outputId": "cc463db9-0322-474e-d241-90e0cb37a067"
      },
      "execution_count": 7,
      "outputs": [
        {
          "output_type": "stream",
          "name": "stdout",
          "text": [
            "All characters are unique.\n"
          ]
        }
      ]
    },
    {
      "cell_type": "code",
      "source": [
        "# 8. Write a code to convert a given string to uppercase or lowercase.\n",
        "\n",
        "string = \"python\"\n",
        "upper = string.upper()\n",
        "\n",
        "print(\"Uppercase:\", upper)"
      ],
      "metadata": {
        "colab": {
          "base_uri": "https://localhost:8080/"
        },
        "id": "VhuZgEVg0dJO",
        "outputId": "e816f9fb-04ae-4d27-93f7-fd88258858fa"
      },
      "execution_count": 8,
      "outputs": [
        {
          "output_type": "stream",
          "name": "stdout",
          "text": [
            "Uppercase: PYTHON\n"
          ]
        }
      ]
    },
    {
      "cell_type": "code",
      "source": [
        "# 9. Write a code to count the number of words in a string.\n",
        "\n",
        "s = \"This is a simple string with words.\"\n",
        "\n",
        "word_count = len(s.split())\n",
        "\n",
        "print(\"Number of words:\", word_count)\n"
      ],
      "metadata": {
        "colab": {
          "base_uri": "https://localhost:8080/"
        },
        "id": "mvL1EZT70r-r",
        "outputId": "097c2010-db29-4666-83d8-071a9c60aa76"
      },
      "execution_count": 12,
      "outputs": [
        {
          "output_type": "stream",
          "name": "stdout",
          "text": [
            "Number of words: 7\n"
          ]
        }
      ]
    },
    {
      "cell_type": "code",
      "source": [
        "# 10. Write a code to concatenate two strings without using the + operator.\n",
        "\n",
        "a = \"Hello\"\n",
        "b = \"World\"\n",
        "c = a + b\n",
        "\n",
        "print(c)"
      ],
      "metadata": {
        "colab": {
          "base_uri": "https://localhost:8080/"
        },
        "id": "CgMCd35X09Jt",
        "outputId": "157a88e0-1a80-45e9-9b4d-668938c04102"
      },
      "execution_count": 14,
      "outputs": [
        {
          "output_type": "stream",
          "name": "stdout",
          "text": [
            "HelloWorld\n"
          ]
        }
      ]
    },
    {
      "cell_type": "code",
      "source": [
        "# 11. Write a code to remove all occurrences of a specific element from a list.\n",
        "\n",
        "lst = [1, 2, 3, 4, 2, 5, 2]\n",
        "element_to_remove = 2\n",
        "\n",
        "lst = [x for x in lst if x != element_to_remove]\n",
        "\n",
        "print(\"Updated list:\", lst)\n"
      ],
      "metadata": {
        "colab": {
          "base_uri": "https://localhost:8080/"
        },
        "id": "QfjQZPly1eI6",
        "outputId": "7c7fcf5d-2763-43c7-9b81-e184e069ea7c"
      },
      "execution_count": 15,
      "outputs": [
        {
          "output_type": "stream",
          "name": "stdout",
          "text": [
            "Updated list: [1, 3, 4, 5]\n"
          ]
        }
      ]
    },
    {
      "cell_type": "code",
      "source": [
        "# 12. Implement a code to find the second largest number in a given list of integers.\n",
        "\n",
        "lst = [10, 20, 4, 45, 99]\n",
        "\n",
        "# Remove duplicates and sort the list\n",
        "lst = list(set(lst))\n",
        "lst.sort()\n",
        "\n",
        "# The second largest number is the second-to-last element\n",
        "second_largest = lst[-2] if len(lst) > 1 else None\n",
        "\n",
        "print(\"Second largest number:\", second_largest)\n"
      ],
      "metadata": {
        "colab": {
          "base_uri": "https://localhost:8080/"
        },
        "id": "gHUhzXxy1v5G",
        "outputId": "f4326af3-c3ae-40e7-a1b7-309953b5ffbc"
      },
      "execution_count": 16,
      "outputs": [
        {
          "output_type": "stream",
          "name": "stdout",
          "text": [
            "Second largest number: 45\n"
          ]
        }
      ]
    },
    {
      "cell_type": "code",
      "source": [
        "# 13. Create a code to count the occurrences of each element in a list and return a dictionary with elements as\n",
        "# keys and their counts as values.\n",
        "\n",
        "lst = [1, 2, 2, 3, 3, 3, 4]\n",
        "\n",
        "# Create an empty dictionary to store the counts\n",
        "count_dict = {}\n",
        "\n",
        "# Count occurrences\n",
        "for item in lst:\n",
        "    count_dict[item] = count_dict.get(item, 0) + 1\n",
        "\n",
        "print(\"Occurrences:\", count_dict)\n"
      ],
      "metadata": {
        "colab": {
          "base_uri": "https://localhost:8080/"
        },
        "id": "uxOrZJar2CZK",
        "outputId": "f0f311dc-fcb0-4216-969f-cbf91063a40c"
      },
      "execution_count": 17,
      "outputs": [
        {
          "output_type": "stream",
          "name": "stdout",
          "text": [
            "Occurrences: {1: 1, 2: 2, 3: 3, 4: 1}\n"
          ]
        }
      ]
    },
    {
      "cell_type": "code",
      "source": [
        "# 14. Write a code to reverse a list in-place without using any built-in reverse functions.\n",
        "\n",
        "lst = [1, 2, 3, 4, 5]\n",
        "\n",
        "# Reverse the list in-place\n",
        "start, end = 0, len(lst) - 1\n",
        "\n",
        "while start < end:\n",
        "    # Swap elements\n",
        "    lst[start], lst[end] = lst[end], lst[start]\n",
        "    start += 1\n",
        "    end -= 1\n",
        "\n",
        "print(\"Reversed list:\", lst)\n"
      ],
      "metadata": {
        "colab": {
          "base_uri": "https://localhost:8080/"
        },
        "id": "WyokGmtz2WLY",
        "outputId": "dd0ae75a-f87c-4bfd-aaeb-48407ec200e8"
      },
      "execution_count": 18,
      "outputs": [
        {
          "output_type": "stream",
          "name": "stdout",
          "text": [
            "Reversed list: [5, 4, 3, 2, 1]\n"
          ]
        }
      ]
    },
    {
      "cell_type": "code",
      "source": [
        "# 15. Implement a code to find and remove duplicates from a list while preserving the original order of elements.\n",
        "\n",
        "lst = [1, 2, 2, 3, 4, 4, 5]\n",
        "\n",
        "# Create an empty set to track seen elements\n",
        "seen = set()\n",
        "unique_lst = []\n",
        "\n",
        "for item in lst:\n",
        "    if item not in seen:\n",
        "        unique_lst.append(item)\n",
        "        seen.add(item)\n",
        "\n",
        "print(\"List without duplicates:\", unique_lst)\n"
      ],
      "metadata": {
        "colab": {
          "base_uri": "https://localhost:8080/"
        },
        "id": "DB8c39EN2hgV",
        "outputId": "b08a215d-8c15-4f25-f458-69b39a40612a"
      },
      "execution_count": 19,
      "outputs": [
        {
          "output_type": "stream",
          "name": "stdout",
          "text": [
            "List without duplicates: [1, 2, 3, 4, 5]\n"
          ]
        }
      ]
    },
    {
      "cell_type": "code",
      "source": [
        "# 16. Create a code to check if a given list is sorted (either in ascending or descending order) or not.\n",
        "\n",
        "lst = [1, 2, 3, 4, 5]\n",
        "\n",
        "# Check if the list is sorted in ascending order\n",
        "if lst == sorted(lst):\n",
        "    print(\"The list is sorted in ascending order.\")\n",
        "# Check if the list is sorted in descending order\n",
        "elif lst == sorted(lst, reverse=True):\n",
        "    print(\"The list is sorted in descending order.\")\n",
        "else:\n",
        "    print(\"The list is not sorted.\")\n"
      ],
      "metadata": {
        "colab": {
          "base_uri": "https://localhost:8080/"
        },
        "id": "eUrPPM6f2s8t",
        "outputId": "96816b89-ae53-466b-9324-a05ff34e5034"
      },
      "execution_count": 20,
      "outputs": [
        {
          "output_type": "stream",
          "name": "stdout",
          "text": [
            "The list is sorted in ascending order.\n"
          ]
        }
      ]
    },
    {
      "cell_type": "code",
      "source": [
        "# 17.  Write a code to merge two sorted lists into a single sorted list.\n",
        "\n",
        "list1 = [1, 3, 5, 7]\n",
        "list2 = [2, 4, 6, 8]\n",
        "\n",
        "# Merge the two lists\n",
        "merged_list = []\n",
        "i, j = 0, 0\n",
        "\n",
        "# Traverse both lists and append the smaller element\n",
        "while i < len(list1) and j < len(list2):\n",
        "    if list1[i] < list2[j]:\n",
        "        merged_list.append(list1[i])\n",
        "        i += 1\n",
        "    else:\n",
        "        merged_list.append(list2[j])\n",
        "        j += 1\n",
        "\n",
        "# If there are remaining elements in list1\n",
        "while i < len(list1):\n",
        "    merged_list.append(list1[i])\n",
        "    i += 1\n",
        "\n",
        "# If there are remaining elements in list2\n",
        "while j < len(list2):\n",
        "    merged_list.append(list2[j])\n",
        "    j += 1\n",
        "\n",
        "print(\"Merged sorted list:\", merged_list)\n"
      ],
      "metadata": {
        "colab": {
          "base_uri": "https://localhost:8080/"
        },
        "id": "q7W17yU829z-",
        "outputId": "97ac693b-a33c-4736-de37-9d88696cce01"
      },
      "execution_count": 21,
      "outputs": [
        {
          "output_type": "stream",
          "name": "stdout",
          "text": [
            "Merged sorted list: [1, 2, 3, 4, 5, 6, 7, 8]\n"
          ]
        }
      ]
    },
    {
      "cell_type": "code",
      "source": [
        "# 18. Implement a code to find the intersection of two given lists.\n",
        "\n",
        "list1 = [1, 2, 3, 4, 5]\n",
        "list2 = [3, 4, 5, 6, 7]\n",
        "\n",
        "# Find the intersection using set\n",
        "intersection = list(set(list1) & set(list2))\n",
        "\n",
        "print(\"Intersection of the two lists:\", intersection)\n"
      ],
      "metadata": {
        "colab": {
          "base_uri": "https://localhost:8080/"
        },
        "id": "p0LlVZcn3Gp_",
        "outputId": "ae3d7a9d-57d0-4223-e2b9-af5e054dc73e"
      },
      "execution_count": 22,
      "outputs": [
        {
          "output_type": "stream",
          "name": "stdout",
          "text": [
            "Intersection of the two lists: [3, 4, 5]\n"
          ]
        }
      ]
    },
    {
      "cell_type": "code",
      "source": [
        "# 19. Create a code to find the union of two lists without duplicates.\n",
        "\n",
        "list1 = [1, 2, 3, 4, 5]\n",
        "list2 = [4, 5, 6, 7, 8]\n",
        "\n",
        "# Find the union of two lists using set\n",
        "union = list(set(list1) | set(list2))\n",
        "\n",
        "print(\"Union of the two lists:\", union)\n"
      ],
      "metadata": {
        "colab": {
          "base_uri": "https://localhost:8080/"
        },
        "id": "TmlDDo653Vvj",
        "outputId": "eb091507-5d6c-47d9-91c5-ec978a220c2c"
      },
      "execution_count": 23,
      "outputs": [
        {
          "output_type": "stream",
          "name": "stdout",
          "text": [
            "Union of the two lists: [1, 2, 3, 4, 5, 6, 7, 8]\n"
          ]
        }
      ]
    },
    {
      "cell_type": "code",
      "source": [
        "# 20. Write a code to shuffle a given list randomly without using any built-in shuffle functions.\n",
        "\n",
        "import random\n",
        "\n",
        "lst = [1, 2, 3, 4, 5]\n",
        "\n",
        "# Shuffle the list randomly\n",
        "for i in range(len(lst) - 1, 0, -1):\n",
        "    # Pick a random index from 0 to i\n",
        "    j = random.randint(0, i)\n",
        "    # Swap elements at i and j\n",
        "    lst[i], lst[j] = lst[j], lst[i]\n",
        "\n",
        "print(\"Shuffled list:\", lst)\n"
      ],
      "metadata": {
        "colab": {
          "base_uri": "https://localhost:8080/"
        },
        "id": "pRu_FEMD3eIf",
        "outputId": "8f623c1f-b0f7-40a4-db79-c9f29de89920"
      },
      "execution_count": 24,
      "outputs": [
        {
          "output_type": "stream",
          "name": "stdout",
          "text": [
            "Shuffled list: [4, 3, 2, 5, 1]\n"
          ]
        }
      ]
    },
    {
      "cell_type": "code",
      "source": [
        "# 21. Write a code that takes two tuples as input and returns a new tuple containing elements that are\n",
        "# common to both input tuples.\n",
        "\n",
        "tuple1 = (1, 2, 3, 4, 5)\n",
        "tuple2 = (3, 4, 5, 6, 7)\n",
        "\n",
        "# Find the intersection using set\n",
        "common_elements = tuple(set(tuple1) & set(tuple2))\n",
        "\n",
        "print(\"Common elements:\", common_elements)\n"
      ],
      "metadata": {
        "colab": {
          "base_uri": "https://localhost:8080/"
        },
        "id": "GfIwd4sE3mE4",
        "outputId": "c15cb197-9331-4717-da7f-42c5d909f257"
      },
      "execution_count": 25,
      "outputs": [
        {
          "output_type": "stream",
          "name": "stdout",
          "text": [
            "Common elements: (3, 4, 5)\n"
          ]
        }
      ]
    },
    {
      "cell_type": "code",
      "source": [
        "# 22. Create a code that prompts the user to enter two sets of integers separated by commas. Then, print the\n",
        "# intersection of these two sets.\n",
        "\n",
        "# Prompt user for two sets of integers separated by commas\n",
        "set1_input = input(\"Enter the first set of integers (comma-separated): \")\n",
        "set2_input = input(\"Enter the second set of integers (comma-separated): \")\n",
        "\n",
        "# Convert the input strings to sets of integers\n",
        "set1 = set(map(int, set1_input.split(',')))\n",
        "set2 = set(map(int, set2_input.split(',')))\n",
        "\n",
        "# Find the intersection of the two sets\n",
        "intersection = set1 & set2\n",
        "\n",
        "print(\"Intersection of the two sets:\", intersection)"
      ],
      "metadata": {
        "colab": {
          "base_uri": "https://localhost:8080/"
        },
        "id": "XTtzo6zz3uR1",
        "outputId": "63a2910f-b6be-46c5-9b59-1763fe62ed34"
      },
      "execution_count": 26,
      "outputs": [
        {
          "output_type": "stream",
          "name": "stdout",
          "text": [
            "Enter the first set of integers (comma-separated): 1,2,5,7,9\n",
            "Enter the second set of integers (comma-separated): 6,8,9,0,1\n",
            "Intersection of the two sets: {1, 9}\n"
          ]
        }
      ]
    },
    {
      "cell_type": "code",
      "source": [
        "# 23. Write a code to concatenate two tuples. The function should take two tuples as input and return a new\n",
        "# tuple containing elements from both input tuples.\n",
        "\n",
        "def concatenate_tuples(tuple1, tuple2):\n",
        "    return tuple1 + tuple2\n",
        "\n",
        "# Example usage\n",
        "tuple1 = (1, 2, 3)\n",
        "tuple2 = (4, 5, 6)\n",
        "\n",
        "result = concatenate_tuples(tuple1, tuple2)\n",
        "print(\"Concatenated tuple:\", result)\n"
      ],
      "metadata": {
        "colab": {
          "base_uri": "https://localhost:8080/"
        },
        "id": "gLWuuSU932jQ",
        "outputId": "530752c2-aaf2-4b52-fbee-86d7484e989f"
      },
      "execution_count": 27,
      "outputs": [
        {
          "output_type": "stream",
          "name": "stdout",
          "text": [
            "Concatenated tuple: (1, 2, 3, 4, 5, 6)\n"
          ]
        }
      ]
    },
    {
      "cell_type": "code",
      "source": [
        "# 24. Develop a code that prompts the user to input two sets of strings. Then, print the elements that are\n",
        "# present in the first set but not in the second set.\n",
        "\n",
        "# Prompt user for two sets of strings separated by commas\n",
        "set1_input = input(\"Enter the first set of strings (comma-separated): \")\n",
        "set2_input = input(\"Enter the second set of strings (comma-separated): \")\n",
        "\n",
        "# Convert the input strings to sets of strings\n",
        "set1 = set(set1_input.split(','))\n",
        "set2 = set(set2_input.split(','))\n",
        "\n",
        "# Find elements present in set1 but not in set2\n",
        "difference = set1 - set2\n",
        "\n",
        "print(\"Elements in the first set but not in the second set:\", difference)"
      ],
      "metadata": {
        "colab": {
          "base_uri": "https://localhost:8080/"
        },
        "id": "wxEtkl8R4Dx9",
        "outputId": "256bfec7-8e78-4e49-e8ff-a3a9a7e5f0a5"
      },
      "execution_count": 28,
      "outputs": [
        {
          "output_type": "stream",
          "name": "stdout",
          "text": [
            "Enter the first set of strings (comma-separated): \"Hello\", \"World\"\n",
            "Enter the second set of strings (comma-separated): \"My\", \"Assignment\"\n",
            "Elements in the first set but not in the second set: {' \"World\"', '\"Hello\"'}\n"
          ]
        }
      ]
    },
    {
      "cell_type": "code",
      "source": [
        "# 25. Create a code that takes a tuple and two integers as input. The function should return a new tuple\n",
        "# containing elements from the original tuple within the specified range of indices.\n",
        "\n",
        "def get_tuple_in_range(tpl, start, end):\n",
        "    # Return a new tuple containing elements within the specified range (inclusive of start, exclusive of end)\n",
        "    return tpl[start:end]\n",
        "\n",
        "# Example usage\n",
        "tuple1 = (1, 2, 3, 4, 5, 6, 7, 8)\n",
        "\n",
        "start_index = int(input(\"Enter the start index: \"))\n",
        "end_index = int(input(\"Enter the end index: \"))\n",
        "\n",
        "result = get_tuple_in_range(tuple1, start_index, end_index)\n",
        "print(\"New tuple within the specified range:\", result)"
      ],
      "metadata": {
        "colab": {
          "base_uri": "https://localhost:8080/"
        },
        "id": "6IPYMGXP4NPw",
        "outputId": "2c1f7b8b-5aef-43b5-c77c-2e320646fff9"
      },
      "execution_count": 29,
      "outputs": [
        {
          "output_type": "stream",
          "name": "stdout",
          "text": [
            "Enter the start index: 2\n",
            "Enter the end index: 5\n",
            "New tuple within the specified range: (3, 4, 5)\n"
          ]
        }
      ]
    },
    {
      "cell_type": "code",
      "source": [
        "# 26. Write a code that prompts the user to input two sets of characters. Then, print the union of these two sets.\n",
        "\n",
        "# Prompt user for two sets of characters separated by commas\n",
        "set1_input = input(\"Enter the first set of characters (comma-separated): \")\n",
        "set2_input = input(\"Enter the second set of characters (comma-separated): \")\n",
        "\n",
        "# Convert the input strings to sets of characters\n",
        "set1 = set(set1_input.split(','))\n",
        "set2 = set(set2_input.split(','))\n",
        "\n",
        "# Find the union of the two sets\n",
        "union = set1 | set2\n",
        "\n",
        "print(\"Union of the two sets:\", union)"
      ],
      "metadata": {
        "colab": {
          "base_uri": "https://localhost:8080/"
        },
        "id": "Z1sLb60S4fMp",
        "outputId": "36cf392f-3299-4dc5-9b15-60ad358f90a5"
      },
      "execution_count": 30,
      "outputs": [
        {
          "output_type": "stream",
          "name": "stdout",
          "text": [
            "Enter the first set of characters (comma-separated): 2,4,5,6,7\n",
            "Enter the second set of characters (comma-separated): 3,5,7,8,9,0\n",
            "Union of the two sets: {'2', '7', '3', '0', '9', '4', '5', '8', '6'}\n"
          ]
        }
      ]
    },
    {
      "cell_type": "code",
      "source": [
        "# 27. Develop a code that takes a tuple of integers as input. The function should return the maximum and\n",
        "# minimum values from the tuple using tuple unpacking.\n",
        "\n",
        "def get_max_min(tpl):\n",
        "    # Find the maximum and minimum values using tuple unpacking\n",
        "    max_value, min_value = max(tpl), min(tpl)\n",
        "    return max_value, min_value\n",
        "\n",
        "# Example usage\n",
        "tuple_input = tuple(map(int, input(\"Enter a tuple of integers (comma-separated): \").split(',')))\n",
        "\n",
        "# Get the maximum and minimum values\n",
        "max_val, min_val = get_max_min(tuple_input)\n",
        "\n",
        "print(\"Maximum value:\", max_val)\n",
        "print(\"Minimum value:\", min_val)\n"
      ],
      "metadata": {
        "colab": {
          "base_uri": "https://localhost:8080/"
        },
        "id": "MWaVX3Kz4rBc",
        "outputId": "4b4482fc-36a1-4b60-e73c-5a535f300c4c"
      },
      "execution_count": 31,
      "outputs": [
        {
          "output_type": "stream",
          "name": "stdout",
          "text": [
            "Enter a tuple of integers (comma-separated): 1, 4,6,3,7\n",
            "Maximum value: 7\n",
            "Minimum value: 1\n"
          ]
        }
      ]
    },
    {
      "cell_type": "code",
      "source": [
        "# 28. Create a code that defines two sets of integers. Then, print the union, intersection, and difference of these two sets.\n",
        "\n",
        "# Define two sets of integers\n",
        "set1 = {1, 2, 3, 4, 5}\n",
        "set2 = {4, 5, 6, 7, 8}\n",
        "\n",
        "# Union of the two sets\n",
        "union = set1 | set2\n",
        "\n",
        "# Intersection of the two sets\n",
        "intersection = set1 & set2\n",
        "\n",
        "# Difference of the two sets (elements in set1 but not in set2)\n",
        "difference = set1 - set2\n",
        "\n",
        "# Print the results\n",
        "print(\"Union of the two sets:\", union)\n",
        "print(\"Intersection of the two sets:\", intersection)\n",
        "print(\"Difference of the two sets (set1 - set2):\", difference)"
      ],
      "metadata": {
        "colab": {
          "base_uri": "https://localhost:8080/"
        },
        "id": "tvxgaE7f446g",
        "outputId": "9fdda4ae-c879-4153-dbef-2dd5bb5dcb9f"
      },
      "execution_count": 32,
      "outputs": [
        {
          "output_type": "stream",
          "name": "stdout",
          "text": [
            "Union of the two sets: {1, 2, 3, 4, 5, 6, 7, 8}\n",
            "Intersection of the two sets: {4, 5}\n",
            "Difference of the two sets (set1 - set2): {1, 2, 3}\n"
          ]
        }
      ]
    },
    {
      "cell_type": "code",
      "source": [
        "# 29. Write a code that takes a tuple and an element as input. The function should return the count of\n",
        "# occurrences of the given element in the tuple.\n",
        "\n",
        "def count_occurrences(tpl, element):\n",
        "    # Return the count of occurrences of the element in the tuple\n",
        "    return tpl.count(element)\n",
        "\n",
        "# Example usage\n",
        "tuple_input = tuple(map(int, input(\"Enter a tuple of integers (comma-separated): \").split(',')))\n",
        "element_input = int(input(\"Enter the element to count: \"))\n",
        "\n",
        "# Get the count of occurrences\n",
        "count = count_occurrences(tuple_input, element_input)\n",
        "\n",
        "print(f\"The element {element_input} appears {count} time(s) in the tuple.\")"
      ],
      "metadata": {
        "colab": {
          "base_uri": "https://localhost:8080/"
        },
        "id": "30X1zoXZ5FPv",
        "outputId": "cbf4bc53-3005-407b-b095-667ebed2f471"
      },
      "execution_count": 33,
      "outputs": [
        {
          "output_type": "stream",
          "name": "stdout",
          "text": [
            "Enter a tuple of integers (comma-separated): 1,4,5,6,8\n",
            "Enter the element to count: 2\n",
            "The element 2 appears 0 time(s) in the tuple.\n"
          ]
        }
      ]
    },
    {
      "cell_type": "code",
      "source": [
        "# 30. Develop a code that prompts the user to input two sets of strings. Then, print the symmetric difference of these two sets.\n",
        "\n",
        "# Prompt user for two sets of strings separated by commas\n",
        "set1_input = input(\"Enter the first set of strings (comma-separated): \")\n",
        "set2_input = input(\"Enter the second set of strings (comma-separated): \")\n",
        "\n",
        "# Convert the input strings to sets of strings\n",
        "set1 = set(set1_input.split(','))\n",
        "set2 = set(set2_input.split(','))\n",
        "\n",
        "# Find the symmetric difference of the two sets\n",
        "symmetric_difference = set1 ^ set2\n",
        "\n",
        "print(\"Symmetric difference of the two sets:\", symmetric_difference)\n"
      ],
      "metadata": {
        "colab": {
          "base_uri": "https://localhost:8080/"
        },
        "id": "hWgfRrhu5OG5",
        "outputId": "3283709f-e34e-46e1-fc28-e4c61785a6b0"
      },
      "execution_count": 34,
      "outputs": [
        {
          "output_type": "stream",
          "name": "stdout",
          "text": [
            "Enter the first set of strings (comma-separated): \"ab\",\"cd\",\"ef\",\"gh\"\n",
            "Enter the second set of strings (comma-separated): \"gh\", \"ij\"\n",
            "Symmetric difference of the two sets: {'\"cd\"', '\"ef\"', '\"ab\"', ' \"ij\"'}\n"
          ]
        }
      ]
    },
    {
      "cell_type": "code",
      "source": [
        "# 31. Write a code that takes a list of words as input and returns a dictionary where the keys are unique words\n",
        "# and the values are the frequencies of those words in the input list.\n",
        "\n",
        "def word_frequencies(word_list):\n",
        "    freq_dict = {}\n",
        "    for word in word_list:\n",
        "        freq_dict[word] = freq_dict.get(word, 0) + 1\n",
        "    return freq_dict\n",
        "\n",
        "# Example usage\n",
        "words_input = input(\"Enter a list of words (separated by spaces): \").split()\n",
        "\n",
        "# Get the word frequencies\n",
        "frequencies = word_frequencies(words_input)\n",
        "\n",
        "print(\"Word frequencies:\", frequencies)\n"
      ],
      "metadata": {
        "colab": {
          "base_uri": "https://localhost:8080/"
        },
        "id": "9m0Jt5A45cSS",
        "outputId": "5389a03e-de11-4cf4-f0c9-d052fb2813bd"
      },
      "execution_count": 35,
      "outputs": [
        {
          "output_type": "stream",
          "name": "stdout",
          "text": [
            "Enter a list of words (separated by spaces): ab cd cd ab ba dc \n",
            "Word frequencies: {'ab': 2, 'cd': 2, 'ba': 1, 'dc': 1}\n"
          ]
        }
      ]
    },
    {
      "cell_type": "code",
      "source": [
        "# 32. Write a code that takes two dictionaries as input and merges them into a single dictionary. If there are\n",
        "# common keys, the values should be added together.\n",
        "\n",
        "def merge_dicts(dict1, dict2):\n",
        "    # Create a new dictionary to store the merged result\n",
        "    merged_dict = dict1.copy()  # Start with dict1\n",
        "    for key, value in dict2.items():\n",
        "        # If the key is in both dictionaries, add the values together\n",
        "        if key in merged_dict:\n",
        "            merged_dict[key] += value\n",
        "        else:\n",
        "            merged_dict[key] = value\n",
        "    return merged_dict\n",
        "\n",
        "# Example usage\n",
        "dict1_input = input(\"Enter the first dictionary (format: key1=value1,key2=value2,...): \")\n",
        "dict2_input = input(\"Enter the second dictionary (format: key1=value1,key2=value2,...): \")\n",
        "\n",
        "# Convert the input strings into dictionaries\n",
        "dict1 = dict(item.split('=') for item in dict1_input.split(','))\n",
        "dict2 = dict(item.split('=') for item in dict2_input.split(','))\n",
        "\n",
        "# Convert values to integers\n",
        "dict1 = {k: int(v) for k, v in dict1.items()}\n",
        "dict2 = {k: int(v) for k, v in dict2.items()}\n",
        "\n",
        "# Merge the dictionaries\n",
        "merged = merge_dicts(dict1, dict2)\n",
        "\n",
        "print(\"Merged dictionary:\", merged)\n"
      ],
      "metadata": {
        "colab": {
          "base_uri": "https://localhost:8080/"
        },
        "id": "OdgLZwmS5xS3",
        "outputId": "da396dc5-d196-4d5f-c1ee-bdd7ef1152d4"
      },
      "execution_count": 36,
      "outputs": [
        {
          "output_type": "stream",
          "name": "stdout",
          "text": [
            "Enter the first dictionary (format: key1=value1,key2=value2,...): v=2, b=3, g=4\n",
            "Enter the second dictionary (format: key1=value1,key2=value2,...): n=7, v=3\n",
            "Merged dictionary: {'v': 2, ' b': 3, ' g': 4, 'n': 7, ' v': 3}\n"
          ]
        }
      ]
    },
    {
      "cell_type": "code",
      "source": [
        "# 33. Write a code to access a value in a nested dictionary. The function should take the dictionary and a list of\n",
        "# keys as input, and return the corresponding value. If any of the keys do not exist in the dictionary, the\n",
        "# function should return None.\n",
        "\n",
        "def access_nested_dict_value(nested_dict, keys):\n",
        "    # Iterate through the list of keys and access the nested dictionary\n",
        "    for key in keys:\n",
        "        # If the key doesn't exist in the dictionary, return None\n",
        "        if key not in nested_dict:\n",
        "            return None\n",
        "        nested_dict = nested_dict[key]  # Move to the next level of the nested dictionary\n",
        "    return nested_dict  # Return the final value after all keys have been accessed\n",
        "\n",
        "# Example usage\n",
        "nested_dict = {\n",
        "    'a': {\n",
        "        'b': {\n",
        "            'c': 5\n",
        "        },\n",
        "        'd': 10\n",
        "    },\n",
        "    'x': 20\n",
        "}\n",
        "\n",
        "keys_input = input(\"Enter a list of keys (comma-separated): \").split(',')\n",
        "\n",
        "# Convert keys to strip any surrounding whitespace\n",
        "keys_input = [key.strip() for key in keys_input]\n",
        "\n",
        "# Access the value\n",
        "value = access_nested_dict_value(nested_dict, keys_input)\n",
        "\n",
        "print(\"Value:\", value)\n"
      ],
      "metadata": {
        "colab": {
          "base_uri": "https://localhost:8080/"
        },
        "id": "ApSySz9-6Bt0",
        "outputId": "1329cd9f-c783-4c3e-9b17-98e8ec75583d"
      },
      "execution_count": 37,
      "outputs": [
        {
          "output_type": "stream",
          "name": "stdout",
          "text": [
            "Enter a list of keys (comma-separated): 2,3,5,6,\n",
            "Value: None\n"
          ]
        }
      ]
    },
    {
      "cell_type": "code",
      "source": [
        "# 34. Write a code that takes a dictionary as input and returns a sorted version of it based on the values. You\n",
        "# can choose whether to sort in ascending or descending order.\n",
        "\n",
        "def sort_dict_by_value(input_dict, descending=False):\n",
        "    # Sort the dictionary by values, in either ascending or descending order\n",
        "    sorted_dict = dict(sorted(input_dict.items(), key=lambda item: item[1], reverse=descending))\n",
        "    return sorted_dict\n",
        "\n",
        "# Example usage\n",
        "dict_input = input(\"Enter a dictionary (format: key1=value1,key2=value2,...): \")\n",
        "\n",
        "# Convert the input string into a dictionary\n",
        "input_dict = dict(item.split('=') for item in dict_input.split(','))\n",
        "input_dict = {k: int(v) for k, v in input_dict.items()}  # Convert values to integers\n",
        "\n",
        "# Ask user for the sorting order\n",
        "order = input(\"Enter sorting order (ascending/descending): \").strip().lower()\n",
        "descending = order == 'descending'\n",
        "\n",
        "# Get the sorted dictionary\n",
        "sorted_dict = sort_dict_by_value(input_dict, descending)\n",
        "\n",
        "print(\"Sorted dictionary:\", sorted_dict)"
      ],
      "metadata": {
        "colab": {
          "base_uri": "https://localhost:8080/"
        },
        "id": "hUqEooEk6YX-",
        "outputId": "2b196fea-1172-4d2d-d771-2a88b124bcfa"
      },
      "execution_count": 38,
      "outputs": [
        {
          "output_type": "stream",
          "name": "stdout",
          "text": [
            "Enter a dictionary (format: key1=value1,key2=value2,...): n=1, o=4, r=3\n",
            "Enter sorting order (ascending/descending): ascending\n",
            "Sorted dictionary: {'n': 1, ' r': 3, ' o': 4}\n"
          ]
        }
      ]
    },
    {
      "cell_type": "code",
      "source": [
        "# 35. Write a code that inverts a dictionary, swapping keys and values. Ensure that the inverted dictionary\n",
        "# correctly handles cases where multiple keys have the same value by storing the keys as a list in the\n",
        "# inverted dictionary.\n",
        "\n",
        "def invert_dict(input_dict):\n",
        "    inverted_dict = {}\n",
        "    for key, value in input_dict.items():\n",
        "        # If the value already exists in the inverted dictionary, append the key to the list\n",
        "        if value in inverted_dict:\n",
        "            inverted_dict[value].append(key)\n",
        "        else:\n",
        "            # If the value does not exist, create a new list with the current key\n",
        "            inverted_dict[value] = [key]\n",
        "    return inverted_dict\n",
        "\n",
        "input_dict = {'a': 1, 'b': 2, 'c': 1, 'd': 3, 'e': 2}\n",
        "\n",
        "inverted_dict = invert_dict(input_dict)\n",
        "\n",
        "print(\"Inverted dictionary:\", inverted_dict)"
      ],
      "metadata": {
        "colab": {
          "base_uri": "https://localhost:8080/"
        },
        "id": "hyJQP8AJ6sLT",
        "outputId": "e0c9b8bb-a0ae-41a1-c049-dd32eb898983"
      },
      "execution_count": 39,
      "outputs": [
        {
          "output_type": "stream",
          "name": "stdout",
          "text": [
            "Inverted dictionary: {1: ['a', 'c'], 2: ['b', 'e'], 3: ['d']}\n"
          ]
        }
      ]
    },
    {
      "cell_type": "code",
      "source": [],
      "metadata": {
        "id": "ro3G6T-a7IE6"
      },
      "execution_count": null,
      "outputs": []
    }
  ]
}
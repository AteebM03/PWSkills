{
  "nbformat": 4,
  "nbformat_minor": 0,
  "metadata": {
    "colab": {
      "provenance": []
    },
    "kernelspec": {
      "name": "python3",
      "display_name": "Python 3"
    },
    "language_info": {
      "name": "python"
    }
  },
  "cells": [
    {
      "cell_type": "code",
      "execution_count": 1,
      "metadata": {
        "id": "PvZrf77En6wV"
      },
      "outputs": [],
      "source": [
        "# Files, exceptional handling,logging and memory management assignment.\n",
        "# 1. What is the difference between interpreted and compiled languages?\n",
        "\n",
        "# Interpreted languages execute code line by line using an interpreter, which translates high-level instructions into machine code at runtime.\n",
        "# Compiled languages, on the other hand, are translated into machine code all at once by a compiler before execution, resulting in faster performance.\n",
        "# Examples of interpreted languages include Python and JavaScript, while C and C++ are compiled languages.\n"
      ]
    },
    {
      "cell_type": "code",
      "source": [
        "# 2. What is exception handling in Python?\n",
        "\n",
        "# Exception handling in Python is a way to manage errors that occur during program execution without crashing the program.\n",
        "# It uses try, except, else, and finally blocks to catch and handle exceptions gracefully, allowing the program to continue running or exit cleanly."
      ],
      "metadata": {
        "id": "thX0r7vroit3"
      },
      "execution_count": 2,
      "outputs": []
    },
    {
      "cell_type": "code",
      "source": [
        "# 3. What is the purpose of the finally block in exception handling?\n",
        "\n",
        "# The finally block in exception handling is used to define code that should run no matter what—whether an exception was raised or not.\n",
        "# It's typically used for cleanup actions like closing files or releasing resources."
      ],
      "metadata": {
        "id": "pqpfr6DDo13I"
      },
      "execution_count": 3,
      "outputs": []
    },
    {
      "cell_type": "code",
      "source": [
        "# 4. What is logging in Python?\n",
        "\n",
        "# Logging in Python is the process of recording messages about a program’s execution, which can help with debugging, monitoring, and tracking events.\n",
        "# Python’s built-in logging module provides a flexible way to log information at different severity levels such as DEBUG, INFO, WARNING, ERROR,\n",
        "# and CRITICAL."
      ],
      "metadata": {
        "id": "jZivCt28pB5A"
      },
      "execution_count": 4,
      "outputs": []
    },
    {
      "cell_type": "code",
      "source": [
        "# 5. What is the significance of the __del__ method in Python?\n",
        "\n",
        "# The __del__ method in Python is a special method called a destructor, which is automatically invoked when an object is about to be destroyed.\n",
        "# It allows you to define cleanup actions, such as closing files or releasing resources. However, its use is generally discouraged in favor of\n",
        "# context managers (with statements) because __del__ execution timing is not always predictable."
      ],
      "metadata": {
        "id": "rRHv4YpdpN9c"
      },
      "execution_count": 5,
      "outputs": []
    },
    {
      "cell_type": "code",
      "source": [
        "# 6. What is the difference between import and from ... import in Python?\n",
        "\n",
        "# In Python, import module brings in the entire module, so you access its functions or classes with the module name (e.g., math.sqrt()).\n",
        "# In contrast, from module import name imports specific parts directly, allowing you to use them without the module prefix (e.g., sqrt()\n",
        "# if you did from math import sqrt)."
      ],
      "metadata": {
        "id": "K-H1q26YpZFd"
      },
      "execution_count": 6,
      "outputs": []
    },
    {
      "cell_type": "code",
      "source": [
        "# 7. How can you handle multiple exceptions in Python?\n",
        "\n",
        "# You can handle multiple exceptions in Python by using multiple except blocks for different exception types, or by grouping them in a single block\n",
        "# using a tuple. For example:\n",
        "\n",
        "try:\n",
        "    x = int(input(\"Enter a number: \"))\n",
        "    result = 10 / x\n",
        "    print(\"Result:\", result)\n",
        "except (TypeError, ValueError) as e:\n",
        "    print(\"Caught a TypeError or ValueError:\", e)\n",
        "except ZeroDivisionError:\n",
        "    print(\"Cannot divide by zero.\")\n",
        "\n"
      ],
      "metadata": {
        "colab": {
          "base_uri": "https://localhost:8080/"
        },
        "id": "Y02YH4K3ppM5",
        "outputId": "4d03c19e-8102-4f5e-8283-be9b53735313"
      },
      "execution_count": 9,
      "outputs": [
        {
          "output_type": "stream",
          "name": "stdout",
          "text": [
            "Enter a number: 0\n",
            "Cannot divide by zero.\n"
          ]
        }
      ]
    },
    {
      "cell_type": "code",
      "source": [
        "# 8. What is the purpose of the with statement when handling files in Python?\n",
        "\n",
        "# The with statement in Python is used to simplify resource management, such as handling files. It automatically takes care of opening and\n",
        "# closing the file, even if an exception occurs during file operations. This ensures that the file is properly closed when done,\n",
        "# preventing resource leaks."
      ],
      "metadata": {
        "id": "upH7yYdvp335"
      },
      "execution_count": 10,
      "outputs": []
    },
    {
      "cell_type": "code",
      "source": [
        "# 9. What is the difference between multithreading and multiprocessing?\n",
        "\n",
        "# The difference between multithreading and multiprocessing lies in how they handle tasks:\n",
        "\n",
        "# Multithreading involves running multiple threads within the same process, sharing the same memory space.\n",
        "# It’s best suited for I/O-bound tasks (like reading/writing to a file or network) because threads can work concurrently but may face\n",
        "# limitations due to Python’s Global Interpreter Lock (GIL).\n",
        "\n",
        "# Multiprocessing involves running multiple processes, each with its own memory space and independent execution.\n",
        "# It’s ideal for CPU-bound tasks (like complex calculations) because each process runs in its own Python interpreter and can fully\n",
        "# utilize multiple CPU cores."
      ],
      "metadata": {
        "id": "CybRHId0q3l3"
      },
      "execution_count": 11,
      "outputs": []
    },
    {
      "cell_type": "code",
      "source": [
        "# 10. What are the advantages of using logging in a program?\n",
        "\n",
        "# Logging helps in debugging, tracking errors, and monitoring program execution by recording important events and messages.\n",
        "# It allows for better error tracking, performance analysis, and maintaining a historical record. Additionally, logging is customizable,\n",
        "# enabling different log levels and output destinations for effective program management."
      ],
      "metadata": {
        "id": "1c-QUegFrF_N"
      },
      "execution_count": 13,
      "outputs": []
    },
    {
      "cell_type": "code",
      "source": [
        "# 11. What is memory management in Python?\n",
        "\n",
        "# Memory management in Python involves automatically handling the allocation and deallocation of memory using a system called garbage collection.\n",
        "# Python uses a memory manager that tracks objects, and when they are no longer needed (i.e., when there are no references to them), it frees up the memory.\n",
        "# The garbage collector periodically checks for unreachable objects and cleans them up, reducing memory leaks."
      ],
      "metadata": {
        "id": "Ix-ZIc6BrTp5"
      },
      "execution_count": 14,
      "outputs": []
    },
    {
      "cell_type": "code",
      "source": [
        "# 12. What are the basic steps involved in exception handling in Python?\n",
        "\n",
        "# The basic steps involved in exception handling in Python are:\n",
        "\n",
        "# try block: Write the code that might raise an exception inside a try block.\n",
        "\n",
        "# except block: If an exception occurs, the code in the except block is executed to handle the exception.\n",
        "\n",
        "# else block (optional): If no exception occurs in the try block, the code in the else block is executed.\n",
        "\n",
        "# finally block (optional): This block contains code that runs no matter what, whether an exception was raised or not, often used for cleanup tasks."
      ],
      "metadata": {
        "id": "ZFSQjF23rmRt"
      },
      "execution_count": 15,
      "outputs": []
    },
    {
      "cell_type": "code",
      "source": [
        "# 13. Why is memory management important in Python?\n",
        "\n",
        "# Memory management is important in Python because it helps optimize resource usage, prevents memory leaks, and ensures that the program runs efficiently.\n",
        "# Python's automatic garbage collection and memory allocation reduce the risk of memory-related errors, like running out of memory or retaining unused\n",
        "# objects. Proper memory management ensures better performance, especially in long-running applications, and improves the overall stability of the program."
      ],
      "metadata": {
        "id": "xFGqXltZry6D"
      },
      "execution_count": 16,
      "outputs": []
    },
    {
      "cell_type": "code",
      "source": [
        "# 14. What is the role of try and except in exception handling?\n",
        "\n",
        "# In exception handling, the try block is used to wrap code that might raise an exception, while the except block is used to catch\n",
        "# and handle the exception if one occurs.\n",
        "\n",
        "# The try block executes the code, and if an exception is raised, it stops execution and looks for an appropriate except block to handle the error.\n",
        "\n",
        "# The except block allows you to define how to respond to specific exceptions, such as logging the error or providing a fallback behavior."
      ],
      "metadata": {
        "id": "FOgkM7uUsCvq"
      },
      "execution_count": 17,
      "outputs": []
    },
    {
      "cell_type": "code",
      "source": [
        "# 15. How does Python's garbage collection system work?\n",
        "\n",
        "# Python's garbage collection system uses reference counting to track object references and automatically frees memory when there are no more references.\n",
        "# It also detects and cleans up reference cycles, where objects reference each other, preventing memory leaks. This process is mostly automatic,\n",
        "# but can be manually controlled using the gc module."
      ],
      "metadata": {
        "id": "zx31IEwHsOni"
      },
      "execution_count": 18,
      "outputs": []
    },
    {
      "cell_type": "code",
      "source": [
        "# 16. What is the purpose of the else block in exception handling?\n",
        "\n",
        "# The else block in exception handling is used to define code that runs only if no exception occurs in the try block.\n",
        "# It provides a way to execute code when the operations in the try block are successful, helping to separate normal execution from error handling."
      ],
      "metadata": {
        "id": "WAjycnBxsdPr"
      },
      "execution_count": 19,
      "outputs": []
    },
    {
      "cell_type": "code",
      "source": [
        "# 17. What are the common logging levels in Python?\n",
        "\n",
        "# The common logging levels in Python are:\n",
        "\n",
        "# DEBUG: Detailed information, typically used for diagnosing problems.\n",
        "\n",
        "# INFO: General information about the program’s execution, like status updates.\n",
        "\n",
        "# WARNING: Indicates a potential issue or unexpected behavior, but the program can continue running.\n",
        "\n",
        "# ERROR: An error that occurred, which might affect part of the program's functionality.\n",
        "\n",
        "# CRITICAL: A very serious error, typically indicating a major failure or system crash."
      ],
      "metadata": {
        "id": "zGDdUCWBsphI"
      },
      "execution_count": 20,
      "outputs": []
    },
    {
      "cell_type": "code",
      "source": [
        "# 18. What is the difference between os.fork() and multiprocessing in Python?\n",
        "\n",
        "# os.fork() is a low-level function that creates a child process by duplicating the parent process, and it is only available on Unix-based systems.\n",
        "# It can be complex to manage and doesn't easily support cross-platform development.\n",
        "\n",
        "# On the other hand, multiprocessing is a higher-level, cross-platform module in Python that allows for easier process creation and management,\n",
        "# providing better abstraction and communication between processes. It is generally preferred for parallel processing tasks."
      ],
      "metadata": {
        "id": "lSf6HhFKsxm1"
      },
      "execution_count": 21,
      "outputs": []
    },
    {
      "cell_type": "code",
      "source": [
        "# 19. What is the importance of closing a file in Python?\n",
        "\n",
        "# Closing a file in Python is important because it ensures that all data is properly written to the file, releases system resources\n",
        "# and prevents memory leaks or file corruption. When a file is closed, it frees up file handles, which are limited\n",
        "# and ensures that no further operations can be performed on it. This is typically done using the close() method or, more commonly,\n",
        "# using the with statement, which automatically closes the file when done."
      ],
      "metadata": {
        "id": "awHHTv_CtARN"
      },
      "execution_count": 22,
      "outputs": []
    },
    {
      "cell_type": "code",
      "source": [
        "# 20. What is the difference between file.read() and file.readline() in Python?\n",
        "\n",
        "# The difference between file.read() and file.readline() in Python is:\n",
        "\n",
        "# file.read(): Reads the entire content of the file as a single string. It can be used to load the whole file into memory at once.\n",
        "\n",
        "# file.readline(): Reads one line at a time from the file, returning it as a string. This is useful for processing files line by\n",
        "# line without loading the entire file into memory."
      ],
      "metadata": {
        "id": "tS6vXIAXtMcS"
      },
      "execution_count": 23,
      "outputs": []
    },
    {
      "cell_type": "code",
      "source": [
        "# 21. What is the logging module in Python used for?\n",
        "\n",
        "# The logging module in Python is used for tracking and recording log messages during program execution. It allows developers to log information,\n",
        "# warnings, errors, and other events at different severity levels (e.g., DEBUG, INFO, WARNING, ERROR, CRITICAL).\n",
        "# The module provides a flexible framework for writing logs to various destinations, such as console, files, or remote servers, and helps\n",
        "# with debugging, monitoring, and maintaining code."
      ],
      "metadata": {
        "id": "_QdzFSNEtatH"
      },
      "execution_count": 24,
      "outputs": []
    },
    {
      "cell_type": "code",
      "source": [
        "# 22. What is the os module in Python used for in file handling?\n",
        "\n",
        "# The os module in Python is used for interacting with the operating system and provides a variety of functions for file handling.\n",
        "# It allows you to perform tasks such as:\n",
        "\n",
        "# Creating, renaming, and deleting files or directories (os.mkdir(), os.rename(), os.remove(), etc.)\n",
        "\n",
        "# Navigating and managing directories (os.chdir(), os.getcwd(), os.listdir(), etc.)\n",
        "\n",
        "# Checking file properties (e.g., os.path.exists(), os.path.isfile(), os.path.isdir())\n",
        "\n",
        "# Handling file paths with functions like os.path.join() and os.path.split()."
      ],
      "metadata": {
        "id": "bMawfIOgtmSU"
      },
      "execution_count": 25,
      "outputs": []
    },
    {
      "cell_type": "code",
      "source": [
        "# 23. What are the challenges associated with memory management in Python?\n",
        "\n",
        "# Challenges with memory management in Python include the overhead of garbage collection, which can impact performance, and the potential\n",
        "# for memory leaks due to circular references. Memory fragmentation can also occur in long-running programs, affecting efficiency.\n",
        "# Additionally, the Global Interpreter Lock (GIL) limits multi-threading, which can complicate memory management in concurrent programs.\n",
        "# Handling large data structures efficiently can also be challenging in memory-constrained environments."
      ],
      "metadata": {
        "id": "Gsgs5p_Ztw0D"
      },
      "execution_count": 26,
      "outputs": []
    },
    {
      "cell_type": "code",
      "source": [
        "# 24. How do you raise an exception manually in Python?\n",
        "\n",
        "# You can raise an exception manually in Python using the raise keyword, followed by the exception type you want to raise.\n",
        "# Optionally, you can include a custom error message or pass additional arguments to the exception."
      ],
      "metadata": {
        "id": "PVT9d1YluAUQ"
      },
      "execution_count": 27,
      "outputs": []
    },
    {
      "cell_type": "code",
      "source": [
        "# 25. Why is it important to use multithreading in certain applications?\n",
        "\n",
        "# Multithreading is important in certain applications because it allows for concurrent execution of tasks, improving performance and responsiveness.\n",
        "# It is particularly useful in applications that involve I/O-bound tasks (such as reading from a file or making network requests) because while\n",
        "# one thread waits for I/O operations to complete, other threads can continue running. This maximizes the utilization of system resources and enhances\n",
        "# the overall user experience. Additionally, multithreading can help maintain responsiveness in graphical user interfaces (GUIs) or in\n",
        "# real-time applications where tasks need to run in parallel without blocking other operations."
      ],
      "metadata": {
        "id": "7SJrnTUTuNuN"
      },
      "execution_count": 28,
      "outputs": []
    },
    {
      "cell_type": "code",
      "source": [
        "# Practical Questions\n",
        "# 1.How can you open a file for writing in Python and write a string to it?\n",
        "\n",
        "# Open the file in write mode ('w')\n",
        "with open('example.txt', 'w') as file:\n",
        "    file.write(\"Hello, world!\")\n"
      ],
      "metadata": {
        "id": "a4tiub03ua8J"
      },
      "execution_count": 31,
      "outputs": []
    },
    {
      "cell_type": "code",
      "source": [
        "2.Write a Python program to read the contents of a file and print each line?\n",
        "\n",
        "import warnings\n",
        "warnings.filterwarnings(\"ignore\")\n",
        "\n",
        "with open('example.txt', 'r') as file:\n",
        "    # Iterate over each line in the file\n",
        "    for line in file:\n",
        "        print(line, end='')"
      ],
      "metadata": {
        "colab": {
          "base_uri": "https://localhost:8080/"
        },
        "id": "_8Gl44egue3Y",
        "outputId": "d92cb4f1-b66a-4021-d280-c41f43072641"
      },
      "execution_count": 36,
      "outputs": [
        {
          "output_type": "stream",
          "name": "stdout",
          "text": [
            "Hello, world!"
          ]
        }
      ]
    },
    {
      "cell_type": "code",
      "source": [
        "# 3.How would you handle a case where the file doesn't exist while trying to open it for reading?\n",
        "\n",
        "# To handle the case where a file doesn't exist while trying to open it for reading, you can use exception handling with a try-except block.\n",
        "# Specifically, you would catch the FileNotFoundError exception, which is raised when attempting to open a non-existent file.\n",
        "\n",
        "try:\n",
        "    with open('example.txt', 'r') as file:\n",
        "        for line in file:\n",
        "            print(line, end='')\n",
        "except FileNotFoundError:\n",
        "    print(\"The file does not exist.\")\n"
      ],
      "metadata": {
        "colab": {
          "base_uri": "https://localhost:8080/"
        },
        "id": "LTGQ0IWwu5zR",
        "outputId": "2b234121-9967-4d2d-fdf6-f5cfc0865ce0"
      },
      "execution_count": 37,
      "outputs": [
        {
          "output_type": "stream",
          "name": "stdout",
          "text": [
            "Hello, world!"
          ]
        }
      ]
    },
    {
      "cell_type": "code",
      "source": [
        "# 4. Write a Python script that reads from one file and writes its content to another file?\n",
        "\n",
        "# Open the source file in read mode ('r') and the destination file in write mode ('w')\n",
        "# with open('source.txt', 'r') as source_file, open('destination.txt', 'w') as dest_file:\n",
        "#     # Read content from the source file\n",
        "#     content = source_file.read()\n",
        "\n",
        "#     # Write the content to the destination file\n",
        "#     dest_file.write(content)\n",
        "\n",
        "# print(\"Content has been copied from source.txt to destination.txt.\")\n"
      ],
      "metadata": {
        "id": "pUgmzTNTvmuT"
      },
      "execution_count": 39,
      "outputs": []
    },
    {
      "cell_type": "code",
      "source": [
        "5. How would you catch and handle division by zero error in Python?\n",
        "\n",
        "try:\n",
        "    x = int(input(\"Enter a number: \"))\n",
        "    result = 10 / x\n",
        "    print(\"Result:\", result)\n",
        "except (TypeError, ValueError) as e:\n",
        "    print(\"Caught a TypeError or ValueError:\", e)\n",
        "except ZeroDivisionError:\n",
        "    print(\"Cannot divide by zero.\")"
      ],
      "metadata": {
        "colab": {
          "base_uri": "https://localhost:8080/"
        },
        "id": "8rkb4qPXvwjU",
        "outputId": "5f40c7ef-67c7-412c-aa6a-d58b9f2e4eca"
      },
      "execution_count": 40,
      "outputs": [
        {
          "output_type": "stream",
          "name": "stdout",
          "text": [
            "Object `Python` not found.\n",
            "Enter a number: 0\n",
            "Cannot divide by zero.\n"
          ]
        }
      ]
    },
    {
      "cell_type": "code",
      "source": [
        "6. Write a Python program that logs an error message to a log file when a division by zero exception occurs?\n",
        "\n",
        "import logging\n",
        "\n",
        "# Set up logging configuration\n",
        "logging.basicConfig(filename='error.log', level=logging.ERROR,\n",
        "                    format='%(asctime)s - %(levelname)s - %(message)s')\n",
        "\n",
        "try:\n",
        "    # Code that may raise a division by zero exception\n",
        "    result = 10 / 0\n",
        "except ZeroDivisionError as e:\n",
        "    # Log the error message to the log file\n",
        "    logging.error(\"Error: Division by zero occurred. Exception: %s\", e)\n",
        "\n",
        "print(\"Error has been logged to 'error.log'.\")\n"
      ],
      "metadata": {
        "colab": {
          "base_uri": "https://localhost:8080/"
        },
        "id": "QZNdFePEwIgb",
        "outputId": "1bd1e957-4bad-450f-f219-9d0a0867b635"
      },
      "execution_count": 41,
      "outputs": [
        {
          "output_type": "stream",
          "name": "stderr",
          "text": [
            "ERROR:root:Error: Division by zero occurred. Exception: division by zero\n"
          ]
        },
        {
          "output_type": "stream",
          "name": "stdout",
          "text": [
            "Object `occurs` not found.\n",
            "Error has been logged to 'error.log'.\n"
          ]
        }
      ]
    },
    {
      "cell_type": "code",
      "source": [
        "# 7. How do you log information at different levels (INFO, ERROR, WARNING) in Python using the logging module?\n",
        "\n",
        "import logging\n",
        "\n",
        "# Set up basic configuration for logging\n",
        "logging.basicConfig(filename='app.log', level=logging.DEBUG,\n",
        "                    format='%(asctime)s - %(levelname)s - %(message)s')\n",
        "\n",
        "# Log at different levels\n",
        "logging.debug(\"This is a debug message.\")   # This is for debugging information\n",
        "logging.info(\"This is an info message.\")    # Informational message\n",
        "logging.warning(\"This is a warning message.\") # Warning message\n",
        "logging.error(\"This is an error message.\")   # Error message\n",
        "logging.critical(\"This is a critical message.\")  # Critical error message\n"
      ],
      "metadata": {
        "colab": {
          "base_uri": "https://localhost:8080/"
        },
        "id": "JO-aziU8wRyo",
        "outputId": "b4bcc693-bd9a-48dd-bd68-26476f2b4c40"
      },
      "execution_count": 42,
      "outputs": [
        {
          "output_type": "stream",
          "name": "stderr",
          "text": [
            "WARNING:root:This is a warning message.\n",
            "ERROR:root:This is an error message.\n",
            "CRITICAL:root:This is a critical message.\n"
          ]
        }
      ]
    },
    {
      "cell_type": "code",
      "source": [
        "# 8. Write a program to handle a file opening error using exception handling?\n",
        "\n",
        "try:\n",
        "    # Attempt to open a file that may not exist\n",
        "    with open('non_existent_file.txt', 'r') as file:\n",
        "        content = file.read()\n",
        "        print(content)\n",
        "except FileNotFoundError as e:\n",
        "    # Handle the case where the file doesn't exist\n",
        "    print(f\"Error: The file was not found. {e}\")\n",
        "except IOError as e:\n",
        "    # Handle other I/O related errors\n",
        "    print(f\"Error: An I/O error occurred. {e}\")\n"
      ],
      "metadata": {
        "colab": {
          "base_uri": "https://localhost:8080/"
        },
        "id": "TcOgidi_wgA1",
        "outputId": "6c097a4e-51d8-459d-e57d-9bdca528248d"
      },
      "execution_count": 43,
      "outputs": [
        {
          "output_type": "stream",
          "name": "stdout",
          "text": [
            "Error: The file was not found. [Errno 2] No such file or directory: 'non_existent_file.txt'\n"
          ]
        }
      ]
    },
    {
      "cell_type": "code",
      "source": [
        "# 9. How can you read a file line by line and store its content in a list in Python?\n",
        "\n",
        "# Open the file in read mode ('r')\n",
        "with open('example.txt', 'r') as file:\n",
        "    # Read all lines at once and store them in a list\n",
        "    lines = file.readlines()\n",
        "\n",
        "# Use strip() to remove newline characters from each line\n",
        "lines = [line.strip() for line in lines]\n",
        "\n",
        "# Print the list of lines\n",
        "print(lines)"
      ],
      "metadata": {
        "colab": {
          "base_uri": "https://localhost:8080/"
        },
        "id": "znheBBGCwqg2",
        "outputId": "d67c7a68-a624-4d54-aef3-d4be82fe74c2"
      },
      "execution_count": 44,
      "outputs": [
        {
          "output_type": "stream",
          "name": "stdout",
          "text": [
            "['Hello, world!']\n"
          ]
        }
      ]
    },
    {
      "cell_type": "code",
      "source": [
        "# 10. How can you append data to an existing file in Python?\n",
        "\n",
        "# Open the file in append mode ('a')\n",
        "with open('example.txt', 'a') as file:\n",
        "    # Append data to the file\n",
        "    file.write(\"This is the new data that will be appended.\\n\")\n",
        "\n",
        "print(\"Data has been appended to 'example.txt'.\")\n"
      ],
      "metadata": {
        "colab": {
          "base_uri": "https://localhost:8080/"
        },
        "id": "ahmCPq4PxNF_",
        "outputId": "bc94811f-65aa-4ee3-c014-16a281d0eacf"
      },
      "execution_count": 45,
      "outputs": [
        {
          "output_type": "stream",
          "name": "stdout",
          "text": [
            "Data has been appended to 'example.txt'.\n"
          ]
        }
      ]
    },
    {
      "cell_type": "code",
      "source": [
        "# 11. Write a Python program that uses a try-except block to handle an error when attempting to access a\n",
        "# dictionary key that doesn't exist?\n",
        "\n",
        "my_dict = {\"name\": \"Alice\", \"age\": 25}\n",
        "\n",
        "try:\n",
        "    # Attempt to access a key that may not exist\n",
        "    value = my_dict[\"address\"]\n",
        "except KeyError as e:\n",
        "    # Handle the case where the key does not exist\n",
        "    print(f\"Error: The key '{e}' does not exist in the dictionary.\")\n",
        "\n",
        "print(\"Program continues running after handling the error.\")\n"
      ],
      "metadata": {
        "colab": {
          "base_uri": "https://localhost:8080/"
        },
        "id": "W55yByplxXCz",
        "outputId": "a4a0ed31-0de8-4da4-cc01-f670933d3ded"
      },
      "execution_count": 46,
      "outputs": [
        {
          "output_type": "stream",
          "name": "stdout",
          "text": [
            "Error: The key ''address'' does not exist in the dictionary.\n",
            "Program continues running after handling the error.\n"
          ]
        }
      ]
    },
    {
      "cell_type": "code",
      "source": [
        "# 12. Write a program that demonstrates using multiple except blocks to handle different types of exceptions?\n",
        "\n",
        "try:\n",
        "    # Example code that may raise different types of exceptions\n",
        "    x = int(input(\"Enter a number: \"))  # This can raise a ValueError\n",
        "    result = 10 / x  # This can raise a ZeroDivisionError\n",
        "    my_dict = {\"key\": \"value\"}\n",
        "    print(my_dict[\"non_existing_key\"])  # This can raise a KeyError\n",
        "except ValueError as ve:\n",
        "    # Handle the case when the input is not a valid integer\n",
        "    print(f\"ValueError: Invalid input. Please enter a valid integer. {ve}\")\n",
        "except ZeroDivisionError as zde:\n",
        "    # Handle the case when attempting to divide by zero\n",
        "    print(f\"ZeroDivisionError: Cannot divide by zero. {zde}\")\n",
        "except KeyError as ke:\n",
        "    # Handle the case when accessing a non-existing dictionary key\n",
        "    print(f\"KeyError: The key '{ke}' does not exist in the dictionary.\")\n",
        "except Exception as e:\n",
        "    # Catch any other unforeseen exceptions\n",
        "    print(f\"An unexpected error occurred: {e}\")\n",
        "finally:\n",
        "    print(\"Execution of the program is complete.\")\n"
      ],
      "metadata": {
        "colab": {
          "base_uri": "https://localhost:8080/"
        },
        "id": "JQZKRMo3xlXc",
        "outputId": "c57c058c-50ef-4789-b5ec-d0616be7d10c"
      },
      "execution_count": 47,
      "outputs": [
        {
          "output_type": "stream",
          "name": "stdout",
          "text": [
            "Enter a number: 0\n",
            "ZeroDivisionError: Cannot divide by zero. division by zero\n",
            "Execution of the program is complete.\n"
          ]
        }
      ]
    },
    {
      "cell_type": "code",
      "source": [
        "# 13. How would you check if a file exists before attempting to read it in Python?\n",
        "\n",
        "import os\n",
        "\n",
        "file_path = 'example.txt'\n",
        "\n",
        "# Check if the file exists\n",
        "if os.path.exists(file_path):\n",
        "    # Open the file and read its content\n",
        "    with open(file_path, 'r') as file:\n",
        "        content = file.read()\n",
        "        print(content)\n",
        "else:\n",
        "    print(f\"The file '{file_path}' does not exist.\")\n"
      ],
      "metadata": {
        "colab": {
          "base_uri": "https://localhost:8080/"
        },
        "id": "Hf3ArsmhxupA",
        "outputId": "1150d1af-06b3-459a-a4da-e5cd3c498528"
      },
      "execution_count": 48,
      "outputs": [
        {
          "output_type": "stream",
          "name": "stdout",
          "text": [
            "Hello, world!This is the new data that will be appended.\n",
            "\n"
          ]
        }
      ]
    },
    {
      "cell_type": "code",
      "source": [
        "# 14. Write a program that uses the logging module to log both informational and error messages?\n",
        "\n",
        "import logging\n",
        "\n",
        "# Set up the logging configuration\n",
        "logging.basicConfig(filename='app.log', level=logging.DEBUG,\n",
        "                    format='%(asctime)s - %(levelname)s - %(message)s')\n",
        "\n",
        "# Log an informational message\n",
        "logging.info(\"This is an informational message.\")\n",
        "\n",
        "try:\n",
        "    # Simulate an error by dividing by zero\n",
        "    result = 10 / 0\n",
        "except ZeroDivisionError as e:\n",
        "    # Log the error message\n",
        "    logging.error(f\"Error occurred: {e}\")\n",
        "\n",
        "# Log another informational message\n",
        "logging.info(\"Program finished successfully.\")\n"
      ],
      "metadata": {
        "colab": {
          "base_uri": "https://localhost:8080/"
        },
        "id": "pKk4BwwtyBAB",
        "outputId": "97448f64-a3a5-4b12-e4e2-3019d1e3347b"
      },
      "execution_count": 49,
      "outputs": [
        {
          "output_type": "stream",
          "name": "stderr",
          "text": [
            "ERROR:root:Error occurred: division by zero\n"
          ]
        }
      ]
    },
    {
      "cell_type": "code",
      "source": [
        "# 15. Write a Python program that prints the content of a file and handles the case when the file is empty?\n",
        "\n",
        "try:\n",
        "    # Open the file in read mode\n",
        "    with open('example.txt', 'r') as file:\n",
        "        content = file.read()\n",
        "\n",
        "        # Check if the file is empty\n",
        "        if content:\n",
        "            print(content)  # Print the content of the file\n",
        "        else:\n",
        "            print(\"The file is empty.\")\n",
        "except FileNotFoundError:\n",
        "    # Handle the case where the file doesn't exist\n",
        "    print(\"Error: The file does not exist.\")\n",
        "except IOError as e:\n",
        "    # Handle any other I/O errors\n",
        "    print(f\"Error: An I/O error occurred. {e}\")\n"
      ],
      "metadata": {
        "colab": {
          "base_uri": "https://localhost:8080/"
        },
        "id": "iia8RxUbyKzu",
        "outputId": "dbf8bf2e-dd93-4a74-e436-8f327c892960"
      },
      "execution_count": 50,
      "outputs": [
        {
          "output_type": "stream",
          "name": "stdout",
          "text": [
            "Hello, world!This is the new data that will be appended.\n",
            "\n"
          ]
        }
      ]
    },
    {
      "cell_type": "code",
      "source": [
        "# 16. Demonstrate how to use memory profiling to check the memory usage of a small program?\n",
        "\n",
        "\n",
        "from memory_profiler import profile\n",
        "\n",
        "# Use the profile decorator to track memory usage for this function\n",
        "@profile\n",
        "def my_function():\n",
        "    a = [i for i in range(10000)]  # List of 10,000 numbers\n",
        "    b = [i * 2 for i in range(10000)]  # Another list of 10,000 numbers\n",
        "    c = {i: i * 3 for i in range(10000)}  # A dictionary with 10,000 items\n",
        "    return a, b, c\n",
        "\n",
        "if __name__ == \"__main__\":\n",
        "    my_function()\n"
      ],
      "metadata": {
        "colab": {
          "base_uri": "https://localhost:8080/"
        },
        "id": "Nabvt4VzyUrs",
        "outputId": "ca5eed9f-0112-4f67-ee03-02c1956f0545"
      },
      "execution_count": 55,
      "outputs": [
        {
          "output_type": "stream",
          "name": "stdout",
          "text": [
            "ERROR: Could not find file <ipython-input-55-1cf58e8bd079>\n",
            "NOTE: %mprun can only be used on functions defined in physical files, and not in the IPython environment.\n"
          ]
        }
      ]
    },
    {
      "cell_type": "code",
      "source": [
        "# 17. Write a Python program to create and write a list of numbers to a file, one number per line?\n",
        "\n",
        "# List of numbers to be written to the file\n",
        "numbers = [1, 2, 3, 4, 5, 6, 7, 8, 9, 10]\n",
        "\n",
        "# Open the file in write mode ('w')\n",
        "with open('numbers.txt', 'w') as file:\n",
        "    # Write each number to the file, one per line\n",
        "    for number in numbers:\n",
        "        file.write(f\"{number}\\n\")\n",
        "\n",
        "print(\"Numbers have been written to 'numbers.txt'.\")\n"
      ],
      "metadata": {
        "colab": {
          "base_uri": "https://localhost:8080/"
        },
        "id": "GKHhdOc9yg4W",
        "outputId": "c7588fc2-54c3-4721-ba94-7af492c876b9"
      },
      "execution_count": 56,
      "outputs": [
        {
          "output_type": "stream",
          "name": "stdout",
          "text": [
            "Numbers have been written to 'numbers.txt'.\n"
          ]
        }
      ]
    },
    {
      "cell_type": "code",
      "source": [
        "# 18. How would you implement a basic logging setup that logs to a file with rotation after 1MB?\n",
        "\n",
        "import logging\n",
        "from logging.handlers import RotatingFileHandler\n",
        "\n",
        "# Create a logger\n",
        "logger = logging.getLogger('my_logger')\n",
        "logger.setLevel(logging.DEBUG)  # Set the logging level to DEBUG\n",
        "\n",
        "# Create a rotating file handler that will create a new file after the log file exceeds 1MB\n",
        "handler = RotatingFileHandler('my_log.log', maxBytes=1e6, backupCount=3)  # 1e6 is 1MB\n",
        "handler.setLevel(logging.DEBUG)  # Set the log level for the handler\n",
        "\n",
        "# Create a formatter and set it for the handler\n",
        "formatter = logging.Formatter('%(asctime)s - %(levelname)s - %(message)s')\n",
        "handler.setFormatter(formatter)\n",
        "\n",
        "# Add the handler to the logger\n",
        "logger.addHandler(handler)\n",
        "\n",
        "# Example of logging some messages\n",
        "logger.debug(\"This is a debug message.\")\n",
        "logger.info(\"This is an info message.\")\n",
        "logger.warning(\"This is a warning message.\")\n",
        "logger.error(\"This is an error message.\")\n",
        "logger.critical(\"This is a critical message.\")\n",
        "\n",
        "print(\"Logging setup complete. Check the 'my_log.log' file.\")\n"
      ],
      "metadata": {
        "colab": {
          "base_uri": "https://localhost:8080/"
        },
        "id": "xKO4j_B8zBbL",
        "outputId": "bf849738-3807-4c92-d03f-16e339935384"
      },
      "execution_count": 57,
      "outputs": [
        {
          "output_type": "stream",
          "name": "stderr",
          "text": [
            "DEBUG:my_logger:This is a debug message.\n",
            "INFO:my_logger:This is an info message.\n",
            "WARNING:my_logger:This is a warning message.\n",
            "ERROR:my_logger:This is an error message.\n",
            "CRITICAL:my_logger:This is a critical message.\n"
          ]
        },
        {
          "output_type": "stream",
          "name": "stdout",
          "text": [
            "Logging setup complete. Check the 'my_log.log' file.\n"
          ]
        }
      ]
    },
    {
      "cell_type": "code",
      "source": [
        "# 19. Write a program that handles both IndexError and KeyError using a try-except block?\n",
        "\n",
        "try:\n",
        "    # Example with a list that may cause an IndexError\n",
        "    my_list = [1, 2, 3]\n",
        "    print(my_list[5])  # This will raise an IndexError\n",
        "\n",
        "    # Example with a dictionary that may cause a KeyError\n",
        "    my_dict = {'name': 'Alice', 'age': 30}\n",
        "    print(my_dict['address'])  # This will raise a KeyError\n",
        "\n",
        "except IndexError as ie:\n",
        "    print(f\"IndexError: {ie}\")\n",
        "\n",
        "except KeyError as ke:\n",
        "    print(f\"KeyError: {ke}\")\n"
      ],
      "metadata": {
        "colab": {
          "base_uri": "https://localhost:8080/"
        },
        "id": "uJSGCQZxzJ0h",
        "outputId": "d123ff47-c244-4ead-cc2d-b4df3578bfc5"
      },
      "execution_count": 58,
      "outputs": [
        {
          "output_type": "stream",
          "name": "stdout",
          "text": [
            "IndexError: list index out of range\n"
          ]
        }
      ]
    },
    {
      "cell_type": "code",
      "source": [
        "# 20. How would you open a file and read its contents using a context manager in Python?\n",
        "\n",
        "# In Python, you can use a context manager to open a file and read its contents safely. The with statement is typically used as a context manager.\n",
        "# # It ensures that the file is properly closed after the operations are done, even if an error occurs during the process.\n",
        "\n",
        "# Use the context manager to open the file\n",
        "with open('example.txt', 'r') as file:\n",
        "    # Read the contents of the file\n",
        "    content = file.read()\n",
        "    print(content)\n"
      ],
      "metadata": {
        "colab": {
          "base_uri": "https://localhost:8080/"
        },
        "id": "dN_O-3_fzTze",
        "outputId": "62a5204a-474b-411b-ae50-5fe8b14988ea"
      },
      "execution_count": 59,
      "outputs": [
        {
          "output_type": "stream",
          "name": "stdout",
          "text": [
            "Hello, world!This is the new data that will be appended.\n",
            "\n"
          ]
        }
      ]
    },
    {
      "cell_type": "code",
      "source": [
        "# 21. Write a Python program that reads a file and prints the number of occurrences of a specific word?\n",
        "\n",
        "def count_word_in_file(file_path, word_to_count):\n",
        "    try:\n",
        "        with open(file_path, 'r') as file:\n",
        "            # Read the content of the file\n",
        "            content = file.read()\n",
        "\n",
        "            # Count the occurrences of the word (case insensitive)\n",
        "            word_count = content.lower().split().count(word_to_count.lower())\n",
        "\n",
        "            return word_count\n",
        "    except FileNotFoundError:\n",
        "        print(f\"Error: The file '{file_path}' does not exist.\")\n",
        "        return 0\n",
        "    except IOError as e:\n",
        "        print(f\"Error reading the file: {e}\")\n",
        "        return 0\n",
        "\n",
        "# Define the file path and the word to count\n",
        "file_path = 'example.txt'\n",
        "word_to_count = 'python'\n",
        "\n",
        "# Get the count of the word\n",
        "count = count_word_in_file(file_path, word_to_count)\n",
        "\n",
        "# Print the result\n",
        "if count > 0:\n",
        "    print(f\"The word '{word_to_count}' appears {count} times in the file.\")\n",
        "else:\n",
        "    print(f\"The word '{word_to_count}' was not found in the file.\")\n"
      ],
      "metadata": {
        "colab": {
          "base_uri": "https://localhost:8080/"
        },
        "id": "TwlJ05n9zh0A",
        "outputId": "8042e2e1-8505-4ecb-8753-3640a7bf2812"
      },
      "execution_count": 60,
      "outputs": [
        {
          "output_type": "stream",
          "name": "stdout",
          "text": [
            "The word 'python' was not found in the file.\n"
          ]
        }
      ]
    },
    {
      "cell_type": "code",
      "source": [
        "# 22. How can you check if a file is empty before attempting to read its contents?\n",
        "\n",
        "import os\n",
        "\n",
        "def check_if_file_is_empty(file_path):\n",
        "    try:\n",
        "        # Check if the file exists and is empty\n",
        "        if os.path.getsize(file_path) == 0:\n",
        "            print(f\"The file '{file_path}' is empty.\")\n",
        "            return True  # File is empty\n",
        "        else:\n",
        "            print(f\"The file '{file_path}' is not empty.\")\n",
        "            return False  # File is not empty\n",
        "    except FileNotFoundError:\n",
        "        print(f\"Error: The file '{file_path}' does not exist.\")\n",
        "        return False  # File doesn't exist\n",
        "    except IOError as e:\n",
        "        print(f\"Error accessing the file: {e}\")\n",
        "        return False  # Handle other IO errors\n",
        "\n",
        "# Example usage\n",
        "file_path = 'example.txt'\n",
        "\n",
        "if not check_if_file_is_empty(file_path):\n",
        "    # Open and read the file if it's not empty\n",
        "    with open(file_path, 'r') as file:\n",
        "        content = file.read()\n",
        "        print(\"File content:\")\n",
        "        print(content)\n",
        "else:\n",
        "    print(\"No content to read, as the file is empty.\")\n"
      ],
      "metadata": {
        "colab": {
          "base_uri": "https://localhost:8080/"
        },
        "id": "RCQ67nxqzt48",
        "outputId": "4e3d4856-283a-4aeb-9251-24464d57e794"
      },
      "execution_count": 61,
      "outputs": [
        {
          "output_type": "stream",
          "name": "stdout",
          "text": [
            "The file 'example.txt' is not empty.\n",
            "File content:\n",
            "Hello, world!This is the new data that will be appended.\n",
            "\n"
          ]
        }
      ]
    },
    {
      "cell_type": "code",
      "source": [
        "# 23. Write a Python program that writes to a log file when an error occurs during file handling.\n",
        "\n",
        "import logging\n",
        "\n",
        "# Set up logging configuration\n",
        "logging.basicConfig(\n",
        "    filename='file_handling.log',  # Log file to store the logs\n",
        "    level=logging.ERROR,  # Log only error and above (ERROR, CRITICAL)\n",
        "    format='%(asctime)s - %(levelname)s - %(message)s'\n",
        ")\n",
        "\n",
        "def read_file(file_path):\n",
        "    try:\n",
        "        # Try to open and read the file\n",
        "        with open(file_path, 'r') as file:\n",
        "            content = file.read()\n",
        "            print(content)\n",
        "    except FileNotFoundError as e:\n",
        "        # Log the error if the file is not found\n",
        "        logging.error(f\"FileNotFoundError: {e} - The file '{file_path}' was not found.\")\n",
        "    except PermissionError as e:\n",
        "        # Log the error if there are permission issues\n",
        "        logging.error(f\"PermissionError: {e} - You don't have permission to read the file '{file_path}'.\")\n",
        "    except Exception as e:\n",
        "        # Catch any other exceptions and log them\n",
        "        logging.error(f\"Exception: {e} - An unexpected error occurred while handling the file '{file_path}'.\")\n",
        "\n",
        "def write_to_file(file_path, content):\n",
        "    try:\n",
        "        # Try to open the file in write mode and write content\n",
        "        with open(file_path, 'w') as file:\n",
        "            file.write(content)\n",
        "    except PermissionError as e:\n",
        "        # Log the error if there are permission issues\n",
        "        logging.error(f\"PermissionError: {e} - You don't have permission to write to the file '{file_path}'.\")\n",
        "    except Exception as e:\n",
        "        # Catch any other exceptions and log them\n",
        "        logging.error(f\"Exception: {e} - An unexpected error occurred while writing to the file '{file_path}'.\")\n",
        "\n",
        "# Example usage\n",
        "file_to_read = 'example.txt'\n",
        "file_to_write = 'output.txt'\n",
        "\n",
        "# Try to read from a file\n",
        "read_file(file_to_read)\n",
        "\n",
        "# Try to write to a file\n",
        "write_to_file(file_to_write, 'This is some test content.')\n"
      ],
      "metadata": {
        "colab": {
          "base_uri": "https://localhost:8080/"
        },
        "id": "N5DmiuBbz5UV",
        "outputId": "e7ea309f-f1bc-45dc-e956-9f4cc514da38"
      },
      "execution_count": 62,
      "outputs": [
        {
          "output_type": "stream",
          "name": "stdout",
          "text": [
            "Hello, world!This is the new data that will be appended.\n",
            "\n"
          ]
        }
      ]
    },
    {
      "cell_type": "code",
      "source": [],
      "metadata": {
        "id": "tdkYIw_p0Dn3"
      },
      "execution_count": null,
      "outputs": []
    }
  ]
}